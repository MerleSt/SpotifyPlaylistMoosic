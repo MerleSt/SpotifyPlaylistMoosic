{
 "cells": [
  {
   "cell_type": "markdown",
   "id": "b59ae5ab-87dd-40b1-a40e-2aff8459f31e",
   "metadata": {},
   "source": [
    "# Imports"
   ]
  },
  {
   "cell_type": "markdown",
   "id": "ab65c771-d5c5-4e30-ba7d-d0f739f7b54e",
   "metadata": {},
   "source": [
    "Before starting the import into Spotify you need to go to Spotify Developers and make a new App. From there onwards you need to follow this Notebook."
   ]
  },
  {
   "cell_type": "code",
   "execution_count": 32,
   "id": "13241a6b-4302-4a1c-9ccb-b34cc345a25f",
   "metadata": {
    "tags": []
   },
   "outputs": [],
   "source": [
    "import pandas as pd\n",
    "import spotipy\n",
    "from spotipy.oauth2 import SpotifyOAuth\n",
    "# Make a file in your directory containing username, client_id and client_secret\n",
    "import keys"
   ]
  },
  {
   "cell_type": "code",
   "execution_count": 33,
   "id": "ed49895b-8b66-46aa-8a7b-7e415d58e483",
   "metadata": {
    "tags": []
   },
   "outputs": [],
   "source": [
    "song_ids = pd.read_csv('/Users/merlesteffen/Documents/GitHub/Moosic/Data/df_audio_features_5000_cleaned_whitespaces.csv')"
   ]
  },
  {
   "cell_type": "code",
   "execution_count": 34,
   "id": "bb56196d-1e5e-4972-9931-03400c183019",
   "metadata": {
    "tags": []
   },
   "outputs": [
    {
     "data": {
      "text/html": [
       "<div>\n",
       "<style scoped>\n",
       "    .dataframe tbody tr th:only-of-type {\n",
       "        vertical-align: middle;\n",
       "    }\n",
       "\n",
       "    .dataframe tbody tr th {\n",
       "        vertical-align: top;\n",
       "    }\n",
       "\n",
       "    .dataframe thead th {\n",
       "        text-align: right;\n",
       "    }\n",
       "</style>\n",
       "<table border=\"1\" class=\"dataframe\">\n",
       "  <thead>\n",
       "    <tr style=\"text-align: right;\">\n",
       "      <th></th>\n",
       "      <th>name</th>\n",
       "      <th>artist</th>\n",
       "      <th>danceability</th>\n",
       "      <th>energy</th>\n",
       "      <th>key</th>\n",
       "      <th>loudness</th>\n",
       "      <th>mode</th>\n",
       "      <th>speechiness</th>\n",
       "      <th>acousticness</th>\n",
       "      <th>instrumentalness</th>\n",
       "      <th>liveness</th>\n",
       "      <th>valence</th>\n",
       "      <th>tempo</th>\n",
       "      <th>type</th>\n",
       "      <th>duration_ms</th>\n",
       "      <th>time_signature</th>\n",
       "      <th>id</th>\n",
       "      <th>html</th>\n",
       "    </tr>\n",
       "  </thead>\n",
       "  <tbody>\n",
       "    <tr>\n",
       "      <th>2788</th>\n",
       "      <td>Mad World - Bomb A Drop - Mix Cut             ...</td>\n",
       "      <td>Hardwell</td>\n",
       "      <td>0.642</td>\n",
       "      <td>0.961</td>\n",
       "      <td>5</td>\n",
       "      <td>-2.151</td>\n",
       "      <td>1</td>\n",
       "      <td>0.0509</td>\n",
       "      <td>0.00176</td>\n",
       "      <td>0.00709</td>\n",
       "      <td>0.0736</td>\n",
       "      <td>0.151</td>\n",
       "      <td>127.976</td>\n",
       "      <td></td>\n",
       "      <td>153499</td>\n",
       "      <td>4</td>\n",
       "      <td>36jz4zix5d5mE3W3so8cLU</td>\n",
       "      <td>https://open.spotify.com/track/36jz4zix5d5mE3W...</td>\n",
       "    </tr>\n",
       "  </tbody>\n",
       "</table>\n",
       "</div>"
      ],
      "text/plain": [
       "                                                   name  \\\n",
       "2788  Mad World - Bomb A Drop - Mix Cut             ...   \n",
       "\n",
       "                                                artist  danceability  energy  \\\n",
       "2788  Hardwell                                                 0.642   0.961   \n",
       "\n",
       "      key  loudness  mode  speechiness  acousticness  instrumentalness  \\\n",
       "2788    5    -2.151     1       0.0509       0.00176           0.00709   \n",
       "\n",
       "      liveness  valence    tempo   type  duration_ms  time_signature  \\\n",
       "2788    0.0736    0.151  127.976              153499               4   \n",
       "\n",
       "                           id  \\\n",
       "2788  36jz4zix5d5mE3W3so8cLU    \n",
       "\n",
       "                                                   html  \n",
       "2788  https://open.spotify.com/track/36jz4zix5d5mE3W...  "
      ]
     },
     "execution_count": 34,
     "metadata": {},
     "output_type": "execute_result"
    }
   ],
   "source": [
    "song_ids.sample()"
   ]
  },
  {
   "cell_type": "code",
   "execution_count": 35,
   "id": "def01592-f813-4912-9253-714fba69a506",
   "metadata": {
    "tags": []
   },
   "outputs": [],
   "source": [
    "song_ids.drop(columns=['danceability', 'energy', 'key', 'loudness', 'mode', 'speechiness', 'acousticness', 'instrumentalness', 'liveness', 'valence', 'tempo', 'type', 'duration_ms', 'time_signature'], inplace=True)"
   ]
  },
  {
   "cell_type": "code",
   "execution_count": 36,
   "id": "e06cff63-7783-4bff-8032-93f522c0cef7",
   "metadata": {},
   "outputs": [],
   "source": [
    "songss = pd.read_csv('/Users/merlesteffen/Documents/GitHub/Moosic/Data/playlists.csv')"
   ]
  },
  {
   "cell_type": "code",
   "execution_count": 37,
   "id": "a3e4cefd-4080-404f-abfe-3b5dd82d210b",
   "metadata": {
    "tags": []
   },
   "outputs": [],
   "source": [
    "songs = songss.merge(song_ids, on=['name', 'artist'], how='left')"
   ]
  },
  {
   "cell_type": "code",
   "execution_count": 38,
   "id": "c48f113f-e3b2-497b-82f6-3e0f2b6ca34a",
   "metadata": {
    "tags": []
   },
   "outputs": [
    {
     "data": {
      "text/plain": [
       "cluster\n",
       "16    209\n",
       "22    173\n",
       "26    171\n",
       "37    168\n",
       "10    168\n",
       "12    163\n",
       "23    151\n",
       "36    151\n",
       "5     150\n",
       "0     138\n",
       "11    137\n",
       "6     137\n",
       "19    135\n",
       "14    133\n",
       "8     131\n",
       "4     128\n",
       "13    127\n",
       "30    123\n",
       "35    120\n",
       "3     120\n",
       "20    117\n",
       "7     115\n",
       "21    108\n",
       "2     107\n",
       "27    105\n",
       "9     103\n",
       "31    100\n",
       "18     99\n",
       "15     99\n",
       "41     92\n",
       "38     91\n",
       "24     88\n",
       "28     86\n",
       "1      86\n",
       "46     78\n",
       "43     76\n",
       "49     71\n",
       "32     69\n",
       "42     68\n",
       "39     67\n",
       "17     67\n",
       "40     65\n",
       "34     56\n",
       "47     48\n",
       "25     45\n",
       "33     43\n",
       "29     42\n",
       "45     39\n",
       "44     38\n",
       "48     34\n",
       "dtype: int64"
      ]
     },
     "execution_count": 38,
     "metadata": {},
     "output_type": "execute_result"
    }
   ],
   "source": [
    "# Group by 'cluster' column and count observations\n",
    "cluster_counts = songs.groupby('cluster').size().sort_values(ascending=False)\n",
    "\n",
    "cluster_counts"
   ]
  },
  {
   "cell_type": "code",
   "execution_count": 27,
   "id": "c7bd60d1-0581-4e72-8638-7445f05382dd",
   "metadata": {
    "tags": []
   },
   "outputs": [],
   "source": [
    "scope='playlist-modify-public'\n",
    "username= keys.username\n",
    "redirectUri = 'http://localhost:8080/callback'\n",
    "client_id=keys.client_id\n",
    "client_secret=keys.client_secret\n",
    "playlist_name = 'My Once Playlist'\n",
    "playlist_description = 'App for my bootcamp project Moosaic. Create playlists through clustering.'"
   ]
  },
  {
   "cell_type": "code",
   "execution_count": 28,
   "id": "058abce1-33d6-422d-a7ec-e2465a48dacd",
   "metadata": {},
   "outputs": [],
   "source": [
    "token = SpotifyOAuth(scope=scope,username=username,client_id=client_id,\n",
    "                     client_secret=client_secret, redirect_uri=redirectUri)"
   ]
  },
  {
   "cell_type": "code",
   "execution_count": 29,
   "id": "8f228fb0-9386-4910-a800-92fbb13f039b",
   "metadata": {},
   "outputs": [],
   "source": [
    "spotifyObject = spotipy.Spotify(auth_manager=token)"
   ]
  },
  {
   "cell_type": "code",
   "execution_count": 30,
   "id": "37501405-b943-4c67-9bf0-284a49375fb3",
   "metadata": {
    "tags": []
   },
   "outputs": [],
   "source": [
    "for clust in songs['cluster'].unique():\n",
    "    playlist_name = f'Playlist Cluster {clust}'\n",
    "    playlist_description = 'App for my bootcamp project Moosaic. Create playlists through clustering.'\n",
    "    \n",
    "    try:\n",
    "        playlist_id = spotifyObject.user_playlist_create(user=username, name=playlist_name, \n",
    "                                                         description=playlist_description, public=True)\n",
    "        print(f\"Playlist created with ID: {playlist_id}\")\n",
    "    except Exception as e:\n",
    "        print(f\"An error occurred: {e}\")\n",
    "\n",
    "    #spotifyObject.user_playlist_create(user=username, name=playlist_name, description=playlist_description, public=True)\n",
    "    \n",
    "    list_of_songs = []\n",
    "\n",
    "    # Filter songs for cluster 0\n",
    "    cluster_cluster_songs = songs[songs['cluster'] == cluster]\n",
    "\n",
    "    for i, row in cluster_cluster_songs.iterrows():\n",
    "        list_of_songs.append(f'spotify:track:{row[\"id\"]}')\n",
    "\n",
    "    spotifyObject.user_playlist_add_tracks(user=username,playlist_id=playlist_id['id'],tracks=list_of_songs)"
   ]
  },
  {
   "cell_type": "code",
   "execution_count": 10,
   "id": "749f701b-3977-4d0c-a7ce-b9e69f1dbe4d",
   "metadata": {},
   "outputs": [],
   "source": [
    "list_of_songs=[]\n",
    "for i, row in songs.iterrows():\n",
    "    list_of_songs.append(f'spotify:track:{row[\"id\"]}')"
   ]
  },
  {
   "cell_type": "code",
   "execution_count": null,
   "id": "864d2152-d03e-4cfc-bda5-d99f9babda53",
   "metadata": {},
   "outputs": [],
   "source": [
    "list_of_songs"
   ]
  },
  {
   "cell_type": "code",
   "execution_count": null,
   "id": "eed56e5a-0dbc-49e5-aa87-73abde31e08f",
   "metadata": {
    "tags": []
   },
   "outputs": [],
   "source": [
    "def chunks(lst, n):\n",
    "    \"\"\"Yield successive n-sized chunks from lst.\"\"\"\n",
    "    for i in range(0, len(lst), n):\n",
    "        yield lst[i:i + n]\n",
    "\n",
    "# The maximum number of tracks you can add per request\n",
    "MAX_TRACKS_PER_REQUEST = 100\n",
    "\n",
    "# Split the list_of_songs into chunks\n",
    "song_chunks = list(chunks(list_of_songs, MAX_TRACKS_PER_REQUEST))\n",
    "\n",
    "# Add each chunk to the playlist\n",
    "for chunk in song_chunks:\n",
    "    spotifyObject.user_playlist_add_tracks(user=username, playlist_id=playlist_id['id'], tracks=chunk)"
   ]
  },
  {
   "cell_type": "code",
   "execution_count": null,
   "id": "063577d1-755e-4283-ac55-08307a1a4497",
   "metadata": {},
   "outputs": [],
   "source": [
    "spotifyObject.user_playlist_add_tracks(user=username,playlist_id=playlist_id['id'],tracks=list_of_songs)"
   ]
  },
  {
   "cell_type": "markdown",
   "id": "8b238e0b-0990-46ba-b620-4dfdd818f8b4",
   "metadata": {
    "tags": []
   },
   "source": [
    "# Try otherwise"
   ]
  },
  {
   "cell_type": "code",
   "execution_count": null,
   "id": "3fcd4851-856f-4b80-a04b-100db0678538",
   "metadata": {
    "tags": []
   },
   "outputs": [],
   "source": [
    "# import spotipy\n",
    "# import pandas as pd\n",
    "# from spotipy.oauth2 import SpotifyOAuth\n",
    "# import keys\n",
    "\n",
    "# songs = pd.read_csv('/Users/merlesteffen/Documents/GitHub/Moosic/Data/playlists.csv')\n",
    "\n",
    "# # Spotify API credentials (You'll get these from the Spotify Developer Dashboard)\n",
    "# SPOTIPY_CLIENT_ID = keys.client_id\n",
    "# SPOTIPY_CLIENT_SECRET = keys.client_secret\n",
    "# SPOTIPY_REDIRECT_URI = 'http://localhost:8888/callback'\n",
    "\n",
    "# # Setting up spotipy with user authentication\n",
    "# sp = spotipy.Spotify(auth_manager=SpotifyOAuth(\n",
    "#     client_id=SPOTIPY_CLIENT_ID,\n",
    "#     client_secret=SPOTIPY_CLIENT_SECRET,\n",
    "#     redirect_uri=SPOTIPY_REDIRECT_URI,\n",
    "#     scope=\"playlist-modify-public\"  # This scope allows creating public playlists\n",
    "# ))\n",
    "\n",
    "# # Your user ID (You can also retrieve this programmatically after authentication)\n",
    "# username = keys.username\n",
    "\n",
    "# # Details for the new playlist\n",
    "# playlist_name = \"My New Playlist\"\n",
    "# playlist_description = \"This is a playlist created using the Spotify Web API.\"\n",
    "\n",
    "# try:\n",
    "#     # Create a new playlist\n",
    "#     playlist = sp.user_playlist_create(user=username, name=playlist_name, \n",
    "#                                        description=playlist_description, public=True)\n",
    "#     print(f\"Playlist created with ID: {playlist['id']}\")\n",
    "# except Exception as e:\n",
    "#     print(f\"An error occurred: {e}\")\n"
   ]
  }
 ],
 "metadata": {
  "kernelspec": {
   "display_name": "Python 3 (ipykernel)",
   "language": "python",
   "name": "python3"
  },
  "language_info": {
   "codemirror_mode": {
    "name": "ipython",
    "version": 3
   },
   "file_extension": ".py",
   "mimetype": "text/x-python",
   "name": "python",
   "nbconvert_exporter": "python",
   "pygments_lexer": "ipython3",
   "version": "3.11.4"
  }
 },
 "nbformat": 4,
 "nbformat_minor": 5
}
