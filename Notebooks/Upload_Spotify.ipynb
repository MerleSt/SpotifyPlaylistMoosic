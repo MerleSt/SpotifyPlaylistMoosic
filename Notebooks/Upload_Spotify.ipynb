{
 "cells": [
  {
   "cell_type": "markdown",
   "id": "b59ae5ab-87dd-40b1-a40e-2aff8459f31e",
   "metadata": {},
   "source": [
    "# Imports"
   ]
  },
  {
   "cell_type": "markdown",
   "id": "ab65c771-d5c5-4e30-ba7d-d0f739f7b54e",
   "metadata": {},
   "source": [
    "Before starting the import into Spotify you need to go to Spotify Developers and make a new App. From there onwards you need to follow this Notebook."
   ]
  },
  {
   "cell_type": "code",
   "execution_count": 1,
   "id": "13241a6b-4302-4a1c-9ccb-b34cc345a25f",
   "metadata": {
    "tags": []
   },
   "outputs": [],
   "source": [
    "import pandas as pd\n",
    "import spotipy\n",
    "from spotipy.oauth2 import SpotifyOAuth\n",
    "# Make a file in your directory containing username, client_id and client_secret\n",
    "import keys"
   ]
  },
  {
   "cell_type": "code",
   "execution_count": 2,
   "id": "ed49895b-8b66-46aa-8a7b-7e415d58e483",
   "metadata": {
    "tags": []
   },
   "outputs": [],
   "source": [
    "song_ids = pd.read_csv('/Users/merlesteffen/Documents/GitHub/Moosic/Data/df_audio_features_5000_cleaned_whitespaces.csv')"
   ]
  },
  {
   "cell_type": "code",
   "execution_count": 3,
   "id": "def01592-f813-4912-9253-714fba69a506",
   "metadata": {
    "tags": []
   },
   "outputs": [],
   "source": [
    "song_ids.drop(columns=['danceability', 'energy', 'key', 'loudness', 'mode', 'speechiness', 'acousticness', 'instrumentalness', 'liveness', 'valence', 'tempo', 'type', 'duration_ms', 'time_signature'], inplace=True)"
   ]
  },
  {
   "cell_type": "code",
   "execution_count": 4,
   "id": "e06cff63-7783-4bff-8032-93f522c0cef7",
   "metadata": {},
   "outputs": [],
   "source": [
    "songss = pd.read_csv('/Users/merlesteffen/Documents/GitHub/Moosic/Data/playlists.csv')"
   ]
  },
  {
   "cell_type": "code",
   "execution_count": 5,
   "id": "a3e4cefd-4080-404f-abfe-3b5dd82d210b",
   "metadata": {
    "tags": []
   },
   "outputs": [],
   "source": [
    "songs = songss.merge(song_ids, on=['name', 'artist'], how='left')"
   ]
  },
  {
   "cell_type": "code",
   "execution_count": 6,
   "id": "c7bd60d1-0581-4e72-8638-7445f05382dd",
   "metadata": {
    "tags": []
   },
   "outputs": [],
   "source": [
    "scope='playlist-modify-public'\n",
    "username= keys.username\n",
    "redirectUri = 'http://localhost:8080/callback'\n",
    "client_id=keys.client_id\n",
    "client_secret=keys.client_secret\n",
    "playlist_name = 'My Once Playlist'\n",
    "playlist_description = 'App for my bootcamp project Moosaic. Create playlists through clustering.'"
   ]
  },
  {
   "cell_type": "code",
   "execution_count": 7,
   "id": "058abce1-33d6-422d-a7ec-e2465a48dacd",
   "metadata": {},
   "outputs": [],
   "source": [
    "token = SpotifyOAuth(scope=scope,username=username,client_id=client_id,\n",
    "                     client_secret=client_secret, redirect_uri=redirectUri)"
   ]
  },
  {
   "cell_type": "code",
   "execution_count": 8,
   "id": "8f228fb0-9386-4910-a800-92fbb13f039b",
   "metadata": {},
   "outputs": [],
   "source": [
    "spotifyObject = spotipy.Spotify(auth_manager=token)"
   ]
  },
  {
   "cell_type": "code",
   "execution_count": 12,
   "id": "37501405-b943-4c67-9bf0-284a49375fb3",
   "metadata": {
    "tags": []
   },
   "outputs": [
    {
     "name": "stdout",
     "output_type": "stream",
     "text": [
      "Playlist created with ID: 6yJuz1cAgG7fKU70rcprka\n",
      "Error adding tracks to playlist: http status: 400, code:-1 - Unsupported URL / URI., reason: None\n",
      "Playlist created with ID: 2MwR7SVMfQBVMoXEhrQLYD\n",
      "Error adding tracks to playlist: http status: 400, code:-1 - Unsupported URL / URI., reason: None\n",
      "Error adding tracks to playlist: http status: 400, code:-1 - Unsupported URL / URI., reason: None\n",
      "Playlist created with ID: 1nuFfqX04Bkhwtd6QgLcQK\n",
      "Error adding tracks to playlist: http status: 400, code:-1 - Unsupported URL / URI., reason: None\n",
      "Error adding tracks to playlist: http status: 400, code:-1 - Unsupported URL / URI., reason: None\n",
      "Playlist created with ID: 1bRnXsd8CZ5AGT2rxY72Sp\n",
      "Error adding tracks to playlist: http status: 400, code:-1 - Unsupported URL / URI., reason: None\n",
      "Error adding tracks to playlist: http status: 400, code:-1 - Unsupported URL / URI., reason: None\n",
      "Playlist created with ID: 3wdIlLdUTc6TVpqXkIHsXv\n",
      "Error adding tracks to playlist: http status: 400, code:-1 - Unsupported URL / URI., reason: None\n",
      "Error adding tracks to playlist: http status: 400, code:-1 - Unsupported URL / URI., reason: None\n",
      "Playlist created with ID: 7jq729ONHNBLRESEzXObhz\n",
      "Error adding tracks to playlist: http status: 400, code:-1 - Unsupported URL / URI., reason: None\n",
      "Playlist created with ID: 7wPpdHdGGFOroWkvbdqW77\n",
      "Error adding tracks to playlist: http status: 400, code:-1 - Unsupported URL / URI., reason: None\n",
      "Playlist created with ID: 25cKBNmv4oAjzr0hWBXHbk\n",
      "Error adding tracks to playlist: http status: 400, code:-1 - Unsupported URL / URI., reason: None\n",
      "Playlist created with ID: 484a5xEA1atmljRay6avZe\n",
      "Error adding tracks to playlist: http status: 400, code:-1 - Unsupported URL / URI., reason: None\n",
      "Playlist created with ID: 09gHmhfOoYOGTq3nl9kuDJ\n",
      "Error adding tracks to playlist: http status: 400, code:-1 - Unsupported URL / URI., reason: None\n",
      "Playlist created with ID: 7cd0Lj0GGYUxjBvXc02vt4\n",
      "Error adding tracks to playlist: http status: 400, code:-1 - Unsupported URL / URI., reason: None\n",
      "Error adding tracks to playlist: http status: 400, code:-1 - Unsupported URL / URI., reason: None\n",
      "Playlist created with ID: 4bie8kzGwR3xYKXNFCHtXo\n",
      "Error adding tracks to playlist: http status: 400, code:-1 - Unsupported URL / URI., reason: None\n",
      "Playlist created with ID: 3puZmf2A6oKEH2H4Ml6Ms3\n",
      "Error adding tracks to playlist: http status: 400, code:-1 - Unsupported URL / URI., reason: None\n",
      "Playlist created with ID: 3SbKdWvlu5a4aANtVCnliE\n",
      "Error adding tracks to playlist: http status: 400, code:-1 - Unsupported URL / URI., reason: None\n",
      "Error adding tracks to playlist: http status: 400, code:-1 - Unsupported URL / URI., reason: None\n",
      "Playlist created with ID: 0ryMOQuBwfU7KOjJuVpAw3\n",
      "Error adding tracks to playlist: http status: 400, code:-1 - Unsupported URL / URI., reason: None\n",
      "Error adding tracks to playlist: http status: 400, code:-1 - Unsupported URL / URI., reason: None\n",
      "Playlist created with ID: 2iPtnITygJS54nur8mklwd\n",
      "Error adding tracks to playlist: http status: 400, code:-1 - Unsupported URL / URI., reason: None\n",
      "Playlist created with ID: 46guXUtRADAO8z1vcIXnnL\n",
      "Error adding tracks to playlist: http status: 400, code:-1 - Unsupported URL / URI., reason: None\n",
      "Playlist created with ID: 0PWCijCapyRzGeZ6ooBppD\n",
      "Error adding tracks to playlist: http status: 400, code:-1 - Unsupported URL / URI., reason: None\n",
      "Playlist created with ID: 3bEre4j3ZYGpxUo1A3wh8Z\n",
      "Error adding tracks to playlist: http status: 400, code:-1 - Unsupported URL / URI., reason: None\n",
      "Error adding tracks to playlist: http status: 400, code:-1 - Unsupported URL / URI., reason: None\n",
      "Error adding tracks to playlist: http status: 400, code:-1 - Unsupported URL / URI., reason: None\n",
      "Playlist created with ID: 3ftcDeUZxcHHyPEHXpcyRr\n",
      "Error adding tracks to playlist: http status: 400, code:-1 - Unsupported URL / URI., reason: None\n",
      "Playlist created with ID: 48VFDDMOXSHtlYeZyUkTlK\n",
      "Error adding tracks to playlist: http status: 400, code:-1 - Unsupported URL / URI., reason: None\n",
      "Playlist created with ID: 3F6FANPn2tj6UqjQKtYIbM\n",
      "Error adding tracks to playlist: http status: 400, code:-1 - Unsupported URL / URI., reason: None\n",
      "Playlist created with ID: 68YfoIyrrbU4xvnG1xn5kE\n",
      "Error adding tracks to playlist: http status: 400, code:-1 - Unsupported URL / URI., reason: None\n",
      "Playlist created with ID: 6lvwgERe2MPHnOKvgTkfZg\n",
      "Error adding tracks to playlist: http status: 400, code:-1 - Unsupported URL / URI., reason: None\n",
      "Error adding tracks to playlist: http status: 400, code:-1 - Unsupported URL / URI., reason: None\n",
      "Error adding tracks to playlist: http status: 400, code:-1 - Unsupported URL / URI., reason: None\n",
      "Playlist created with ID: 3V0rrpbkutBLje577aX1RE\n",
      "Error adding tracks to playlist: http status: 400, code:-1 - Unsupported URL / URI., reason: None\n",
      "Error adding tracks to playlist: http status: 400, code:-1 - Unsupported URL / URI., reason: None\n",
      "Playlist created with ID: 3zSqhisBNM7THANdUcTaHU\n",
      "Error adding tracks to playlist: http status: 400, code:-1 - Unsupported URL / URI., reason: None\n",
      "Playlist created with ID: 3TcI6uCs7UYN5mARG7R478\n",
      "Error adding tracks to playlist: http status: 400, code:-1 - Unsupported URL / URI., reason: None\n",
      "Error adding tracks to playlist: http status: 400, code:-1 - Unsupported URL / URI., reason: None\n",
      "Playlist created with ID: 4sZ3Sbki7VmmQO0Dd46RlQ\n",
      "Error adding tracks to playlist: http status: 400, code:-1 - Unsupported URL / URI., reason: None\n",
      "Playlist created with ID: 4RxRUxZuJaxn3TT1esQgvi\n",
      "Error adding tracks to playlist: http status: 400, code:-1 - Unsupported URL / URI., reason: None\n",
      "Error adding tracks to playlist: http status: 400, code:-1 - Unsupported URL / URI., reason: None\n",
      "Playlist created with ID: 7t7lIgf0eBFTNy2VZMaSSY\n",
      "Error adding tracks to playlist: http status: 400, code:-1 - Unsupported URL / URI., reason: None\n",
      "Error adding tracks to playlist: http status: 400, code:-1 - Unsupported URL / URI., reason: None\n",
      "Playlist created with ID: 4ry86jBwQne4nx9jNCYawk\n",
      "Error adding tracks to playlist: http status: 400, code:-1 - Unsupported URL / URI., reason: None\n",
      "Error adding tracks to playlist: http status: 400, code:-1 - Unsupported URL / URI., reason: None\n",
      "Playlist created with ID: 36peucXJGrFwsMJxWCd0RC\n",
      "Error adding tracks to playlist: http status: 400, code:-1 - Unsupported URL / URI., reason: None\n",
      "Playlist created with ID: 0OoVNH9mnTd9eOKJFBVy8R\n",
      "Error adding tracks to playlist: http status: 400, code:-1 - Unsupported URL / URI., reason: None\n",
      "Error adding tracks to playlist: http status: 400, code:-1 - Unsupported URL / URI., reason: None\n",
      "Playlist created with ID: 0yp1C6KJfucsG6cGnnndOA\n",
      "Error adding tracks to playlist: http status: 400, code:-1 - Unsupported URL / URI., reason: None\n",
      "Error adding tracks to playlist: http status: 400, code:-1 - Unsupported URL / URI., reason: None\n",
      "Playlist created with ID: 1kUeKO0fezUu19tj3LFioZ\n",
      "Error adding tracks to playlist: http status: 400, code:-1 - Unsupported URL / URI., reason: None\n",
      "Error adding tracks to playlist: http status: 400, code:-1 - Unsupported URL / URI., reason: None\n",
      "Playlist created with ID: 2cGEDPCoAwmABcnEsqYX2H\n",
      "Error adding tracks to playlist: http status: 400, code:-1 - Unsupported URL / URI., reason: None\n",
      "Error adding tracks to playlist: http status: 400, code:-1 - Unsupported URL / URI., reason: None\n",
      "Playlist created with ID: 1NFjggZLv5CIacq9A2jQI7\n",
      "Error adding tracks to playlist: http status: 400, code:-1 - Unsupported URL / URI., reason: None\n",
      "Playlist created with ID: 1dOSdL6nJ2bkan6OAKY1kh\n",
      "Error adding tracks to playlist: http status: 400, code:-1 - Unsupported URL / URI., reason: None\n",
      "Error adding tracks to playlist: http status: 400, code:-1 - Unsupported URL / URI., reason: None\n",
      "Playlist created with ID: 4SF7O8dTuXyhXME9I9qAHv\n",
      "Error adding tracks to playlist: http status: 400, code:-1 - Unsupported URL / URI., reason: None\n",
      "Error adding tracks to playlist: http status: 400, code:-1 - Unsupported URL / URI., reason: None\n",
      "Playlist created with ID: 0GQNnKMJJ4bHlUQd5pBkxt\n",
      "Error adding tracks to playlist: http status: 400, code:-1 - Unsupported URL / URI., reason: None\n",
      "Playlist created with ID: 1Erk3lzqhFY32pn9RfTNA0\n",
      "Error adding tracks to playlist: http status: 400, code:-1 - Unsupported URL / URI., reason: None\n",
      "Playlist created with ID: 330PBd8pO4JgvoCBfsywqx\n",
      "Error adding tracks to playlist: http status: 400, code:-1 - Unsupported URL / URI., reason: None\n",
      "Error adding tracks to playlist: http status: 400, code:-1 - Unsupported URL / URI., reason: None\n",
      "Playlist created with ID: 2vcGakeOqxMCSzz5JlR3FJ\n",
      "Error adding tracks to playlist: http status: 400, code:-1 - Unsupported URL / URI., reason: None\n",
      "Error adding tracks to playlist: http status: 400, code:-1 - Unsupported URL / URI., reason: None\n",
      "Playlist created with ID: 01NRt8lttHCSmjlfe1Ofuy\n",
      "Error adding tracks to playlist: http status: 400, code:-1 - Unsupported URL / URI., reason: None\n",
      "Error adding tracks to playlist: http status: 400, code:-1 - Unsupported URL / URI., reason: None\n",
      "Playlist created with ID: 3HVXnUJknoaMTjVLrVNaZ8\n",
      "Error adding tracks to playlist: http status: 400, code:-1 - Unsupported URL / URI., reason: None\n",
      "Playlist created with ID: 60aS4jrvRMzwrT5O6iOGVG\n",
      "Error adding tracks to playlist: http status: 400, code:-1 - Unsupported URL / URI., reason: None\n",
      "Error adding tracks to playlist: http status: 400, code:-1 - Unsupported URL / URI., reason: None\n",
      "Playlist created with ID: 5rIjYxTETTZbhPuDiLTQbI\n",
      "Error adding tracks to playlist: http status: 400, code:-1 - Unsupported URL / URI., reason: None\n",
      "Error adding tracks to playlist: http status: 400, code:-1 - Unsupported URL / URI., reason: None\n",
      "Playlist created with ID: 2KYwu9tlmD54L25E9lRhPI\n",
      "Error adding tracks to playlist: http status: 400, code:-1 - Unsupported URL / URI., reason: None\n",
      "Error adding tracks to playlist: http status: 400, code:-1 - Unsupported URL / URI., reason: None\n"
     ]
    }
   ],
   "source": [
    "for clust in songs['cluster'].unique():\n",
    "    playlist_name = f'Playlist Cluster {clust}'\n",
    "    playlist_description = 'App for my bootcamp project Moosaic. Create playlists through clustering.'\n",
    "    \n",
    "    try:\n",
    "        playlist_response = spotifyObject.user_playlist_create(user=username, name=playlist_name, \n",
    "                                                         description=playlist_description, public=True)\n",
    "        playlist_id = playlist_response['id']\n",
    "        print(f\"Playlist created with ID: {playlist_id}\")\n",
    "    except Exception as e:\n",
    "        print(f\"An error occurred: {e}\")\n",
    "\n",
    "    #spotifyObject.user_playlist_create(user=username, name=playlist_name, description=playlist_description, public=True)\n",
    "    \n",
    "    list_of_songs = []\n",
    "\n",
    "    # Filter songs for cluster clust\n",
    "    cluster_cluster_songs = songs[songs['cluster'] == clust]\n",
    "\n",
    "    for i, row in cluster_cluster_songs.iterrows():\n",
    "        list_of_songs.append(f'spotify:track:{row[\"id\"]}')\n",
    "    \n",
    "    # Split songs into chunks and add them to the playlist\n",
    "    for i in range(0, len(list_of_songs), 100):\n",
    "        chunk = list_of_songs[i:i + 100]\n",
    "        try:\n",
    "            spotifyObject.user_playlist_add_tracks(user=username, playlist_id=playlist_id, tracks=chunk)\n",
    "        except Exception as e:\n",
    "            print(f\"Error adding tracks to playlist: {e}\")\n",
    "\n",
    "    #spotifyObject.user_playlist_add_tracks(user=username,playlist_id=playlist_id['id'],tracks=list_of_songs)"
   ]
  },
  {
   "cell_type": "code",
   "execution_count": null,
   "id": "864d2152-d03e-4cfc-bda5-d99f9babda53",
   "metadata": {},
   "outputs": [],
   "source": [
    "list_of_songs"
   ]
  },
  {
   "cell_type": "code",
   "execution_count": null,
   "id": "063577d1-755e-4283-ac55-08307a1a4497",
   "metadata": {},
   "outputs": [],
   "source": [
    "spotifyObject.user_playlist_add_tracks(user=username,playlist_id=playlist_id['id'],tracks=list_of_songs)"
   ]
  },
  {
   "cell_type": "markdown",
   "id": "8b238e0b-0990-46ba-b620-4dfdd818f8b4",
   "metadata": {
    "tags": []
   },
   "source": [
    "# Try otherwise"
   ]
  },
  {
   "cell_type": "code",
   "execution_count": null,
   "id": "3fcd4851-856f-4b80-a04b-100db0678538",
   "metadata": {
    "tags": []
   },
   "outputs": [],
   "source": [
    "# import spotipy\n",
    "# import pandas as pd\n",
    "# from spotipy.oauth2 import SpotifyOAuth\n",
    "# import keys\n",
    "\n",
    "# songs = pd.read_csv('/Users/merlesteffen/Documents/GitHub/Moosic/Data/playlists.csv')\n",
    "\n",
    "# # Spotify API credentials (You'll get these from the Spotify Developer Dashboard)\n",
    "# SPOTIPY_CLIENT_ID = keys.client_id\n",
    "# SPOTIPY_CLIENT_SECRET = keys.client_secret\n",
    "# SPOTIPY_REDIRECT_URI = 'http://localhost:8888/callback'\n",
    "\n",
    "# # Setting up spotipy with user authentication\n",
    "# sp = spotipy.Spotify(auth_manager=SpotifyOAuth(\n",
    "#     client_id=SPOTIPY_CLIENT_ID,\n",
    "#     client_secret=SPOTIPY_CLIENT_SECRET,\n",
    "#     redirect_uri=SPOTIPY_REDIRECT_URI,\n",
    "#     scope=\"playlist-modify-public\"  # This scope allows creating public playlists\n",
    "# ))\n",
    "\n",
    "# # Your user ID (You can also retrieve this programmatically after authentication)\n",
    "# username = keys.username\n",
    "\n",
    "# # Details for the new playlist\n",
    "# playlist_name = \"My New Playlist\"\n",
    "# playlist_description = \"This is a playlist created using the Spotify Web API.\"\n",
    "\n",
    "# try:\n",
    "#     # Create a new playlist\n",
    "#     playlist = sp.user_playlist_create(user=username, name=playlist_name, \n",
    "#                                        description=playlist_description, public=True)\n",
    "#     print(f\"Playlist created with ID: {playlist['id']}\")\n",
    "# except Exception as e:\n",
    "#     print(f\"An error occurred: {e}\")\n"
   ]
  }
 ],
 "metadata": {
  "kernelspec": {
   "display_name": "Python 3 (ipykernel)",
   "language": "python",
   "name": "python3"
  },
  "language_info": {
   "codemirror_mode": {
    "name": "ipython",
    "version": 3
   },
   "file_extension": ".py",
   "mimetype": "text/x-python",
   "name": "python",
   "nbconvert_exporter": "python",
   "pygments_lexer": "ipython3",
   "version": "3.11.4"
  }
 },
 "nbformat": 4,
 "nbformat_minor": 5
}
