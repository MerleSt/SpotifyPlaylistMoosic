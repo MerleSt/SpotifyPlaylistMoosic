{
 "cells": [
  {
   "cell_type": "markdown",
   "id": "b59ae5ab-87dd-40b1-a40e-2aff8459f31e",
   "metadata": {},
   "source": [
    "# Imports"
   ]
  },
  {
   "cell_type": "markdown",
   "id": "ab65c771-d5c5-4e30-ba7d-d0f739f7b54e",
   "metadata": {},
   "source": [
    "Before starting the import into Spotify you need to go to Spotify Developers and make a new App. From there onwards you need to follow this Notebook."
   ]
  },
  {
   "cell_type": "code",
   "execution_count": 3,
   "id": "13241a6b-4302-4a1c-9ccb-b34cc345a25f",
   "metadata": {
    "tags": []
   },
   "outputs": [],
   "source": [
    "import pandas as pd\n",
    "import spotipy\n",
    "from spotipy.oauth2 import SpotifyOAuth\n",
    "# Make a file in your directory containing username, client_id and client_secret\n",
    "import keys"
   ]
  },
  {
   "cell_type": "code",
   "execution_count": 4,
   "id": "620934ce-3c0d-472f-a90f-3338f0b00d91",
   "metadata": {
    "tags": []
   },
   "outputs": [],
   "source": [
    "songs = pd.read_csv('/Users/merlesteffen/Documents/GitHub/Moosic/Data/playlists.csv')"
   ]
  },
  {
   "cell_type": "code",
   "execution_count": 9,
   "id": "c7bd60d1-0581-4e72-8638-7445f05382dd",
   "metadata": {
    "tags": []
   },
   "outputs": [],
   "source": [
    "scope='playlist-modify-public'\n",
    "username= keys.username\n",
    "redirectUri = 'http://localhost:7000/callback'\n",
    "client_id=keys.client_id\n",
    "client_secret=keys.client_secret\n",
    "playlist_name = 'My Second Playlist'\n",
    "playlist_description = 'App for my bootcamp project Moosaic. Create playlists through clustering.'"
   ]
  },
  {
   "cell_type": "code",
   "execution_count": 10,
   "id": "058abce1-33d6-422d-a7ec-e2465a48dacd",
   "metadata": {},
   "outputs": [],
   "source": [
    "token = SpotifyOAuth(scope=scope,username=username,client_id=client_id,\n",
    "                     client_secret=client_secret, redirect_uri=redirectUri)"
   ]
  },
  {
   "cell_type": "code",
   "execution_count": 11,
   "id": "8f228fb0-9386-4910-a800-92fbb13f039b",
   "metadata": {},
   "outputs": [],
   "source": [
    "spotifyObject = spotipy.Spotify(auth_manager=token)"
   ]
  },
  {
   "cell_type": "code",
   "execution_count": 12,
   "id": "ded0b8cd-4129-4c4e-815f-18baf544a0e4",
   "metadata": {
    "tags": []
   },
   "outputs": [
    {
     "name": "stdout",
     "output_type": "stream",
     "text": [
      "An error occurred: [Errno 48] Address already in use\n"
     ]
    }
   ],
   "source": [
    "try:\n",
    "    playlist_id = spotifyObject.user_playlist_create(user=username, name=playlist_name, \n",
    "                                                     description=playlist_description, public=True)\n",
    "    print(f\"Playlist created with ID: {playlist_id}\")\n",
    "except Exception as e:\n",
    "    print(f\"An error occurred: {e}\")"
   ]
  },
  {
   "cell_type": "code",
   "execution_count": null,
   "id": "4a70f967-f871-413d-8ef1-73237d09349c",
   "metadata": {},
   "outputs": [],
   "source": [
    "playlist_name='our_little_playlist'\n",
    "playlist_description='10 very diferent songs'"
   ]
  },
  {
   "cell_type": "code",
   "execution_count": null,
   "id": "3213ed26-1d89-41b8-8835-4577f43ac382",
   "metadata": {},
   "outputs": [],
   "source": [
    "playlist_id"
   ]
  },
  {
   "cell_type": "code",
   "execution_count": null,
   "id": "749f701b-3977-4d0c-a7ce-b9e69f1dbe4d",
   "metadata": {},
   "outputs": [],
   "source": [
    "list_of_songs=[]\n",
    "for i, row in songs.iterrows():\n",
    "    list_of_songs.append(f'spotify:track:{row[\"id\"]}')"
   ]
  },
  {
   "cell_type": "code",
   "execution_count": null,
   "id": "864d2152-d03e-4cfc-bda5-d99f9babda53",
   "metadata": {},
   "outputs": [],
   "source": [
    "list_of_songs"
   ]
  },
  {
   "cell_type": "code",
   "execution_count": null,
   "id": "063577d1-755e-4283-ac55-08307a1a4497",
   "metadata": {},
   "outputs": [],
   "source": [
    "spotifyObject.user_playlist_add_tracks(user=username,playlist_id=playlist_id['id'],tracks=list_of_songs)"
   ]
  },
  {
   "cell_type": "markdown",
   "id": "8b238e0b-0990-46ba-b620-4dfdd818f8b4",
   "metadata": {},
   "source": [
    "# Try otherwise"
   ]
  },
  {
   "cell_type": "code",
   "execution_count": 14,
   "id": "3fcd4851-856f-4b80-a04b-100db0678538",
   "metadata": {
    "tags": []
   },
   "outputs": [
    {
     "name": "stdout",
     "output_type": "stream",
     "text": [
      "An error occurred: [Errno 48] Address already in use\n"
     ]
    }
   ],
   "source": [
    "import spotipy\n",
    "import pandas as pd\n",
    "from spotipy.oauth2 import SpotifyOAuth\n",
    "import keys\n",
    "\n",
    "songs = pd.read_csv('/Users/merlesteffen/Documents/GitHub/Moosic/Data/playlists.csv')\n",
    "\n",
    "# Spotify API credentials (You'll get these from the Spotify Developer Dashboard)\n",
    "SPOTIPY_CLIENT_ID = keys.client_id\n",
    "SPOTIPY_CLIENT_SECRET = keys.client_secret\n",
    "SPOTIPY_REDIRECT_URI = 'http://localhost:8888/callback'\n",
    "\n",
    "# Setting up spotipy with user authentication\n",
    "sp = spotipy.Spotify(auth_manager=SpotifyOAuth(\n",
    "    client_id=SPOTIPY_CLIENT_ID,\n",
    "    client_secret=SPOTIPY_CLIENT_SECRET,\n",
    "    redirect_uri=SPOTIPY_REDIRECT_URI,\n",
    "    scope=\"playlist-modify-public\"  # This scope allows creating public playlists\n",
    "))\n",
    "\n",
    "# Your user ID (You can also retrieve this programmatically after authentication)\n",
    "username = keys.username\n",
    "\n",
    "# Details for the new playlist\n",
    "playlist_name = \"My New Playlist\"\n",
    "playlist_description = \"This is a playlist created using the Spotify Web API.\"\n",
    "\n",
    "try:\n",
    "    # Create a new playlist\n",
    "    playlist = sp.user_playlist_create(user=username, name=playlist_name, \n",
    "                                       description=playlist_description, public=True)\n",
    "    print(f\"Playlist created with ID: {playlist['id']}\")\n",
    "except Exception as e:\n",
    "    print(f\"An error occurred: {e}\")\n"
   ]
  }
 ],
 "metadata": {
  "kernelspec": {
   "display_name": "Python 3 (ipykernel)",
   "language": "python",
   "name": "python3"
  },
  "language_info": {
   "codemirror_mode": {
    "name": "ipython",
    "version": 3
   },
   "file_extension": ".py",
   "mimetype": "text/x-python",
   "name": "python",
   "nbconvert_exporter": "python",
   "pygments_lexer": "ipython3",
   "version": "3.11.4"
  }
 },
 "nbformat": 4,
 "nbformat_minor": 5
}
