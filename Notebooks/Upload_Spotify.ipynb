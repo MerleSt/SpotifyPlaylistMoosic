{
 "cells": [
  {
   "cell_type": "markdown",
   "id": "b59ae5ab-87dd-40b1-a40e-2aff8459f31e",
   "metadata": {},
   "source": [
    "# Imports"
   ]
  },
  {
   "cell_type": "markdown",
   "id": "ab65c771-d5c5-4e30-ba7d-d0f739f7b54e",
   "metadata": {},
   "source": [
    "Before starting the import into Spotify you need to go to Spotify Developers and make a new App. From there onwards you need to follow this Notebook."
   ]
  },
  {
   "cell_type": "code",
   "execution_count": 14,
   "id": "13241a6b-4302-4a1c-9ccb-b34cc345a25f",
   "metadata": {
    "tags": []
   },
   "outputs": [],
   "source": [
    "import pandas as pd\n",
    "import spotipy\n",
    "from spotipy.oauth2 import SpotifyOAuth\n",
    "# Make a file in your directory containing username, client_id and client_secret\n",
    "import keys"
   ]
  },
  {
   "cell_type": "code",
   "execution_count": 15,
   "id": "ed49895b-8b66-46aa-8a7b-7e415d58e483",
   "metadata": {
    "tags": []
   },
   "outputs": [],
   "source": [
    "song_ids = pd.read_csv('/Users/merlesteffen/Documents/GitHub/Moosic/Data/df_audio_features_5000_cleaned_whitespaces.csv')"
   ]
  },
  {
   "cell_type": "code",
   "execution_count": 16,
   "id": "def01592-f813-4912-9253-714fba69a506",
   "metadata": {
    "tags": []
   },
   "outputs": [],
   "source": [
    "song_ids.drop(columns=['danceability', 'energy', 'key', 'loudness', 'mode', 'speechiness', 'acousticness', 'instrumentalness', 'liveness', 'valence', 'tempo', 'type', 'duration_ms', 'time_signature'], inplace=True)"
   ]
  },
  {
   "cell_type": "code",
   "execution_count": 17,
   "id": "e06cff63-7783-4bff-8032-93f522c0cef7",
   "metadata": {},
   "outputs": [],
   "source": [
    "songss = pd.read_csv('/Users/merlesteffen/Documents/GitHub/Moosic/Data/playlists.csv')"
   ]
  },
  {
   "cell_type": "code",
   "execution_count": 18,
   "id": "a3e4cefd-4080-404f-abfe-3b5dd82d210b",
   "metadata": {
    "tags": []
   },
   "outputs": [],
   "source": [
    "songs = songss.merge(song_ids, on=['name', 'artist'], how='left')"
   ]
  },
  {
   "cell_type": "code",
   "execution_count": 19,
   "id": "c7bd60d1-0581-4e72-8638-7445f05382dd",
   "metadata": {
    "tags": []
   },
   "outputs": [],
   "source": [
    "scope='playlist-modify-public'\n",
    "username= keys.username\n",
    "redirectUri = 'http://localhost:8080/callback'\n",
    "client_id=keys.client_id\n",
    "client_secret=keys.client_secret\n",
    "#playlist_name = 'My Once Playlist'\n",
    "#playlist_description = 'App for my bootcamp project Moosaic. Create playlists through clustering.'"
   ]
  },
  {
   "cell_type": "code",
   "execution_count": 20,
   "id": "058abce1-33d6-422d-a7ec-e2465a48dacd",
   "metadata": {},
   "outputs": [],
   "source": [
    "token = SpotifyOAuth(scope=scope,username=username,client_id=client_id,\n",
    "                     client_secret=client_secret, redirect_uri=redirectUri)"
   ]
  },
  {
   "cell_type": "code",
   "execution_count": 21,
   "id": "8f228fb0-9386-4910-a800-92fbb13f039b",
   "metadata": {},
   "outputs": [],
   "source": [
    "spotifyObject = spotipy.Spotify(auth_manager=token)"
   ]
  },
  {
   "cell_type": "code",
   "execution_count": 22,
   "id": "68ee3514-206b-4acc-b847-046344e1db75",
   "metadata": {
    "tags": []
   },
   "outputs": [
    {
     "name": "stdout",
     "output_type": "stream",
     "text": [
      "Playlist created with ID: 7JiQ59rGvx33qNcb0UuBrW\n",
      "Playlist created with ID: 3WS4UR8P93IZO9gZ3WwhUx\n",
      "Playlist created with ID: 3dM2ePptXCxGvpY0q9mqNy\n",
      "Playlist created with ID: 5WfHHokqJni2C5RWDT6Wj3\n",
      "Playlist created with ID: 3ekpBMyWH8HXqFPpl2wj2a\n",
      "Playlist created with ID: 0Qz6WKRtleyVXjpOMrvmc4\n",
      "Playlist created with ID: 1N7yFTYrJ3r7GaTblnSDgK\n",
      "Playlist created with ID: 5TUt4ahrT55jAANp7PJiYZ\n",
      "Playlist created with ID: 4NwrQxU1T8q3uhdCmWe7ry\n",
      "Playlist created with ID: 7KC3xi1piQcfiqn7f2vYxA\n",
      "Playlist created with ID: 4VuDkBDrwt2XuSTfDLU2ws\n",
      "Playlist created with ID: 5Gv1hJKkEBS0yrI1f99riB\n",
      "Playlist created with ID: 5yx0o7Ghy44zV6J51Nk6Lq\n",
      "Playlist created with ID: 2qVicSaGkPu6LuVe4dlUlg\n",
      "Playlist created with ID: 081DcWfAjXVqDRaqZVeJUI\n",
      "Playlist created with ID: 7zwr5Vsd3nNkjWuC4nTznN\n",
      "Playlist created with ID: 65w3PdtnaZnqqbaixD7dq5\n",
      "Playlist created with ID: 0l4Rff91OekPA2aUvOcp45\n",
      "Playlist created with ID: 01R5zEhfSSugc93LLoGJs6\n",
      "Playlist created with ID: 5cevhgMHmIjumtzZu6wjxm\n",
      "Playlist created with ID: 7s9oBMJpx3qBBhy91jer4B\n",
      "Playlist created with ID: 1JVNBZ6geEyV3a7RG1vOyN\n",
      "Playlist created with ID: 5R1EBlE5y6amjGYz243K5Z\n",
      "Playlist created with ID: 1bS5gDSfipi1a1ad3tv0Yo\n",
      "Playlist created with ID: 22xXCe6AziJTVWsIL3VhwY\n",
      "Playlist created with ID: 4gLpfRjm7fdfzgieHFU929\n",
      "Playlist created with ID: 1tIBWEoA8xoWbPfwOm4gg7\n",
      "Playlist created with ID: 5Njk2zk3E1ZsGScYm32vzn\n",
      "Playlist created with ID: 5zI7bp2ji48QVnwE7okJB6\n",
      "Playlist created with ID: 24oSnWq6ObbDe8KAtykFzI\n",
      "Playlist created with ID: 6T5mk65gfgznlb5NxdqYAW\n",
      "Playlist created with ID: 4kDfz3NGcMm31IJt6V4g18\n",
      "Playlist created with ID: 1ZGDE6m8xAuUBaMh3XZag0\n",
      "Playlist created with ID: 4pKoZZjrCD7bpbu8ZMWqgg\n",
      "Playlist created with ID: 0IR60TRAXkZfh3DC5gs05z\n",
      "Playlist created with ID: 0x4pq5m7RKBTdNLVZ2pYbY\n",
      "Playlist created with ID: 3ekmd6UNEjyxbjjBkgdoxp\n",
      "Playlist created with ID: 1gRpMSjy1Fpm9mqXGalgm8\n",
      "Playlist created with ID: 59SqIHZeC9lNuEMcb3EDgJ\n",
      "Playlist created with ID: 5vAVoMN02FP5I3jzGxPgF1\n",
      "Playlist created with ID: 2hFUG8rIuLvPwKblIRGJ88\n",
      "Playlist created with ID: 1HK0MZAzywDEVr3ZPBi0NI\n",
      "Playlist created with ID: 5M87knNaHs2weWN14INl1v\n",
      "Playlist created with ID: 4Iv7PazDx0FNtPilutfS0K\n",
      "Playlist created with ID: 6KlEhDSCpHi8gcCRseE0PB\n",
      "Playlist created with ID: 19NH3gLS9CNVm9itItCucE\n",
      "Playlist created with ID: 3e7v3Jzak34OB4JQSQwpeL\n",
      "Playlist created with ID: 6jAMoHffGOjJfBq5mkjlRe\n"
     ]
    }
   ],
   "source": [
    "# Create Playlists\n",
    "playlist_df = pd.DataFrame(columns=['playlist_name', 'cluster', 'id'])\n",
    "\n",
    "for clust in songs['cluster'].unique():\n",
    "    playlist_name = f'Playlist Cluster {clust}'\n",
    "    playlist_description = 'App for my bootcamp project Moosaic. Create playlists through clustering.'\n",
    "    \n",
    "    try:\n",
    "        playlist_response = spotifyObject.user_playlist_create(user=username, name=playlist_name, \n",
    "                                                         description=playlist_description, public=True)\n",
    "        playlist_id = playlist_response['id']\n",
    "        \n",
    "        new_row = pd.DataFrame({'playlist_name': [playlist_name], 'cluster': [clust], 'id': [playlist_id]})\n",
    "\n",
    "        playlist_df = pd.concat([playlist_df, new_row], ignore_index=True)\n",
    "        \n",
    "        print(f\"Playlist created with ID: {playlist_id}\")\n",
    "    except Exception as e:\n",
    "        print(f\"An error occurred: {e}\")"
   ]
  },
  {
   "cell_type": "code",
   "execution_count": 23,
   "id": "200fff19-423f-4fd0-8684-63af4f944fe5",
   "metadata": {
    "tags": []
   },
   "outputs": [],
   "source": [
    "playlists = playlist_df.copy()"
   ]
  },
  {
   "cell_type": "code",
   "execution_count": 24,
   "id": "e5172f50-f9bc-4b87-af4e-6d1c647ef5c4",
   "metadata": {
    "tags": []
   },
   "outputs": [],
   "source": [
    "playlists['id'] = playlists['id'].str.strip()"
   ]
  },
  {
   "cell_type": "code",
   "execution_count": 25,
   "id": "c830b81e-fb2f-4931-b6a7-24075b2ea876",
   "metadata": {
    "tags": []
   },
   "outputs": [],
   "source": [
    "playlists.to_csv('/Users/merlesteffen/Documents/GitHub/Moosic/Data/playlists_ids_clusters', index=False)"
   ]
  },
  {
   "cell_type": "code",
   "execution_count": 26,
   "id": "c543994a-a0de-4fc9-9570-0b4d895c7d1b",
   "metadata": {
    "tags": []
   },
   "outputs": [],
   "source": [
    "playlists = pd.read_csv('/Users/merlesteffen/Documents/GitHub/Moosic/Data/playlists_ids_clusters')"
   ]
  },
  {
   "cell_type": "code",
   "execution_count": 27,
   "id": "9e30fbd3-fca6-4f4e-b620-344de2a2cc32",
   "metadata": {
    "tags": []
   },
   "outputs": [
    {
     "data": {
      "text/html": [
       "<div>\n",
       "<style scoped>\n",
       "    .dataframe tbody tr th:only-of-type {\n",
       "        vertical-align: middle;\n",
       "    }\n",
       "\n",
       "    .dataframe tbody tr th {\n",
       "        vertical-align: top;\n",
       "    }\n",
       "\n",
       "    .dataframe thead th {\n",
       "        text-align: right;\n",
       "    }\n",
       "</style>\n",
       "<table border=\"1\" class=\"dataframe\">\n",
       "  <thead>\n",
       "    <tr style=\"text-align: right;\">\n",
       "      <th></th>\n",
       "      <th>playlist_name</th>\n",
       "      <th>cluster</th>\n",
       "      <th>id</th>\n",
       "    </tr>\n",
       "  </thead>\n",
       "  <tbody>\n",
       "    <tr>\n",
       "      <th>0</th>\n",
       "      <td>Playlist Cluster 24</td>\n",
       "      <td>24</td>\n",
       "      <td>7JiQ59rGvx33qNcb0UuBrW</td>\n",
       "    </tr>\n",
       "    <tr>\n",
       "      <th>1</th>\n",
       "      <td>Playlist Cluster 47</td>\n",
       "      <td>47</td>\n",
       "      <td>3WS4UR8P93IZO9gZ3WwhUx</td>\n",
       "    </tr>\n",
       "    <tr>\n",
       "      <th>2</th>\n",
       "      <td>Playlist Cluster 17</td>\n",
       "      <td>17</td>\n",
       "      <td>3dM2ePptXCxGvpY0q9mqNy</td>\n",
       "    </tr>\n",
       "    <tr>\n",
       "      <th>3</th>\n",
       "      <td>Playlist Cluster 21</td>\n",
       "      <td>21</td>\n",
       "      <td>5WfHHokqJni2C5RWDT6Wj3</td>\n",
       "    </tr>\n",
       "    <tr>\n",
       "      <th>4</th>\n",
       "      <td>Playlist Cluster 3</td>\n",
       "      <td>3</td>\n",
       "      <td>3ekpBMyWH8HXqFPpl2wj2a</td>\n",
       "    </tr>\n",
       "  </tbody>\n",
       "</table>\n",
       "</div>"
      ],
      "text/plain": [
       "         playlist_name  cluster                      id\n",
       "0  Playlist Cluster 24       24  7JiQ59rGvx33qNcb0UuBrW\n",
       "1  Playlist Cluster 47       47  3WS4UR8P93IZO9gZ3WwhUx\n",
       "2  Playlist Cluster 17       17  3dM2ePptXCxGvpY0q9mqNy\n",
       "3  Playlist Cluster 21       21  5WfHHokqJni2C5RWDT6Wj3\n",
       "4   Playlist Cluster 3        3  3ekpBMyWH8HXqFPpl2wj2a"
      ]
     },
     "execution_count": 27,
     "metadata": {},
     "output_type": "execute_result"
    }
   ],
   "source": [
    "playlists.head()"
   ]
  },
  {
   "cell_type": "code",
   "execution_count": 28,
   "id": "17b572f8-8208-4fcc-b3c6-ff989c0f2521",
   "metadata": {
    "tags": []
   },
   "outputs": [],
   "source": [
    "def divide_into_chunks(lst, n):\n",
    "    \"\"\"Divide a list into n roughly equal parts.\"\"\"\n",
    "    k, m = divmod(len(lst), n)\n",
    "    return [lst[i * k + min(i, m):(i + 1) * k + min(i + 1, m)] for i in range(n)]"
   ]
  },
  {
   "cell_type": "code",
   "execution_count": 32,
   "id": "50f24f0a-42ef-4d77-a3ae-94e6d901ab54",
   "metadata": {
    "tags": []
   },
   "outputs": [
    {
     "data": {
      "text/html": [
       "<div>\n",
       "<style scoped>\n",
       "    .dataframe tbody tr th:only-of-type {\n",
       "        vertical-align: middle;\n",
       "    }\n",
       "\n",
       "    .dataframe tbody tr th {\n",
       "        vertical-align: top;\n",
       "    }\n",
       "\n",
       "    .dataframe thead th {\n",
       "        text-align: right;\n",
       "    }\n",
       "</style>\n",
       "<table border=\"1\" class=\"dataframe\">\n",
       "  <thead>\n",
       "    <tr style=\"text-align: right;\">\n",
       "      <th></th>\n",
       "      <th>name</th>\n",
       "      <th>artist</th>\n",
       "      <th>danceability</th>\n",
       "      <th>energy</th>\n",
       "      <th>loudness</th>\n",
       "      <th>speechiness</th>\n",
       "      <th>acousticness</th>\n",
       "      <th>instrumentalness</th>\n",
       "      <th>liveness</th>\n",
       "      <th>valence</th>\n",
       "      <th>tempo</th>\n",
       "      <th>cluster</th>\n",
       "      <th>id</th>\n",
       "      <th>html</th>\n",
       "    </tr>\n",
       "  </thead>\n",
       "  <tbody>\n",
       "    <tr>\n",
       "      <th>0</th>\n",
       "      <td>Se Eu Quiser Falar Com Deus                   ...</td>\n",
       "      <td>Gilberto Gil</td>\n",
       "      <td>0.680455</td>\n",
       "      <td>0.2590</td>\n",
       "      <td>0.763897</td>\n",
       "      <td>0.076797</td>\n",
       "      <td>0.696787</td>\n",
       "      <td>0.000060</td>\n",
       "      <td>0.987842</td>\n",
       "      <td>0.310660</td>\n",
       "      <td>0.515800</td>\n",
       "      <td>24</td>\n",
       "      <td>1n7JnwviZ7zf0LR1tcGFq7</td>\n",
       "      <td>https://open.spotify.com/track/1n7JnwviZ7zf0LR...</td>\n",
       "    </tr>\n",
       "    <tr>\n",
       "      <th>1</th>\n",
       "      <td>Saudade De Bahia                              ...</td>\n",
       "      <td>Antônio Carlos Jobim</td>\n",
       "      <td>0.767322</td>\n",
       "      <td>0.3990</td>\n",
       "      <td>0.771967</td>\n",
       "      <td>0.037691</td>\n",
       "      <td>0.217871</td>\n",
       "      <td>0.000002</td>\n",
       "      <td>0.108409</td>\n",
       "      <td>0.703553</td>\n",
       "      <td>0.584322</td>\n",
       "      <td>47</td>\n",
       "      <td>5QGM1U0eCYrQuwSJwTm5Zq</td>\n",
       "      <td>https://open.spotify.com/track/5QGM1U0eCYrQuwS...</td>\n",
       "    </tr>\n",
       "    <tr>\n",
       "      <th>2</th>\n",
       "      <td>Canta Canta, Minha Gente                      ...</td>\n",
       "      <td>Martinho Da Vila</td>\n",
       "      <td>0.880041</td>\n",
       "      <td>0.7300</td>\n",
       "      <td>0.798018</td>\n",
       "      <td>0.377996</td>\n",
       "      <td>0.454819</td>\n",
       "      <td>0.000064</td>\n",
       "      <td>0.125633</td>\n",
       "      <td>0.918782</td>\n",
       "      <td>0.437862</td>\n",
       "      <td>17</td>\n",
       "      <td>0NLIFSZxPzQhCwnkn5PJYs</td>\n",
       "      <td>https://open.spotify.com/track/0NLIFSZxPzQhCwn...</td>\n",
       "    </tr>\n",
       "    <tr>\n",
       "      <th>3</th>\n",
       "      <td>Canta Canta, Minha Gente                      ...</td>\n",
       "      <td>Martinho Da Vila</td>\n",
       "      <td>0.880041</td>\n",
       "      <td>0.7300</td>\n",
       "      <td>0.798018</td>\n",
       "      <td>0.377996</td>\n",
       "      <td>0.454819</td>\n",
       "      <td>0.000064</td>\n",
       "      <td>0.125633</td>\n",
       "      <td>0.918782</td>\n",
       "      <td>0.437862</td>\n",
       "      <td>17</td>\n",
       "      <td>57E1ka54d8zrIy0VzE1EAV</td>\n",
       "      <td>https://open.spotify.com/track/57E1ka54d8zrIy0...</td>\n",
       "    </tr>\n",
       "    <tr>\n",
       "      <th>4</th>\n",
       "      <td>Mulher Eu Sei                                 ...</td>\n",
       "      <td>Chico César</td>\n",
       "      <td>0.729059</td>\n",
       "      <td>0.0502</td>\n",
       "      <td>0.682811</td>\n",
       "      <td>0.051307</td>\n",
       "      <td>0.882530</td>\n",
       "      <td>0.000041</td>\n",
       "      <td>0.391084</td>\n",
       "      <td>0.531980</td>\n",
       "      <td>0.499098</td>\n",
       "      <td>21</td>\n",
       "      <td>3mXqOdlLE1k67WsAxryPFs</td>\n",
       "      <td>https://open.spotify.com/track/3mXqOdlLE1k67Ws...</td>\n",
       "    </tr>\n",
       "  </tbody>\n",
       "</table>\n",
       "</div>"
      ],
      "text/plain": [
       "                                                name  \\\n",
       "0  Se Eu Quiser Falar Com Deus                   ...   \n",
       "1  Saudade De Bahia                              ...   \n",
       "2  Canta Canta, Minha Gente                      ...   \n",
       "3  Canta Canta, Minha Gente                      ...   \n",
       "4  Mulher Eu Sei                                 ...   \n",
       "\n",
       "                                             artist  danceability  energy  \\\n",
       "0  Gilberto Gil                                          0.680455  0.2590   \n",
       "1  Antônio Carlos Jobim                                  0.767322  0.3990   \n",
       "2  Martinho Da Vila                                      0.880041  0.7300   \n",
       "3  Martinho Da Vila                                      0.880041  0.7300   \n",
       "4  Chico César                                           0.729059  0.0502   \n",
       "\n",
       "   loudness  speechiness  acousticness  instrumentalness  liveness   valence  \\\n",
       "0  0.763897     0.076797      0.696787          0.000060  0.987842  0.310660   \n",
       "1  0.771967     0.037691      0.217871          0.000002  0.108409  0.703553   \n",
       "2  0.798018     0.377996      0.454819          0.000064  0.125633  0.918782   \n",
       "3  0.798018     0.377996      0.454819          0.000064  0.125633  0.918782   \n",
       "4  0.682811     0.051307      0.882530          0.000041  0.391084  0.531980   \n",
       "\n",
       "      tempo  cluster                       id  \\\n",
       "0  0.515800       24  1n7JnwviZ7zf0LR1tcGFq7    \n",
       "1  0.584322       47  5QGM1U0eCYrQuwSJwTm5Zq    \n",
       "2  0.437862       17  0NLIFSZxPzQhCwnkn5PJYs    \n",
       "3  0.437862       17  57E1ka54d8zrIy0VzE1EAV    \n",
       "4  0.499098       21  3mXqOdlLE1k67WsAxryPFs    \n",
       "\n",
       "                                                html  \n",
       "0  https://open.spotify.com/track/1n7JnwviZ7zf0LR...  \n",
       "1  https://open.spotify.com/track/5QGM1U0eCYrQuwS...  \n",
       "2  https://open.spotify.com/track/0NLIFSZxPzQhCwn...  \n",
       "3  https://open.spotify.com/track/57E1ka54d8zrIy0...  \n",
       "4  https://open.spotify.com/track/3mXqOdlLE1k67Ws...  "
      ]
     },
     "execution_count": 32,
     "metadata": {},
     "output_type": "execute_result"
    }
   ],
   "source": [
    "songs.head()"
   ]
  },
  {
   "cell_type": "code",
   "execution_count": null,
   "id": "e1c714e3-bcd9-41ff-ac6e-c99e714bd228",
   "metadata": {
    "tags": []
   },
   "outputs": [],
   "source": [
    "#Add Songs to Spotify\n",
    "for clust in songs['cluster'].unique():\n",
    "    cluster_songs = songs[songs['cluster'] == clust]\n",
    "    # Convert song IDs into the desired format\n",
    "    list_of_songs = [f'{row[\"html\"]}' for _, row in cluster_songs.iterrows()]\n",
    "    print(list_of_songs)\n",
    "    playlist_id = playlists[playlists['cluster'] == clust]['id'].iloc[0]\n",
    "    print(f'Playlist id is : {playlist_id}')\n",
    "    chunks = divide_into_chunks(list_of_songs, 4)\n",
    "\n",
    "    for chunk in chunks:\n",
    "        try:\n",
    "            spotifyObject.playlist_add_items(playlist_id=playlist_id, items=chunk, position=None)\n",
    "            print(f\"Added {len(chunk)} tracks to playlist {playlist_id}\")\n",
    "        except Exception as e:\n",
    "            print(f\"Error adding tracks to playlist: {e}\")\n",
    "            print(f\"Failed chunk: {chunk}\")"
   ]
  },
  {
   "cell_type": "code",
   "execution_count": null,
   "id": "b0a5731c-a83f-4548-8a2b-e6d6bf7ce444",
   "metadata": {},
   "outputs": [],
   "source": [
    "print('This worked')"
   ]
  }
 ],
 "metadata": {
  "kernelspec": {
   "display_name": "Python 3 (ipykernel)",
   "language": "python",
   "name": "python3"
  },
  "language_info": {
   "codemirror_mode": {
    "name": "ipython",
    "version": 3
   },
   "file_extension": ".py",
   "mimetype": "text/x-python",
   "name": "python",
   "nbconvert_exporter": "python",
   "pygments_lexer": "ipython3",
   "version": "3.11.4"
  }
 },
 "nbformat": 4,
 "nbformat_minor": 5
}
