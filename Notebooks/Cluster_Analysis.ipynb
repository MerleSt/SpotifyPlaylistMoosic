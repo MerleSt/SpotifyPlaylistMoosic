{
 "cells": [
  {
   "cell_type": "markdown",
   "id": "c731b4dd-d145-4233-9513-cc817dc55146",
   "metadata": {},
   "source": [
    "# Imports"
   ]
  },
  {
   "cell_type": "code",
   "execution_count": 1,
   "id": "2a8491fe-4904-448f-a7f7-31b02e83846f",
   "metadata": {
    "tags": []
   },
   "outputs": [],
   "source": [
    "import pandas as pd\n",
    "import seaborn as sns\n",
    "import matplotlib.pyplot as plt\n",
    "from sklearn.cluster import KMeans\n",
    "from sklearn.preprocessing import RobustScaler\n",
    "from yellowbrick.cluster import KElbowVisualizer\n",
    "import numpy as np\n",
    "from sklearn.metrics import silhouette_score\n",
    "from sklearn.metrics import davies_bouldin_score\n",
    "from sklearn.ensemble import ExtraTreesClassifier\n",
    "from sklearn.preprocessing import LabelEncoder\n",
    "from sklearn.decomposition import PCA"
   ]
  },
  {
   "cell_type": "code",
   "execution_count": 2,
   "id": "82f5ee4b-2bf0-48de-982e-b588e49adad4",
   "metadata": {
    "tags": []
   },
   "outputs": [],
   "source": [
    "songs = pd.read_csv('https://raw.githubusercontent.com/MerleSt/SpotifyPlaylistMoosic/main/Data/song_fatures_cleaned.csv', index_col=[0,1])"
   ]
  },
  {
   "cell_type": "code",
   "execution_count": 10,
   "id": "5b1ab0a5-5a0f-4eb0-9c8a-156dc8654e44",
   "metadata": {
    "tags": []
   },
   "outputs": [
    {
     "data": {
      "text/plain": [
       "(5235, 13)"
      ]
     },
     "execution_count": 10,
     "metadata": {},
     "output_type": "execute_result"
    }
   ],
   "source": [
    "songs.shape"
   ]
  },
  {
   "cell_type": "markdown",
   "id": "81ce8019-dec2-4d59-93b5-8c2e29aee22a",
   "metadata": {},
   "source": [
    "# Scale"
   ]
  },
  {
   "cell_type": "markdown",
   "id": "918d8f8b-1baf-4d7b-a8f6-3f2ee12ae598",
   "metadata": {},
   "source": [
    "Since we found a few outliers in the data preprocessing operation, we need to either use a scalar, which corrects for this, drop the data, or use a model with weights. A combination of all of those is possible as well. \n",
    "1. Dropping all data is not an ideal solution, since there are too many outliers\n",
    "2. A scalar to use here could be the RObust Scaler which corrects for outliers\n",
    "3. Weights can be attricuted according to the distance to the centroid, hence, points further away have a lower weight in the clustering. This can be implemented in the K-means model. Since we will evaluate the model later on, we should not just decide on one strategy yet, but implement multiple and compare the results."
   ]
  },
  {
   "cell_type": "markdown",
   "id": "af464b59-caa0-4312-8231-ebbe9d32a06e",
   "metadata": {},
   "source": [
    "## Robust Scaler"
   ]
  },
  {
   "cell_type": "code",
   "execution_count": 7,
   "id": "2d32199e-d51d-4655-88a9-a1b71b3620cf",
   "metadata": {
    "tags": []
   },
   "outputs": [],
   "source": [
    "# Define the scaler, use it and then transform the data into a dataframe again\n",
    "scaler = RobustScaler()\n",
    "songs_scaled = scaler.fit_transform(songs)\n",
    "songs_robust = pd.DataFrame(songs_scaled, columns=songs.columns, index=songs.index)"
   ]
  },
  {
   "cell_type": "code",
   "execution_count": 9,
   "id": "1eecdf7a-307e-428f-82c8-4ae14b23cb11",
   "metadata": {
    "tags": []
   },
   "outputs": [
    {
     "data": {
      "text/plain": [
       "(5235, 13)"
      ]
     },
     "execution_count": 9,
     "metadata": {},
     "output_type": "execute_result"
    }
   ],
   "source": [
    "songs_robust.shape"
   ]
  },
  {
   "cell_type": "code",
   "execution_count": null,
   "id": "c3d547cf-e54f-4493-a01f-e0dfa765ade6",
   "metadata": {},
   "outputs": [],
   "source": []
  }
 ],
 "metadata": {
  "kernelspec": {
   "display_name": "Python 3 (ipykernel)",
   "language": "python",
   "name": "python3"
  },
  "language_info": {
   "codemirror_mode": {
    "name": "ipython",
    "version": 3
   },
   "file_extension": ".py",
   "mimetype": "text/x-python",
   "name": "python",
   "nbconvert_exporter": "python",
   "pygments_lexer": "ipython3",
   "version": "3.11.4"
  }
 },
 "nbformat": 4,
 "nbformat_minor": 5
}
