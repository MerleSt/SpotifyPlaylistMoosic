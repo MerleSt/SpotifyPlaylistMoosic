{
 "cells": [
  {
   "cell_type": "markdown",
   "id": "c731b4dd-d145-4233-9513-cc817dc55146",
   "metadata": {},
   "source": [
    "# Imports"
   ]
  },
  {
   "cell_type": "code",
   "execution_count": 1,
   "id": "2a8491fe-4904-448f-a7f7-31b02e83846f",
   "metadata": {
    "tags": []
   },
   "outputs": [],
   "source": [
    "import pandas as pd\n",
    "import seaborn as sns\n",
    "import matplotlib.pyplot as plt\n",
    "from sklearn.cluster import KMeans\n",
    "from sklearn.preprocessing import RobustScaler\n",
    "from sklearn.preprocessing import MinMaxScaler\n",
    "from yellowbrick.cluster import KElbowVisualizer\n",
    "import numpy as np\n",
    "from sklearn.metrics import silhouette_score\n",
    "from sklearn.metrics import davies_bouldin_score\n",
    "from sklearn.ensemble import ExtraTreesClassifier\n",
    "from sklearn.preprocessing import LabelEncoder\n",
    "from sklearn.decomposition import PCA\n",
    "from sklearn.ensemble import RandomForestRegressor\n",
    "#from pycaret.classification import *"
   ]
  },
  {
   "cell_type": "code",
   "execution_count": 2,
   "id": "82f5ee4b-2bf0-48de-982e-b588e49adad4",
   "metadata": {
    "tags": []
   },
   "outputs": [],
   "source": [
    "songs = pd.read_csv('https://raw.githubusercontent.com/MerleSt/SpotifyPlaylistMoosic/main/Data/song_fatures_cleaned.csv', index_col=[0,1])"
   ]
  },
  {
   "cell_type": "code",
   "execution_count": 3,
   "id": "5b1ab0a5-5a0f-4eb0-9c8a-156dc8654e44",
   "metadata": {
    "tags": []
   },
   "outputs": [
    {
     "data": {
      "text/plain": [
       "(5114, 13)"
      ]
     },
     "execution_count": 3,
     "metadata": {},
     "output_type": "execute_result"
    }
   ],
   "source": [
    "songs.shape"
   ]
  },
  {
   "cell_type": "markdown",
   "id": "d496dc53-932a-473a-a62e-268af23a9486",
   "metadata": {},
   "source": [
    "# Columns to keep /drop from Scientific Literature and General Understanding"
   ]
  },
  {
   "cell_type": "markdown",
   "id": "94c100e5-85a9-42d6-8176-2ec4adeeba9f",
   "metadata": {},
   "source": [
    "\n",
    "Certainly! Let's go through each of the features:\n",
    "\n",
    "__Danceability__:\n",
    "\n",
    "Recommendation: Keep.\n",
    "Reason: Represents how suitable a track is for dancing based on various musical elements including tempo, rhythm stability, beat strength, and overall regularity.\n",
    "Reference:\n",
    "Jehan, T. (2005). Creating music by listening. PhD thesis, Massachusetts Institute of Technology.\n",
    "\n",
    "__Energy__:\n",
    "\n",
    "Recommendation: Keep.\n",
    "Reason: Measures intensity and activity, typically energetic tracks feel fast and noisy.\n",
    "Reference:\n",
    "Tzanetakis, G., & Cook, P. (2002). Musical genre classification of audio signals. IEEE Transactions on speech and audio processing, 10(5), 293-302.\n",
    "\n",
    "Key:\n",
    "\n",
    "Recommendation: Depends.\n",
    "Reason: While the key is fundamental in music theory, its efficacy in clustering tasks can be dataset dependent. However, it might be important when distinguishing between certain types of genres or moods.\n",
    "Reference:\n",
    "Mardirossian, G., & Chew, E. (2015). Key-independent multi-level tonal analysis for interactive music systems. In Proceedings of the ACM SIGCHI Conference on Human Factors in Computing Systems.\n",
    "\n",
    "__Loudness__:\n",
    "\n",
    "Recommendation: Keep but be cautious of its correlation with 'Energy'.\n",
    "Reason: The perceived volume of the song can distinguish between certain moods or genres.\n",
    "Reference:\n",
    "Vickers, E. (2011). The loudness war: Background, speculation and recommendations. Audio Engineering Society Convention 131.\n",
    "\n",
    "__Mode__:\n",
    "\n",
    "Recommendation: Keep.\n",
    "Reason: Major or minor mode can influence the mood or feel of a song.\n",
    "Reference:\n",
    "Huron, D. (2008). Sweet Anticipation: Music and the Psychology of Expectation. MIT Press.\n",
    "\n",
    "__Speechiness__:\n",
    "\n",
    "Recommendation: Keep.\n",
    "Reason: Differentiates between talk shows, podcasts, and music.\n",
    "Reference:\n",
    "Mesaros, A., Heittola, T., Benetos, E., Foster, P., Lagrange, M., Virtanen, T., & Dixon, S. (2018). Detection and Classification of Acoustic Scenes and Events: Outcome of the DCASE 2016 Challenge. IEEE/ACM Transactions on Audio, Speech, and Language Processing.\n",
    "\n",
    "__Acousticness__:\n",
    "\n",
    "Recommendation: Keep.\n",
    "Reason: Helps distinguish between electronic and acoustic music.\n",
    "Reference:\n",
    "Sturm, B. L., Diver, C., & Martinez, A. R. (2013). An evaluation of the audio feature space for detecting fake musical instrument samples.\n",
    "In Proceedings of the Sound and Music Computing Conference.\n",
    "\n",
    "__Instrumentalness__:\n",
    "\n",
    "Recommendation: Keep.\n",
    "Reason: Determines the presence of vocals in a song, distinguishing between purely instrumental tracks and those with lyrics.\n",
    "Reference:\n",
    "Leglaive, S., Hennequin, R., & Badeau, R. (2015). Singing voice detection with deep recurrent neural networks. In IEEE International Conference on Acoustics, Speech and Signal Processing.\n",
    "\n",
    "__Liveness__:\n",
    "\n",
    "Recommendation: Keep.\n",
    "Reason: Identifies the presence of a live audience, differentiating studio recordings from live performances.\n",
    "Reference:\n",
    "Dittmar, C., & Müller, M. (2012). Automatic annotation of recorded music. In Multimodal Music Processing (Vol. 3).\n",
    "\n",
    "__Valence__:\n",
    "\n",
    "Recommendation: Keep.\n",
    "Reason: Measures the musical positiveness of a track, can differentiate between moods.\n",
    "Reference:\n",
    "Yang, Y. H., & Chen, H. H. (2012). Machine recognition of music emotion: A review. ACM Transactions on Intelligent Systems and Technology (TIST), 3(3).\n",
    "\n",
    "__Tempo__:\n",
    "\n",
    "Recommendation: Keep.\n",
    "Reason: The speed of a track is one of the fundamental aspects of music.\n",
    "Reference:\n",
    "Dixon, S. (2001). Automatic extraction of tempo and beat from expressive performances. Journal of New Music Research, 30(1), 39-58.\n",
    "\n",
    "Duration_ms:\n",
    "\n",
    "Recommendation: Consider.\n",
    "Reason: The length of a track might not inherently convey much about its musical content, but it could be relevant depending on the dataset.\n",
    "Reference:\n",
    "Not commonly discussed in literature for its inherent musical properties.\n",
    "\n",
    "Time_signature:\n",
    "\n",
    "Recommendation: Depends.\n",
    "Reason: Time signature can be critical for certain genres or analyzing complex rhythmic structures but might be less informative for general clustering tasks.\n",
    "Reference:\n",
    "Gouyon, F., Klapuri, A., Dixon, S., Alonso, M., Tzanetakis, G., Uhle, C., & Cano, P. (2006). An experimental comparison of audio tempo induction algorithms. IEEE Transactions on Audio, Speech, and Language Processing, 14(5), 1832-1844."
   ]
  },
  {
   "cell_type": "markdown",
   "id": "0a73eea8-fa7a-4073-bf8a-36986e27634f",
   "metadata": {},
   "source": [
    "__DROP__\n",
    "> time_signature, Duration_ms, Key"
   ]
  },
  {
   "cell_type": "code",
   "execution_count": 4,
   "id": "291c5872-d588-4b7e-8ad6-8dd8f3124dc7",
   "metadata": {
    "tags": []
   },
   "outputs": [],
   "source": [
    "songs.drop(columns=['time_signature', 'duration_ms', 'key'], inplace = True)"
   ]
  },
  {
   "cell_type": "markdown",
   "id": "81ce8019-dec2-4d59-93b5-8c2e29aee22a",
   "metadata": {},
   "source": [
    "# Scale"
   ]
  },
  {
   "cell_type": "markdown",
   "id": "918d8f8b-1baf-4d7b-a8f6-3f2ee12ae598",
   "metadata": {},
   "source": [
    "Since we found a few outliers in the data preprocessing operation, we need to either use a scalar, which corrects for this, drop the data, or use a model with weights. A combination of all of those is possible as well. \n",
    "1. Dropping all data is not an ideal solution, since there are too many outliers\n",
    "2. A scalar to use here could be the RObust Scaler which corrects for outliers\n",
    "3. Weights can be attricuted according to the distance to the centroid, hence, points further away have a lower weight in the clustering. This can be implemented in the K-means model. Since we will evaluate the model later on, we should not just decide on one strategy yet, but implement multiple and compare the results."
   ]
  },
  {
   "cell_type": "markdown",
   "id": "af464b59-caa0-4312-8231-ebbe9d32a06e",
   "metadata": {},
   "source": [
    "## Robust Scaler"
   ]
  },
  {
   "cell_type": "code",
   "execution_count": 20,
   "id": "2d32199e-d51d-4655-88a9-a1b71b3620cf",
   "metadata": {
    "tags": []
   },
   "outputs": [],
   "source": [
    "# Define the scaler, use it and then transform the data into a dataframe again\n",
    "scaler = RobustScaler()\n",
    "songs_scaled = scaler.fit_transform(songs)\n",
    "songs_robust = pd.DataFrame(songs_scaled, columns=songs.columns, index=songs.index)"
   ]
  },
  {
   "cell_type": "code",
   "execution_count": 21,
   "id": "1eecdf7a-307e-428f-82c8-4ae14b23cb11",
   "metadata": {
    "tags": []
   },
   "outputs": [
    {
     "data": {
      "text/plain": [
       "(5114, 10)"
      ]
     },
     "execution_count": 21,
     "metadata": {},
     "output_type": "execute_result"
    }
   ],
   "source": [
    "songs_robust.shape"
   ]
  },
  {
   "cell_type": "code",
   "execution_count": 22,
   "id": "16373995-bfb9-40e0-b9ea-fb668d6149e3",
   "metadata": {
    "tags": []
   },
   "outputs": [
    {
     "data": {
      "image/png": "[encoded data removed]",
      "text/plain": [
       "<Figure size 1500x700 with 1 Axes>"
      ]
     },
     "metadata": {},
     "output_type": "display_data"
    }
   ],
   "source": [
    "# Let us look at the outliers again\n",
    "plt.figure(figsize=(15, 7))\n",
    "sns.boxplot(data=songs_robust)\n",
    "plt.title('Robust Scaler')\n",
    "plt.xticks(rotation=45)  # Rotate x labels for better visibility\n",
    "plt.show()"
   ]
  },
  {
   "cell_type": "markdown",
   "id": "898c7367-4979-4627-a6c8-16a2bce5cf74",
   "metadata": {},
   "source": [
    "## MinMax Scaler"
   ]
  },
  {
   "cell_type": "code",
   "execution_count": 23,
   "id": "c3d547cf-e54f-4493-a01f-e0dfa765ade6",
   "metadata": {
    "tags": []
   },
   "outputs": [],
   "source": [
    "scaler = MinMaxScaler()\n",
    "songs_scaled = scaler.fit_transform(songs)\n",
    "songs_minmax = pd.DataFrame(songs_scaled, columns=songs.columns, index=songs.index)"
   ]
  },
  {
   "cell_type": "code",
   "execution_count": 24,
   "id": "e04a11aa-0282-4ab6-bcfb-a32a28ca14b2",
   "metadata": {
    "tags": []
   },
   "outputs": [
    {
     "data": {
      "image/png": "[encoded data removed]",
      "text/plain": [
       "<Figure size 1500x700 with 1 Axes>"
      ]
     },
     "metadata": {},
     "output_type": "display_data"
    }
   ],
   "source": [
    "plt.figure(figsize=(15, 7))\n",
    "sns.boxplot(data=songs_minmax)\n",
    "plt.title('MinMax Scaler')\n",
    "plt.xticks(rotation=45)  # Rotate x labels for better visibility\n",
    "plt.show()"
   ]
  },
  {
   "cell_type": "markdown",
   "id": "9b1a3c42-1766-4d38-84a5-9c7677c20bfb",
   "metadata": {},
   "source": [
    "# Determine Number of Ks"
   ]
  },
  {
   "cell_type": "code",
   "execution_count": 25,
   "id": "db571c75-3446-4a88-b232-596bd352377c",
   "metadata": {
    "tags": []
   },
   "outputs": [],
   "source": [
    "# # Instantiate the clustering model and visualizer\n",
    "# model = KMeans(n_init=10, random_state=213)\n",
    "# visualizer = KElbowVisualizer(model, k=(20,100))\n",
    "\n",
    "# visualizer.fit(songs_robust)        # Fit the data to the visualizer\n",
    "# visualizer.show();"
   ]
  },
  {
   "cell_type": "code",
   "execution_count": 26,
   "id": "56fd5cc9-95ae-404a-ba74-5f0aa169a07a",
   "metadata": {
    "tags": []
   },
   "outputs": [],
   "source": [
    "# k_robust = visualizer.elbow_value_\n",
    "# print(f\"The optimal number of clusters with a robust scaler is: {k_robust}\")"
   ]
  },
  {
   "cell_type": "code",
   "execution_count": 27,
   "id": "47d3bf9c-08c6-4a4d-a07b-a1205dd51952",
   "metadata": {
    "tags": []
   },
   "outputs": [],
   "source": [
    "k_robust = 51\n",
    "k_minmax = 55"
   ]
  },
  {
   "cell_type": "code",
   "execution_count": 28,
   "id": "999adbfd-f689-4990-b2dc-0190d3d09145",
   "metadata": {
    "tags": []
   },
   "outputs": [],
   "source": [
    "# # Instantiate the clustering model and visualizer\n",
    "# model = KMeans(n_init=10, random_state=213)\n",
    "# visualizer = KElbowVisualizer(model, k=(20,100))\n",
    "\n",
    "# visualizer.fit(songs_minmax)        # Fit the data to the visualizer\n",
    "# visualizer.show();"
   ]
  },
  {
   "cell_type": "code",
   "execution_count": 29,
   "id": "057ce240-cf41-4749-9c33-903674ede0c2",
   "metadata": {
    "tags": []
   },
   "outputs": [],
   "source": [
    "# k_minmax = visualizer.elbow_value_\n",
    "# print(f\"The optimal number of clusters with the minmax scaler is: {k_minmax}\")"
   ]
  },
  {
   "cell_type": "markdown",
   "id": "5d32b78c-d3e5-4a8c-b51d-a285ecc34b68",
   "metadata": {
    "tags": []
   },
   "source": [
    "# K-Means"
   ]
  },
  {
   "cell_type": "markdown",
   "id": "1de9bf9a-288f-4526-92bf-d3a898165ce6",
   "metadata": {},
   "source": [
    "Let's say you would prefer the MinMax Scaler since it makes readability and explanations easier, but you do not want to drop all outliers. Another idea would be to implement weights to the oberservations. The further an pbservation from their cluster, the lower their weight. "
   ]
  },
  {
   "cell_type": "code",
   "execution_count": 30,
   "id": "90c8e044-cf11-41e9-ae3f-3ac5ba1e6912",
   "metadata": {
    "tags": []
   },
   "outputs": [],
   "source": [
    "# Step 1: Initial K-means run\n",
    "kmeans = KMeans(n_init=10, n_clusters=k_minmax, random_state=213) # adjust the number of clusters as needed\n",
    "kmeans.fit(songs_minmax)\n",
    "initial_centroids = kmeans.cluster_centers_\n",
    "\n",
    "# Step 2: Compute distance of each sample to its closest centroid\n",
    "songs_array = songs_robust.to_numpy()  # Convert DataFrame to numpy array\n",
    "n_samples = songs_array.shape[0]\n",
    "\n",
    "# Using broadcasting to compute distances\n",
    "expanded_songs = songs_array[:, np.newaxis, :]\n",
    "expanded_centroids = initial_centroids[np.newaxis, :, :]\n",
    "distances_all = np.linalg.norm(expanded_songs - expanded_centroids, axis=2)\n",
    "distances = np.min(distances_all, axis=1)\n",
    "\n",
    "# Step 3: Assign weights inversely proportional to distances \n",
    "weights = 1.0 / (distances + 1e-10)\n",
    "\n",
    "# Now, you can use these weights in K-means\n",
    "kmeans_weighted = KMeans(n_init=10, n_clusters=k_minmax, random_state=213)\n",
    "clusters = kmeans_weighted.fit_predict(songs_robust, sample_weight=weights)\n",
    "\n",
    "songs_minmax['cluster'] = clusters"
   ]
  },
  {
   "cell_type": "code",
   "execution_count": 31,
   "id": "7f7f39cf-7ed9-45de-a005-f0b373f0a998",
   "metadata": {
    "tags": []
   },
   "outputs": [
    {
     "data": {
      "text/html": [
       "<div>\n",
       "<style scoped>\n",
       "    .dataframe tbody tr th:only-of-type {\n",
       "        vertical-align: middle;\n",
       "    }\n",
       "\n",
       "    .dataframe tbody tr th {\n",
       "        vertical-align: top;\n",
       "    }\n",
       "\n",
       "    .dataframe thead th {\n",
       "        text-align: right;\n",
       "    }\n",
       "</style>\n",
       "<table border=\"1\" class=\"dataframe\">\n",
       "  <thead>\n",
       "    <tr style=\"text-align: right;\">\n",
       "      <th></th>\n",
       "      <th></th>\n",
       "      <th>danceability</th>\n",
       "      <th>energy</th>\n",
       "      <th>loudness</th>\n",
       "      <th>mode</th>\n",
       "      <th>speechiness</th>\n",
       "      <th>acousticness</th>\n",
       "      <th>instrumentalness</th>\n",
       "      <th>liveness</th>\n",
       "      <th>valence</th>\n",
       "      <th>tempo</th>\n",
       "      <th>cluster</th>\n",
       "    </tr>\n",
       "    <tr>\n",
       "      <th>name</th>\n",
       "      <th>artist</th>\n",
       "      <th></th>\n",
       "      <th></th>\n",
       "      <th></th>\n",
       "      <th></th>\n",
       "      <th></th>\n",
       "      <th></th>\n",
       "      <th></th>\n",
       "      <th></th>\n",
       "      <th></th>\n",
       "      <th></th>\n",
       "      <th></th>\n",
       "    </tr>\n",
       "  </thead>\n",
       "  <tbody>\n",
       "    <tr>\n",
       "      <th>Se Eu Quiser Falar Com Deus</th>\n",
       "      <th>Gilberto Gil</th>\n",
       "      <td>0.680455</td>\n",
       "      <td>0.25900</td>\n",
       "      <td>0.763897</td>\n",
       "      <td>0.0</td>\n",
       "      <td>0.076797</td>\n",
       "      <td>0.696787</td>\n",
       "      <td>0.000060</td>\n",
       "      <td>0.987842</td>\n",
       "      <td>0.310660</td>\n",
       "      <td>0.515800</td>\n",
       "      <td>31</td>\n",
       "    </tr>\n",
       "    <tr>\n",
       "      <th>Saudade De Bahia</th>\n",
       "      <th>Antônio Carlos Jobim</th>\n",
       "      <td>0.767322</td>\n",
       "      <td>0.39900</td>\n",
       "      <td>0.771967</td>\n",
       "      <td>1.0</td>\n",
       "      <td>0.037691</td>\n",
       "      <td>0.217871</td>\n",
       "      <td>0.000002</td>\n",
       "      <td>0.108409</td>\n",
       "      <td>0.703553</td>\n",
       "      <td>0.584322</td>\n",
       "      <td>18</td>\n",
       "    </tr>\n",
       "    <tr>\n",
       "      <th>Canta Canta, Minha Gente</th>\n",
       "      <th>Martinho Da Vila</th>\n",
       "      <td>0.880041</td>\n",
       "      <td>0.73000</td>\n",
       "      <td>0.798018</td>\n",
       "      <td>1.0</td>\n",
       "      <td>0.377996</td>\n",
       "      <td>0.454819</td>\n",
       "      <td>0.000064</td>\n",
       "      <td>0.125633</td>\n",
       "      <td>0.918782</td>\n",
       "      <td>0.437862</td>\n",
       "      <td>54</td>\n",
       "    </tr>\n",
       "    <tr>\n",
       "      <th>Mulher Eu Sei</th>\n",
       "      <th>Chico César</th>\n",
       "      <td>0.729059</td>\n",
       "      <td>0.05020</td>\n",
       "      <td>0.682811</td>\n",
       "      <td>1.0</td>\n",
       "      <td>0.051307</td>\n",
       "      <td>0.882530</td>\n",
       "      <td>0.000041</td>\n",
       "      <td>0.391084</td>\n",
       "      <td>0.531980</td>\n",
       "      <td>0.499098</td>\n",
       "      <td>43</td>\n",
       "    </tr>\n",
       "    <tr>\n",
       "      <th>Rosa Morena</th>\n",
       "      <th>Kurt Elling</th>\n",
       "      <td>0.673216</td>\n",
       "      <td>0.11900</td>\n",
       "      <td>0.655228</td>\n",
       "      <td>1.0</td>\n",
       "      <td>0.041394</td>\n",
       "      <td>0.919679</td>\n",
       "      <td>0.000348</td>\n",
       "      <td>0.105370</td>\n",
       "      <td>0.408122</td>\n",
       "      <td>0.565171</td>\n",
       "      <td>30</td>\n",
       "    </tr>\n",
       "    <tr>\n",
       "      <th>...</th>\n",
       "      <th>...</th>\n",
       "      <td>...</td>\n",
       "      <td>...</td>\n",
       "      <td>...</td>\n",
       "      <td>...</td>\n",
       "      <td>...</td>\n",
       "      <td>...</td>\n",
       "      <td>...</td>\n",
       "      <td>...</td>\n",
       "      <td>...</td>\n",
       "      <td>...</td>\n",
       "      <td>...</td>\n",
       "    </tr>\n",
       "    <tr>\n",
       "      <th>1812 Festival Overture, Op. 49: 1812 Overture, Op. 49</th>\n",
       "      <th>Pyotr Ilyich Tchaikovsky</th>\n",
       "      <td>0.208893</td>\n",
       "      <td>0.06940</td>\n",
       "      <td>0.596818</td>\n",
       "      <td>1.0</td>\n",
       "      <td>0.051525</td>\n",
       "      <td>0.920683</td>\n",
       "      <td>0.725888</td>\n",
       "      <td>0.084296</td>\n",
       "      <td>0.066497</td>\n",
       "      <td>0.410795</td>\n",
       "      <td>40</td>\n",
       "    </tr>\n",
       "    <tr>\n",
       "      <th>Winter Fragments pour ensemble instrumental, sons de synthèse et dispositif électronique</th>\n",
       "      <th>Tristan Murail</th>\n",
       "      <td>0.194416</td>\n",
       "      <td>0.10100</td>\n",
       "      <td>0.621548</td>\n",
       "      <td>1.0</td>\n",
       "      <td>0.048148</td>\n",
       "      <td>0.858434</td>\n",
       "      <td>0.432487</td>\n",
       "      <td>0.070314</td>\n",
       "      <td>0.036041</td>\n",
       "      <td>0.388495</td>\n",
       "      <td>40</td>\n",
       "    </tr>\n",
       "    <tr>\n",
       "      <th>Schoenberg: 5 Orchestral Pieces, Op. 16: No. 3 Farben (Colours)</th>\n",
       "      <th>Arnold Schoenberg</th>\n",
       "      <td>0.061634</td>\n",
       "      <td>0.00093</td>\n",
       "      <td>0.277803</td>\n",
       "      <td>1.0</td>\n",
       "      <td>0.047277</td>\n",
       "      <td>0.954819</td>\n",
       "      <td>0.983756</td>\n",
       "      <td>0.078217</td>\n",
       "      <td>0.034924</td>\n",
       "      <td>0.334469</td>\n",
       "      <td>3</td>\n",
       "    </tr>\n",
       "    <tr>\n",
       "      <th>Serenade For Strings In E, Op.22, B. 52: 1. Moderato</th>\n",
       "      <th>Antonín Dvořák</th>\n",
       "      <td>0.137539</td>\n",
       "      <td>0.02080</td>\n",
       "      <td>0.498142</td>\n",
       "      <td>1.0</td>\n",
       "      <td>0.045643</td>\n",
       "      <td>0.886546</td>\n",
       "      <td>0.512690</td>\n",
       "      <td>0.112462</td>\n",
       "      <td>0.060000</td>\n",
       "      <td>0.313608</td>\n",
       "      <td>3</td>\n",
       "    </tr>\n",
       "    <tr>\n",
       "      <th>Ravel: Boléro, M. 81</th>\n",
       "      <th>Maurice Ravel</th>\n",
       "      <td>0.366081</td>\n",
       "      <td>0.04870</td>\n",
       "      <td>0.577614</td>\n",
       "      <td>1.0</td>\n",
       "      <td>0.035185</td>\n",
       "      <td>0.786145</td>\n",
       "      <td>0.491371</td>\n",
       "      <td>0.287741</td>\n",
       "      <td>0.256853</td>\n",
       "      <td>0.299640</td>\n",
       "      <td>40</td>\n",
       "    </tr>\n",
       "  </tbody>\n",
       "</table>\n",
       "<p>5114 rows × 11 columns</p>\n",
       "</div>"
      ],
      "text/plain": [
       "                                                                                                     danceability  \\\n",
       "name                                               artist                                                           \n",
       "Se Eu Quiser Falar Com Deus                    ... Gilberto Gil                                          0.680455   \n",
       "Saudade De Bahia                               ... Antônio Carlos Jobim                                  0.767322   \n",
       "Canta Canta, Minha Gente                       ... Martinho Da Vila                                      0.880041   \n",
       "Mulher Eu Sei                                  ... Chico César                                           0.729059   \n",
       "Rosa Morena                                    ... Kurt Elling                                           0.673216   \n",
       "...                                                                                                           ...   \n",
       "1812 Festival Overture, Op. 49: 1812 Overture, ... Pyotr Ilyich Tchaikovsky                              0.208893   \n",
       "Winter Fragments pour ensemble instrumental, so... Tristan Murail                                        0.194416   \n",
       "Schoenberg: 5 Orchestral Pieces, Op. 16: No. 3 ... Arnold Schoenberg                                     0.061634   \n",
       "Serenade For Strings In E, Op.22, B. 52: 1. Mod... Antonín Dvořák                                        0.137539   \n",
       "Ravel: Boléro, M. 81                           ... Maurice Ravel                                         0.366081   \n",
       "\n",
       "                                                                                                      energy  \\\n",
       "name                                               artist                                                      \n",
       "Se Eu Quiser Falar Com Deus                    ... Gilberto Gil                                      0.25900   \n",
       "Saudade De Bahia                               ... Antônio Carlos Jobim                              0.39900   \n",
       "Canta Canta, Minha Gente                       ... Martinho Da Vila                                  0.73000   \n",
       "Mulher Eu Sei                                  ... Chico César                                       0.05020   \n",
       "Rosa Morena                                    ... Kurt Elling                                       0.11900   \n",
       "...                                                                                                      ...   \n",
       "1812 Festival Overture, Op. 49: 1812 Overture, ... Pyotr Ilyich Tchaikovsky                          0.06940   \n",
       "Winter Fragments pour ensemble instrumental, so... Tristan Murail                                    0.10100   \n",
       "Schoenberg: 5 Orchestral Pieces, Op. 16: No. 3 ... Arnold Schoenberg                                 0.00093   \n",
       "Serenade For Strings In E, Op.22, B. 52: 1. Mod... Antonín Dvořák                                    0.02080   \n",
       "Ravel: Boléro, M. 81                           ... Maurice Ravel                                     0.04870   \n",
       "\n",
       "                                                                                                     loudness  \\\n",
       "name                                               artist                                                       \n",
       "Se Eu Quiser Falar Com Deus                    ... Gilberto Gil                                      0.763897   \n",
       "Saudade De Bahia                               ... Antônio Carlos Jobim                              0.771967   \n",
       "Canta Canta, Minha Gente                       ... Martinho Da Vila                                  0.798018   \n",
       "Mulher Eu Sei                                  ... Chico César                                       0.682811   \n",
       "Rosa Morena                                    ... Kurt Elling                                       0.655228   \n",
       "...                                                                                                       ...   \n",
       "1812 Festival Overture, Op. 49: 1812 Overture, ... Pyotr Ilyich Tchaikovsky                          0.596818   \n",
       "Winter Fragments pour ensemble instrumental, so... Tristan Murail                                    0.621548   \n",
       "Schoenberg: 5 Orchestral Pieces, Op. 16: No. 3 ... Arnold Schoenberg                                 0.277803   \n",
       "Serenade For Strings In E, Op.22, B. 52: 1. Mod... Antonín Dvořák                                    0.498142   \n",
       "Ravel: Boléro, M. 81                           ... Maurice Ravel                                     0.577614   \n",
       "\n",
       "                                                                                                     mode  \\\n",
       "name                                               artist                                                   \n",
       "Se Eu Quiser Falar Com Deus                    ... Gilberto Gil                                       0.0   \n",
       "Saudade De Bahia                               ... Antônio Carlos Jobim                               1.0   \n",
       "Canta Canta, Minha Gente                       ... Martinho Da Vila                                   1.0   \n",
       "Mulher Eu Sei                                  ... Chico César                                        1.0   \n",
       "Rosa Morena                                    ... Kurt Elling                                        1.0   \n",
       "...                                                                                                   ...   \n",
       "1812 Festival Overture, Op. 49: 1812 Overture, ... Pyotr Ilyich Tchaikovsky                           1.0   \n",
       "Winter Fragments pour ensemble instrumental, so... Tristan Murail                                     1.0   \n",
       "Schoenberg: 5 Orchestral Pieces, Op. 16: No. 3 ... Arnold Schoenberg                                  1.0   \n",
       "Serenade For Strings In E, Op.22, B. 52: 1. Mod... Antonín Dvořák                                     1.0   \n",
       "Ravel: Boléro, M. 81                           ... Maurice Ravel                                      1.0   \n",
       "\n",
       "                                                                                                     speechiness  \\\n",
       "name                                               artist                                                          \n",
       "Se Eu Quiser Falar Com Deus                    ... Gilberto Gil                                         0.076797   \n",
       "Saudade De Bahia                               ... Antônio Carlos Jobim                                 0.037691   \n",
       "Canta Canta, Minha Gente                       ... Martinho Da Vila                                     0.377996   \n",
       "Mulher Eu Sei                                  ... Chico César                                          0.051307   \n",
       "Rosa Morena                                    ... Kurt Elling                                          0.041394   \n",
       "...                                                                                                          ...   \n",
       "1812 Festival Overture, Op. 49: 1812 Overture, ... Pyotr Ilyich Tchaikovsky                             0.051525   \n",
       "Winter Fragments pour ensemble instrumental, so... Tristan Murail                                       0.048148   \n",
       "Schoenberg: 5 Orchestral Pieces, Op. 16: No. 3 ... Arnold Schoenberg                                    0.047277   \n",
       "Serenade For Strings In E, Op.22, B. 52: 1. Mod... Antonín Dvořák                                       0.045643   \n",
       "Ravel: Boléro, M. 81                           ... Maurice Ravel                                        0.035185   \n",
       "\n",
       "                                                                                                     acousticness  \\\n",
       "name                                               artist                                                           \n",
       "Se Eu Quiser Falar Com Deus                    ... Gilberto Gil                                          0.696787   \n",
       "Saudade De Bahia                               ... Antônio Carlos Jobim                                  0.217871   \n",
       "Canta Canta, Minha Gente                       ... Martinho Da Vila                                      0.454819   \n",
       "Mulher Eu Sei                                  ... Chico César                                           0.882530   \n",
       "Rosa Morena                                    ... Kurt Elling                                           0.919679   \n",
       "...                                                                                                           ...   \n",
       "1812 Festival Overture, Op. 49: 1812 Overture, ... Pyotr Ilyich Tchaikovsky                              0.920683   \n",
       "Winter Fragments pour ensemble instrumental, so... Tristan Murail                                        0.858434   \n",
       "Schoenberg: 5 Orchestral Pieces, Op. 16: No. 3 ... Arnold Schoenberg                                     0.954819   \n",
       "Serenade For Strings In E, Op.22, B. 52: 1. Mod... Antonín Dvořák                                        0.886546   \n",
       "Ravel: Boléro, M. 81                           ... Maurice Ravel                                         0.786145   \n",
       "\n",
       "                                                                                                     instrumentalness  \\\n",
       "name                                               artist                                                               \n",
       "Se Eu Quiser Falar Com Deus                    ... Gilberto Gil                                              0.000060   \n",
       "Saudade De Bahia                               ... Antônio Carlos Jobim                                      0.000002   \n",
       "Canta Canta, Minha Gente                       ... Martinho Da Vila                                          0.000064   \n",
       "Mulher Eu Sei                                  ... Chico César                                               0.000041   \n",
       "Rosa Morena                                    ... Kurt Elling                                               0.000348   \n",
       "...                                                                                                               ...   \n",
       "1812 Festival Overture, Op. 49: 1812 Overture, ... Pyotr Ilyich Tchaikovsky                                  0.725888   \n",
       "Winter Fragments pour ensemble instrumental, so... Tristan Murail                                            0.432487   \n",
       "Schoenberg: 5 Orchestral Pieces, Op. 16: No. 3 ... Arnold Schoenberg                                         0.983756   \n",
       "Serenade For Strings In E, Op.22, B. 52: 1. Mod... Antonín Dvořák                                            0.512690   \n",
       "Ravel: Boléro, M. 81                           ... Maurice Ravel                                             0.491371   \n",
       "\n",
       "                                                                                                     liveness  \\\n",
       "name                                               artist                                                       \n",
       "Se Eu Quiser Falar Com Deus                    ... Gilberto Gil                                      0.987842   \n",
       "Saudade De Bahia                               ... Antônio Carlos Jobim                              0.108409   \n",
       "Canta Canta, Minha Gente                       ... Martinho Da Vila                                  0.125633   \n",
       "Mulher Eu Sei                                  ... Chico César                                       0.391084   \n",
       "Rosa Morena                                    ... Kurt Elling                                       0.105370   \n",
       "...                                                                                                       ...   \n",
       "1812 Festival Overture, Op. 49: 1812 Overture, ... Pyotr Ilyich Tchaikovsky                          0.084296   \n",
       "Winter Fragments pour ensemble instrumental, so... Tristan Murail                                    0.070314   \n",
       "Schoenberg: 5 Orchestral Pieces, Op. 16: No. 3 ... Arnold Schoenberg                                 0.078217   \n",
       "Serenade For Strings In E, Op.22, B. 52: 1. Mod... Antonín Dvořák                                    0.112462   \n",
       "Ravel: Boléro, M. 81                           ... Maurice Ravel                                     0.287741   \n",
       "\n",
       "                                                                                                      valence  \\\n",
       "name                                               artist                                                       \n",
       "Se Eu Quiser Falar Com Deus                    ... Gilberto Gil                                      0.310660   \n",
       "Saudade De Bahia                               ... Antônio Carlos Jobim                              0.703553   \n",
       "Canta Canta, Minha Gente                       ... Martinho Da Vila                                  0.918782   \n",
       "Mulher Eu Sei                                  ... Chico César                                       0.531980   \n",
       "Rosa Morena                                    ... Kurt Elling                                       0.408122   \n",
       "...                                                                                                       ...   \n",
       "1812 Festival Overture, Op. 49: 1812 Overture, ... Pyotr Ilyich Tchaikovsky                          0.066497   \n",
       "Winter Fragments pour ensemble instrumental, so... Tristan Murail                                    0.036041   \n",
       "Schoenberg: 5 Orchestral Pieces, Op. 16: No. 3 ... Arnold Schoenberg                                 0.034924   \n",
       "Serenade For Strings In E, Op.22, B. 52: 1. Mod... Antonín Dvořák                                    0.060000   \n",
       "Ravel: Boléro, M. 81                           ... Maurice Ravel                                     0.256853   \n",
       "\n",
       "                                                                                                        tempo  \\\n",
       "name                                               artist                                                       \n",
       "Se Eu Quiser Falar Com Deus                    ... Gilberto Gil                                      0.515800   \n",
       "Saudade De Bahia                               ... Antônio Carlos Jobim                              0.584322   \n",
       "Canta Canta, Minha Gente                       ... Martinho Da Vila                                  0.437862   \n",
       "Mulher Eu Sei                                  ... Chico César                                       0.499098   \n",
       "Rosa Morena                                    ... Kurt Elling                                       0.565171   \n",
       "...                                                                                                       ...   \n",
       "1812 Festival Overture, Op. 49: 1812 Overture, ... Pyotr Ilyich Tchaikovsky                          0.410795   \n",
       "Winter Fragments pour ensemble instrumental, so... Tristan Murail                                    0.388495   \n",
       "Schoenberg: 5 Orchestral Pieces, Op. 16: No. 3 ... Arnold Schoenberg                                 0.334469   \n",
       "Serenade For Strings In E, Op.22, B. 52: 1. Mod... Antonín Dvořák                                    0.313608   \n",
       "Ravel: Boléro, M. 81                           ... Maurice Ravel                                     0.299640   \n",
       "\n",
       "                                                                                                     cluster  \n",
       "name                                               artist                                                     \n",
       "Se Eu Quiser Falar Com Deus                    ... Gilberto Gil                                           31  \n",
       "Saudade De Bahia                               ... Antônio Carlos Jobim                                   18  \n",
       "Canta Canta, Minha Gente                       ... Martinho Da Vila                                       54  \n",
       "Mulher Eu Sei                                  ... Chico César                                            43  \n",
       "Rosa Morena                                    ... Kurt Elling                                            30  \n",
       "...                                                                                                      ...  \n",
       "1812 Festival Overture, Op. 49: 1812 Overture, ... Pyotr Ilyich Tchaikovsky                               40  \n",
       "Winter Fragments pour ensemble instrumental, so... Tristan Murail                                         40  \n",
       "Schoenberg: 5 Orchestral Pieces, Op. 16: No. 3 ... Arnold Schoenberg                                       3  \n",
       "Serenade For Strings In E, Op.22, B. 52: 1. Mod... Antonín Dvořák                                          3  \n",
       "Ravel: Boléro, M. 81                           ... Maurice Ravel                                          40  \n",
       "\n",
       "[5114 rows x 11 columns]"
      ]
     },
     "execution_count": 31,
     "metadata": {},
     "output_type": "execute_result"
    }
   ],
   "source": [
    "songs_minmax"
   ]
  },
  {
   "cell_type": "code",
   "execution_count": null,
   "id": "90b45ac9-e8bd-4eb7-8911-21a591f2012c",
   "metadata": {},
   "outputs": [],
   "source": []
  },
  {
   "cell_type": "markdown",
   "id": "bee9e6fc-60a0-4b05-b796-b5c6c89c386e",
   "metadata": {},
   "source": [
    "## Normal K-Means"
   ]
  },
  {
   "cell_type": "markdown",
   "id": "690673d6-8202-4bc6-9131-9cdd9a18b24a",
   "metadata": {},
   "source": [
    "### Robust Scaler"
   ]
  },
  {
   "cell_type": "code",
   "execution_count": 32,
   "id": "881f1d04-c41f-48a6-a15b-277cfe9a762a",
   "metadata": {
    "tags": []
   },
   "outputs": [],
   "source": [
    "kmeans = KMeans(n_init=10, n_clusters=k_robust, random_state=213)  # random_state for reproducibility\n",
    "songs_robust['cluster'] = kmeans.fit_predict(songs_robust)"
   ]
  },
  {
   "cell_type": "markdown",
   "id": "0ac4c557-641c-4a9e-adfc-4f056b096cf1",
   "metadata": {},
   "source": [
    "### MinMax Scaler"
   ]
  },
  {
   "cell_type": "code",
   "execution_count": 33,
   "id": "421f8376-5028-4d5f-acb2-194cf0091d92",
   "metadata": {
    "tags": []
   },
   "outputs": [],
   "source": [
    "kmeans = KMeans(n_init=10, n_clusters=k_minmax, random_state=213)  # random_state for reproducibility\n",
    "songs_minmax['cluster'] = kmeans.fit_predict(songs_minmax)"
   ]
  },
  {
   "cell_type": "code",
   "execution_count": 34,
   "id": "e9910231-1c92-4524-976b-f84730169f22",
   "metadata": {
    "tags": []
   },
   "outputs": [
    {
     "ename": "NameError",
     "evalue": "name 'k' is not defined",
     "output_type": "error",
     "traceback": [
      "\u001b[0;31m---------------------------------------------------------------------------\u001b[0m",
      "\u001b[0;31mNameError\u001b[0m                                 Traceback (most recent call last)",
      "Cell \u001b[0;32mIn[34], line 8\u001b[0m\n\u001b[1;32m      4\u001b[0m data \u001b[38;5;241m=\u001b[39m songs_robust\u001b[38;5;241m.\u001b[39mdrop(columns\u001b[38;5;241m=\u001b[39m\u001b[38;5;124m'\u001b[39m\u001b[38;5;124mcluster\u001b[39m\u001b[38;5;124m'\u001b[39m, errors\u001b[38;5;241m=\u001b[39m\u001b[38;5;124m'\u001b[39m\u001b[38;5;124mignore\u001b[39m\u001b[38;5;124m'\u001b[39m)\n\u001b[1;32m      7\u001b[0m \u001b[38;5;66;03m# Initialize and fit the model\u001b[39;00m\n\u001b[0;32m----> 8\u001b[0m kmedoids \u001b[38;5;241m=\u001b[39m KMedoids(n_clusters\u001b[38;5;241m=\u001b[39mk, metric\u001b[38;5;241m=\u001b[39m\u001b[38;5;124m'\u001b[39m\u001b[38;5;124meuclidean\u001b[39m\u001b[38;5;124m'\u001b[39m, init\u001b[38;5;241m=\u001b[39m\u001b[38;5;124m'\u001b[39m\u001b[38;5;124mheuristic\u001b[39m\u001b[38;5;124m'\u001b[39m, random_state\u001b[38;5;241m=\u001b[39m\u001b[38;5;241m213\u001b[39m)\n\u001b[1;32m      9\u001b[0m songs_robust[\u001b[38;5;124m'\u001b[39m\u001b[38;5;124mcluster\u001b[39m\u001b[38;5;124m'\u001b[39m] \u001b[38;5;241m=\u001b[39m kmedoids\u001b[38;5;241m.\u001b[39mfit_predict(data)\n",
      "\u001b[0;31mNameError\u001b[0m: name 'k' is not defined"
     ]
    }
   ],
   "source": [
    "from sklearn_extra.cluster import KMedoids\n",
    "\n",
    "# Assuming you have your data in a DataFrame called songs_robust, without the cluster column\n",
    "data = songs_robust.drop(columns='cluster', errors='ignore')\n",
    "\n",
    "\n",
    "# Initialize and fit the model\n",
    "kmedoids = KMedoids(n_clusters=k, metric='euclidean', init='heuristic', random_state=213)\n",
    "songs_robust['cluster'] = kmedoids.fit_predict(data)"
   ]
  },
  {
   "cell_type": "code",
   "execution_count": null,
   "id": "e82fa2ec-0218-405a-961e-598779a5870d",
   "metadata": {
    "tags": []
   },
   "outputs": [],
   "source": [
    "# Step 1: Merge the dataframes\n",
    "merged_df = songs_robust[['cluster']].merge(songs_minmax[['cluster']], left_index=True, right_index=True, suffixes=('_robust', '_minmax'))\n",
    "\n",
    "# Step 2: Create a contingency table\n",
    "contingency_table = pd.crosstab(merged_df['cluster_robust'], merged_df['cluster_minmax'])\n",
    "\n",
    "# Display the table\n",
    "print(contingency_table)"
   ]
  },
  {
   "cell_type": "markdown",
   "id": "179f2450-b1ef-4515-a822-119bf1451945",
   "metadata": {},
   "source": [
    "Let me use the songs_robust clusters from the Robust K-Means with the Robust Scaler from here on."
   ]
  },
  {
   "cell_type": "markdown",
   "id": "50688765-c8f8-4224-a0cc-5b7ef1bffbbe",
   "metadata": {},
   "source": [
    "Let us look at the correlation between features, as to decide whether we can drop columns and refine our model."
   ]
  },
  {
   "cell_type": "code",
   "execution_count": null,
   "id": "3a143e63-9f4b-4613-828a-365617a6fb89",
   "metadata": {
    "tags": []
   },
   "outputs": [],
   "source": [
    "# Assuming songs_robust is your DataFrame\n",
    "correlation_matrix = songs_robust[songs_robust.columns].corr()"
   ]
  },
  {
   "cell_type": "code",
   "execution_count": null,
   "id": "b40e9525-0162-418d-87a9-6cea4e58083f",
   "metadata": {
    "tags": []
   },
   "outputs": [],
   "source": [
    "plt.figure(figsize=(12,10))\n",
    "sns.heatmap(correlation_matrix, annot=True, cmap='coolwarm')\n",
    "plt.show()"
   ]
  },
  {
   "cell_type": "markdown",
   "id": "8123430a-2e5c-4d98-b04f-3f8950ac3b76",
   "metadata": {},
   "source": [
    "# Feature Importance"
   ]
  },
  {
   "cell_type": "markdown",
   "id": "f40c8693-d359-4395-8249-7f137a7794d1",
   "metadata": {},
   "source": [
    "## Extra Trees Classifier"
   ]
  },
  {
   "cell_type": "markdown",
   "id": "7b2811f4-1f7f-4b48-9a34-cf732e9f8b28",
   "metadata": {},
   "source": [
    "### Robust"
   ]
  },
  {
   "cell_type": "code",
   "execution_count": 35,
   "id": "81cf541d-af83-4460-887a-a75aa06ec4b1",
   "metadata": {
    "tags": []
   },
   "outputs": [
    {
     "name": "stdout",
     "output_type": "stream",
     "text": [
      "Ranked Features: ['tempo', 'liveness', 'speechiness', 'loudness', 'energy', 'valence', 'acousticness', 'instrumentalness', 'danceability', 'mode']\n"
     ]
    }
   ],
   "source": [
    "# Tree model classifiers\n",
    "songs_without_cluster = songs_robust.drop('cluster', axis=1)\n",
    "tree_model = ExtraTreesClassifier().fit(songs_without_cluster, clusters)\n",
    "feature_importance = tree_model.feature_importances_\n",
    "\n",
    "ranked_features = [x for _, x in sorted(zip(feature_importance, songs_without_cluster.columns), reverse=True)]\n",
    "print(\"Ranked Features:\", ranked_features)"
   ]
  },
  {
   "cell_type": "code",
   "execution_count": 36,
   "id": "61f9fc7e-b4ca-4475-aca5-963c6c093450",
   "metadata": {
    "tags": []
   },
   "outputs": [
    {
     "name": "stdout",
     "output_type": "stream",
     "text": [
      "Feature: tempo, Importance: 0.15068530816574116\n",
      "Feature: liveness, Importance: 0.1361427718770235\n",
      "Feature: speechiness, Importance: 0.13134472555698656\n",
      "Feature: loudness, Importance: 0.11128352062771688\n",
      "Feature: energy, Importance: 0.09158780362903425\n",
      "Feature: valence, Importance: 0.09154511025648177\n",
      "Feature: acousticness, Importance: 0.085120967560098\n",
      "Feature: instrumentalness, Importance: 0.08346566757569147\n",
      "Feature: danceability, Importance: 0.08230868822344985\n",
      "Feature: mode, Importance: 0.03651543652777673\n"
     ]
    }
   ],
   "source": [
    "features_with_importance = sorted(list(zip(songs_without_cluster.columns, feature_importance)), key=lambda x: x[1], reverse=True)\n",
    "\n",
    "for feature, importance in features_with_importance:\n",
    "    print(f\"Feature: {feature}, Importance: {importance}\")"
   ]
  },
  {
   "cell_type": "markdown",
   "id": "2921ce44-dd5a-45ed-9eba-64318adaef39",
   "metadata": {},
   "source": [
    "### MinMax"
   ]
  },
  {
   "cell_type": "code",
   "execution_count": 37,
   "id": "df189bde-3bd2-45bf-acb0-4b7b4fbd6eb3",
   "metadata": {
    "tags": []
   },
   "outputs": [
    {
     "name": "stdout",
     "output_type": "stream",
     "text": [
      "Ranked Features: ['tempo', 'liveness', 'speechiness', 'loudness', 'valence', 'energy', 'acousticness', 'instrumentalness', 'danceability', 'mode']\n"
     ]
    }
   ],
   "source": [
    "# Tree model classifiers\n",
    "songs_without_cluster = songs_minmax.drop('cluster', axis=1)\n",
    "tree_model = ExtraTreesClassifier().fit(songs_without_cluster, clusters)\n",
    "feature_importance = tree_model.feature_importances_\n",
    "\n",
    "ranked_features = [x for _, x in sorted(zip(feature_importance, songs_without_cluster.columns), reverse=True)]\n",
    "print(\"Ranked Features:\", ranked_features)"
   ]
  },
  {
   "cell_type": "code",
   "execution_count": 38,
   "id": "fc722394-8788-442d-8801-b784dcfdffa3",
   "metadata": {
    "tags": []
   },
   "outputs": [
    {
     "name": "stdout",
     "output_type": "stream",
     "text": [
      "Feature: tempo, Importance: 0.1540201154779712\n",
      "Feature: liveness, Importance: 0.13639500321585651\n",
      "Feature: speechiness, Importance: 0.1318216470558104\n",
      "Feature: loudness, Importance: 0.1108788923403626\n",
      "Feature: valence, Importance: 0.09187146081491239\n",
      "Feature: energy, Importance: 0.09069119444368383\n",
      "Feature: acousticness, Importance: 0.08387515277070995\n",
      "Feature: instrumentalness, Importance: 0.08281679928519192\n",
      "Feature: danceability, Importance: 0.08157675972696449\n",
      "Feature: mode, Importance: 0.03605297486853677\n"
     ]
    }
   ],
   "source": [
    "features_with_importance = sorted(list(zip(songs_without_cluster.columns, feature_importance)), key=lambda x: x[1], reverse=True)\n",
    "\n",
    "for feature, importance in features_with_importance:\n",
    "    print(f\"Feature: {feature}, Importance: {importance}\")"
   ]
  },
  {
   "cell_type": "markdown",
   "id": "40044af8-583e-4f9a-9afd-e6984e37538e",
   "metadata": {},
   "source": [
    "## Correlation Matrix of Features"
   ]
  },
  {
   "cell_type": "markdown",
   "id": "2d48a779-66df-469b-9635-ce70bf79d3c3",
   "metadata": {},
   "source": [
    "Let us look at the correlation between features, as to decide whether we can drop columns and refine our model."
   ]
  },
  {
   "cell_type": "code",
   "execution_count": 39,
   "id": "06dd91fb-c959-4aff-8be8-44dcbe1874aa",
   "metadata": {
    "tags": []
   },
   "outputs": [
    {
     "data": {
      "text/html": [
       "<div>\n",
       "<style scoped>\n",
       "    .dataframe tbody tr th:only-of-type {\n",
       "        vertical-align: middle;\n",
       "    }\n",
       "\n",
       "    .dataframe tbody tr th {\n",
       "        vertical-align: top;\n",
       "    }\n",
       "\n",
       "    .dataframe thead th {\n",
       "        text-align: right;\n",
       "    }\n",
       "</style>\n",
       "<table border=\"1\" class=\"dataframe\">\n",
       "  <thead>\n",
       "    <tr style=\"text-align: right;\">\n",
       "      <th></th>\n",
       "      <th>danceability</th>\n",
       "      <th>energy</th>\n",
       "      <th>loudness</th>\n",
       "      <th>mode</th>\n",
       "      <th>speechiness</th>\n",
       "      <th>acousticness</th>\n",
       "      <th>instrumentalness</th>\n",
       "      <th>liveness</th>\n",
       "      <th>valence</th>\n",
       "      <th>tempo</th>\n",
       "    </tr>\n",
       "  </thead>\n",
       "  <tbody>\n",
       "    <tr>\n",
       "      <th>danceability</th>\n",
       "      <td>1.000000</td>\n",
       "      <td>0.038752</td>\n",
       "      <td>0.355277</td>\n",
       "      <td>-0.083810</td>\n",
       "      <td>0.037199</td>\n",
       "      <td>-0.107204</td>\n",
       "      <td>-0.572295</td>\n",
       "      <td>-0.027832</td>\n",
       "      <td>0.680607</td>\n",
       "      <td>-0.008977</td>\n",
       "    </tr>\n",
       "    <tr>\n",
       "      <th>energy</th>\n",
       "      <td>0.038752</td>\n",
       "      <td>1.000000</td>\n",
       "      <td>0.787901</td>\n",
       "      <td>-0.010320</td>\n",
       "      <td>0.309862</td>\n",
       "      <td>-0.852631</td>\n",
       "      <td>-0.168540</td>\n",
       "      <td>0.172103</td>\n",
       "      <td>0.156522</td>\n",
       "      <td>0.211375</td>\n",
       "    </tr>\n",
       "    <tr>\n",
       "      <th>loudness</th>\n",
       "      <td>0.355277</td>\n",
       "      <td>0.787901</td>\n",
       "      <td>1.000000</td>\n",
       "      <td>-0.029369</td>\n",
       "      <td>0.238916</td>\n",
       "      <td>-0.697149</td>\n",
       "      <td>-0.468724</td>\n",
       "      <td>0.138220</td>\n",
       "      <td>0.334090</td>\n",
       "      <td>0.211888</td>\n",
       "    </tr>\n",
       "    <tr>\n",
       "      <th>mode</th>\n",
       "      <td>-0.083810</td>\n",
       "      <td>-0.010320</td>\n",
       "      <td>-0.029369</td>\n",
       "      <td>1.000000</td>\n",
       "      <td>-0.042403</td>\n",
       "      <td>0.029395</td>\n",
       "      <td>-0.006184</td>\n",
       "      <td>-0.011277</td>\n",
       "      <td>0.007838</td>\n",
       "      <td>0.003077</td>\n",
       "    </tr>\n",
       "    <tr>\n",
       "      <th>speechiness</th>\n",
       "      <td>0.037199</td>\n",
       "      <td>0.309862</td>\n",
       "      <td>0.238916</td>\n",
       "      <td>-0.042403</td>\n",
       "      <td>1.000000</td>\n",
       "      <td>-0.270257</td>\n",
       "      <td>-0.063959</td>\n",
       "      <td>0.085533</td>\n",
       "      <td>-0.012156</td>\n",
       "      <td>0.060589</td>\n",
       "    </tr>\n",
       "    <tr>\n",
       "      <th>acousticness</th>\n",
       "      <td>-0.107204</td>\n",
       "      <td>-0.852631</td>\n",
       "      <td>-0.697149</td>\n",
       "      <td>0.029395</td>\n",
       "      <td>-0.270257</td>\n",
       "      <td>1.000000</td>\n",
       "      <td>0.191980</td>\n",
       "      <td>-0.104940</td>\n",
       "      <td>-0.129302</td>\n",
       "      <td>-0.187175</td>\n",
       "    </tr>\n",
       "    <tr>\n",
       "      <th>instrumentalness</th>\n",
       "      <td>-0.572295</td>\n",
       "      <td>-0.168540</td>\n",
       "      <td>-0.468724</td>\n",
       "      <td>-0.006184</td>\n",
       "      <td>-0.063959</td>\n",
       "      <td>0.191980</td>\n",
       "      <td>1.000000</td>\n",
       "      <td>-0.054768</td>\n",
       "      <td>-0.500920</td>\n",
       "      <td>-0.069002</td>\n",
       "    </tr>\n",
       "    <tr>\n",
       "      <th>liveness</th>\n",
       "      <td>-0.027832</td>\n",
       "      <td>0.172103</td>\n",
       "      <td>0.138220</td>\n",
       "      <td>-0.011277</td>\n",
       "      <td>0.085533</td>\n",
       "      <td>-0.104940</td>\n",
       "      <td>-0.054768</td>\n",
       "      <td>1.000000</td>\n",
       "      <td>0.011380</td>\n",
       "      <td>0.036759</td>\n",
       "    </tr>\n",
       "    <tr>\n",
       "      <th>valence</th>\n",
       "      <td>0.680607</td>\n",
       "      <td>0.156522</td>\n",
       "      <td>0.334090</td>\n",
       "      <td>0.007838</td>\n",
       "      <td>-0.012156</td>\n",
       "      <td>-0.129302</td>\n",
       "      <td>-0.500920</td>\n",
       "      <td>0.011380</td>\n",
       "      <td>1.000000</td>\n",
       "      <td>0.101288</td>\n",
       "    </tr>\n",
       "    <tr>\n",
       "      <th>tempo</th>\n",
       "      <td>-0.008977</td>\n",
       "      <td>0.211375</td>\n",
       "      <td>0.211888</td>\n",
       "      <td>0.003077</td>\n",
       "      <td>0.060589</td>\n",
       "      <td>-0.187175</td>\n",
       "      <td>-0.069002</td>\n",
       "      <td>0.036759</td>\n",
       "      <td>0.101288</td>\n",
       "      <td>1.000000</td>\n",
       "    </tr>\n",
       "  </tbody>\n",
       "</table>\n",
       "</div>"
      ],
      "text/plain": [
       "                  danceability    energy  loudness      mode  speechiness  \\\n",
       "danceability          1.000000  0.038752  0.355277 -0.083810     0.037199   \n",
       "energy                0.038752  1.000000  0.787901 -0.010320     0.309862   \n",
       "loudness              0.355277  0.787901  1.000000 -0.029369     0.238916   \n",
       "mode                 -0.083810 -0.010320 -0.029369  1.000000    -0.042403   \n",
       "speechiness           0.037199  0.309862  0.238916 -0.042403     1.000000   \n",
       "acousticness         -0.107204 -0.852631 -0.697149  0.029395    -0.270257   \n",
       "instrumentalness     -0.572295 -0.168540 -0.468724 -0.006184    -0.063959   \n",
       "liveness             -0.027832  0.172103  0.138220 -0.011277     0.085533   \n",
       "valence               0.680607  0.156522  0.334090  0.007838    -0.012156   \n",
       "tempo                -0.008977  0.211375  0.211888  0.003077     0.060589   \n",
       "\n",
       "                  acousticness  instrumentalness  liveness   valence     tempo  \n",
       "danceability         -0.107204         -0.572295 -0.027832  0.680607 -0.008977  \n",
       "energy               -0.852631         -0.168540  0.172103  0.156522  0.211375  \n",
       "loudness             -0.697149         -0.468724  0.138220  0.334090  0.211888  \n",
       "mode                  0.029395         -0.006184 -0.011277  0.007838  0.003077  \n",
       "speechiness          -0.270257         -0.063959  0.085533 -0.012156  0.060589  \n",
       "acousticness          1.000000          0.191980 -0.104940 -0.129302 -0.187175  \n",
       "instrumentalness      0.191980          1.000000 -0.054768 -0.500920 -0.069002  \n",
       "liveness             -0.104940         -0.054768  1.000000  0.011380  0.036759  \n",
       "valence              -0.129302         -0.500920  0.011380  1.000000  0.101288  \n",
       "tempo                -0.187175         -0.069002  0.036759  0.101288  1.000000  "
      ]
     },
     "execution_count": 39,
     "metadata": {},
     "output_type": "execute_result"
    }
   ],
   "source": [
    "# Assuming songs_robust is your DataFrame\n",
    "songs_cluster = songs_minmax.drop('cluster', axis=1)\n",
    "correlation_matrix = songs_cluster[songs_cluster.columns].corr()\n",
    "correlation_matrix"
   ]
  },
  {
   "cell_type": "code",
   "execution_count": 40,
   "id": "e5955787-5348-4619-8fb9-e4c28edbe1d0",
   "metadata": {
    "tags": []
   },
   "outputs": [
    {
     "data": {
      "image/png": "[encoded data removed]",
      "text/plain": [
       "<Figure size 1200x1000 with 2 Axes>"
      ]
     },
     "metadata": {},
     "output_type": "display_data"
    }
   ],
   "source": [
    "plt.figure(figsize=(12,10))\n",
    "sns.heatmap(correlation_matrix, annot=True, cmap='coolwarm')\n",
    "plt.show()"
   ]
  },
  {
   "cell_type": "markdown",
   "id": "e1024677-dc9c-45e8-916c-96f6ec970f43",
   "metadata": {},
   "source": [
    "# Evaluating the Model"
   ]
  },
  {
   "cell_type": "markdown",
   "id": "dc14888b-9527-45fb-8fd6-8f17c7cf445b",
   "metadata": {},
   "source": [
    "## Silhouette Score"
   ]
  },
  {
   "cell_type": "markdown",
   "id": "9bede052-2a0f-4bf7-9f3f-9f962afa3d28",
   "metadata": {},
   "source": [
    "Definition: The Silhouette Score measures how close each point in one cluster is to the points in the neighboring clusters."
   ]
  },
  {
   "cell_type": "markdown",
   "id": "369daab1-44f0-4136-8224-00c9cd9822fe",
   "metadata": {},
   "source": [
    "Silhouette Score:\n",
    "Range: The silhouette score ranges from -1 to 1.\n",
    "\n",
    "Interpretation:\n",
    "\n",
    "- Near +1: The clusters are well apart from each other and clearly distinguished.\n",
    "- 0: The clusters are overlapping and there is considerable intermingling.\n",
    "- Near -1: Points have been assigned to the wrong clusters.\n",
    "\n",
    "General Guideline:\n",
    "\n",
    "over 0.7: A strong structure has been found.\n",
    "\n",
    "0.5 - 0.7: A reasonable structure has been found.\n",
    "\n",
    "0.25 - 0.5: The structure is weak and could be artificial. Try additional cluster evaluation metrics and techniques.\n",
    "\n",
    "< 0.25: No substantial structure has been found."
   ]
  },
  {
   "cell_type": "code",
   "execution_count": 41,
   "id": "179201df-830d-401f-a030-f12584b731d7",
   "metadata": {
    "tags": []
   },
   "outputs": [
    {
     "name": "stdout",
     "output_type": "stream",
     "text": [
      "Silhouette Score:  -0.2061338488185666\n"
     ]
    }
   ],
   "source": [
    "# Assume kmeans is your clustering model and X is your data\n",
    "score = silhouette_score(songs_robust, kmeans.labels_, random_state=213)\n",
    "print(\"Silhouette Score: \", score)"
   ]
  },
  {
   "cell_type": "code",
   "execution_count": 42,
   "id": "fd67d980-8f40-4c15-9d68-a410d8b1adfb",
   "metadata": {},
   "outputs": [
    {
     "name": "stdout",
     "output_type": "stream",
     "text": [
      "Silhouette Score:  0.6118789314715375\n"
     ]
    }
   ],
   "source": [
    "# Assume kmeans is your clustering model and X is your data\n",
    "score = silhouette_score(songs_minmax, kmeans.labels_, random_state=213)\n",
    "print(\"Silhouette Score: \", score)"
   ]
  },
  {
   "cell_type": "markdown",
   "id": "06830d16-ccc1-4250-884f-3281c1cd9996",
   "metadata": {},
   "source": [
    "## Davies-Bouldin Index"
   ]
  },
  {
   "cell_type": "markdown",
   "id": "c241e050-5f4e-4095-8d0e-788abc1b357c",
   "metadata": {},
   "source": [
    "The Davies-Bouldin index signifies the average 'similarity' ratio of each cluster with its most similar cluster. Here, 'similarity' is a measure that compares the distance between clusters with the size of the clusters themselves."
   ]
  },
  {
   "cell_type": "markdown",
   "id": "f7b7f2e3-9445-47e2-8600-4c632b913733",
   "metadata": {},
   "source": [
    "Range: The DB index values start from 0 and can be infinite.\n",
    "\n",
    "Interpretation:\n",
    "\n",
    "- Lower values: Indicate better clustering. Ideally, you want the DB index to be as close to 0 as possible.\n",
    "- Higher values: Indicate that the clusters are less dense and/or more separated.\n",
    "\n",
    "General Guideline:\n",
    "\n",
    "As with any heuristic, there's no strict threshold for a \"good\" DB index value because it largely depends on the dataset. Still, lower is better. If you try different clustering configurations or algorithms, you'd prefer the one with a lower DB index over others."
   ]
  },
  {
   "cell_type": "code",
   "execution_count": 43,
   "id": "8aba0d92-2d51-4088-aa31-4662cb6e32a7",
   "metadata": {
    "tags": []
   },
   "outputs": [
    {
     "name": "stdout",
     "output_type": "stream",
     "text": [
      "Davies-Bouldin Index:  7.51415590039779\n"
     ]
    }
   ],
   "source": [
    "# Assume kmeans is your clustering model and X is your data\n",
    "db_score = davies_bouldin_score(songs_robust, kmeans.labels_)\n",
    "print(\"Davies-Bouldin Index: \", db_score)"
   ]
  },
  {
   "cell_type": "code",
   "execution_count": 44,
   "id": "7c779a2f-ff2c-429f-9efa-453c9c6a1d07",
   "metadata": {
    "tags": []
   },
   "outputs": [
    {
     "name": "stdout",
     "output_type": "stream",
     "text": [
      "Davies-Bouldin Index:  0.6696295584034224\n"
     ]
    }
   ],
   "source": [
    "# Assume kmeans is your clustering model and X is your data\n",
    "db_score = davies_bouldin_score(songs_minmax, kmeans.labels_)\n",
    "print(\"Davies-Bouldin Index: \", db_score)"
   ]
  },
  {
   "cell_type": "markdown",
   "id": "ec848073-4fad-4278-9a76-0495560a96dd",
   "metadata": {},
   "source": [
    "The best model so far is the Normal K-Means using the MinMax Scaler"
   ]
  },
  {
   "cell_type": "markdown",
   "id": "376f7daf-531d-448e-82dc-fb6bc1772851",
   "metadata": {},
   "source": [
    "# Improving the Model"
   ]
  },
  {
   "cell_type": "markdown",
   "id": "9c4b6394-abcb-4f90-9d7f-13d16ad45b3d",
   "metadata": {
    "jp-MarkdownHeadingCollapsed": true,
    "tags": []
   },
   "source": [
    "## Principal Component Analysis"
   ]
  },
  {
   "cell_type": "code",
   "execution_count": 45,
   "id": "648dec3b-de67-43ee-a935-cf8b54c74dd1",
   "metadata": {
    "tags": []
   },
   "outputs": [],
   "source": [
    "# Initialize PCA\n",
    "pca = PCA()\n",
    "songs_no_cluster = songs_minmax.drop('cluster', axis=1, errors='ignore') # errors='ignore' ensures no error if the column doesn't exist\n",
    "# Fit and transform the data\n",
    "songs_pca = pca.fit_transform(songs_no_cluster)"
   ]
  },
  {
   "cell_type": "code",
   "execution_count": 46,
   "id": "5a28d5f3-2a47-4a86-8670-855e86fb2718",
   "metadata": {
    "tags": []
   },
   "outputs": [
    {
     "data": {
      "image/png": "[encoded data removed]",
      "text/plain": [
       "<Figure size 1000x600 with 1 Axes>"
      ]
     },
     "metadata": {},
     "output_type": "display_data"
    }
   ],
   "source": [
    "plt.figure(figsize=(10,6))\n",
    "plt.plot(range(1, len(pca.explained_variance_ratio_)+1), pca.explained_variance_ratio_.cumsum(), marker='o', linestyle='--')\n",
    "plt.title('Explained Variance by Components')\n",
    "plt.xlabel('Number of Components')\n",
    "plt.ylabel('Cumulative Explained Variance')\n",
    "plt.show()"
   ]
  },
  {
   "cell_type": "code",
   "execution_count": 47,
   "id": "6d96c344-57e4-4e8f-8afa-6798cd8a3a65",
   "metadata": {
    "tags": []
   },
   "outputs": [
    {
     "data": {
      "text/html": [
       "<div>\n",
       "<style scoped>\n",
       "    .dataframe tbody tr th:only-of-type {\n",
       "        vertical-align: middle;\n",
       "    }\n",
       "\n",
       "    .dataframe tbody tr th {\n",
       "        vertical-align: top;\n",
       "    }\n",
       "\n",
       "    .dataframe thead th {\n",
       "        text-align: right;\n",
       "    }\n",
       "</style>\n",
       "<table border=\"1\" class=\"dataframe\">\n",
       "  <thead>\n",
       "    <tr style=\"text-align: right;\">\n",
       "      <th></th>\n",
       "      <th>danceability</th>\n",
       "      <th>energy</th>\n",
       "      <th>loudness</th>\n",
       "      <th>mode</th>\n",
       "      <th>speechiness</th>\n",
       "      <th>acousticness</th>\n",
       "      <th>instrumentalness</th>\n",
       "      <th>liveness</th>\n",
       "      <th>valence</th>\n",
       "      <th>tempo</th>\n",
       "    </tr>\n",
       "  </thead>\n",
       "  <tbody>\n",
       "    <tr>\n",
       "      <th>PC1</th>\n",
       "      <td>-0.248396</td>\n",
       "      <td>-0.414496</td>\n",
       "      <td>-0.165074</td>\n",
       "      <td>0.277043</td>\n",
       "      <td>-0.036394</td>\n",
       "      <td>0.537350</td>\n",
       "      <td>0.519306</td>\n",
       "      <td>-0.037767</td>\n",
       "      <td>-0.314176</td>\n",
       "      <td>-0.051080</td>\n",
       "    </tr>\n",
       "    <tr>\n",
       "      <th>PC2</th>\n",
       "      <td>-0.037640</td>\n",
       "      <td>-0.115988</td>\n",
       "      <td>-0.043974</td>\n",
       "      <td>-0.959450</td>\n",
       "      <td>-0.003348</td>\n",
       "      <td>0.134252</td>\n",
       "      <td>0.180375</td>\n",
       "      <td>-0.007625</td>\n",
       "      <td>-0.108363</td>\n",
       "      <td>-0.016800</td>\n",
       "    </tr>\n",
       "    <tr>\n",
       "      <th>PC3</th>\n",
       "      <td>-0.318553</td>\n",
       "      <td>0.429874</td>\n",
       "      <td>0.053248</td>\n",
       "      <td>0.024235</td>\n",
       "      <td>0.037863</td>\n",
       "      <td>-0.534984</td>\n",
       "      <td>0.543646</td>\n",
       "      <td>0.034903</td>\n",
       "      <td>-0.352890</td>\n",
       "      <td>0.036982</td>\n",
       "    </tr>\n",
       "    <tr>\n",
       "      <th>PC4</th>\n",
       "      <td>0.320806</td>\n",
       "      <td>0.043672</td>\n",
       "      <td>-0.011350</td>\n",
       "      <td>0.016281</td>\n",
       "      <td>-0.017716</td>\n",
       "      <td>-0.007362</td>\n",
       "      <td>0.614621</td>\n",
       "      <td>-0.050254</td>\n",
       "      <td>0.716638</td>\n",
       "      <td>0.023650</td>\n",
       "    </tr>\n",
       "    <tr>\n",
       "      <th>PC5</th>\n",
       "      <td>-0.353835</td>\n",
       "      <td>0.266267</td>\n",
       "      <td>0.043895</td>\n",
       "      <td>-0.019355</td>\n",
       "      <td>0.018642</td>\n",
       "      <td>0.307385</td>\n",
       "      <td>-0.036187</td>\n",
       "      <td>0.786349</td>\n",
       "      <td>0.226870</td>\n",
       "      <td>0.188798</td>\n",
       "    </tr>\n",
       "    <tr>\n",
       "      <th>PC6</th>\n",
       "      <td>0.545763</td>\n",
       "      <td>-0.169473</td>\n",
       "      <td>-0.005098</td>\n",
       "      <td>0.031367</td>\n",
       "      <td>0.034143</td>\n",
       "      <td>-0.164322</td>\n",
       "      <td>0.108372</td>\n",
       "      <td>0.567711</td>\n",
       "      <td>-0.272731</td>\n",
       "      <td>-0.485615</td>\n",
       "    </tr>\n",
       "    <tr>\n",
       "      <th>PC7</th>\n",
       "      <td>0.340178</td>\n",
       "      <td>-0.268056</td>\n",
       "      <td>-0.003098</td>\n",
       "      <td>0.017390</td>\n",
       "      <td>0.006930</td>\n",
       "      <td>-0.148190</td>\n",
       "      <td>0.061879</td>\n",
       "      <td>0.161574</td>\n",
       "      <td>-0.207428</td>\n",
       "      <td>0.846843</td>\n",
       "    </tr>\n",
       "    <tr>\n",
       "      <th>PC8</th>\n",
       "      <td>-0.418799</td>\n",
       "      <td>-0.602461</td>\n",
       "      <td>-0.261519</td>\n",
       "      <td>-0.013289</td>\n",
       "      <td>-0.128015</td>\n",
       "      <td>-0.511968</td>\n",
       "      <td>-0.062276</td>\n",
       "      <td>0.166453</td>\n",
       "      <td>0.279336</td>\n",
       "      <td>-0.070481</td>\n",
       "    </tr>\n",
       "    <tr>\n",
       "      <th>PC9</th>\n",
       "      <td>-0.051532</td>\n",
       "      <td>-0.086456</td>\n",
       "      <td>-0.108276</td>\n",
       "      <td>0.003726</td>\n",
       "      <td>0.987059</td>\n",
       "      <td>-0.022750</td>\n",
       "      <td>-0.005845</td>\n",
       "      <td>-0.017804</td>\n",
       "      <td>0.054536</td>\n",
       "      <td>-0.002015</td>\n",
       "    </tr>\n",
       "    <tr>\n",
       "      <th>PC10</th>\n",
       "      <td>0.125156</td>\n",
       "      <td>0.293485</td>\n",
       "      <td>-0.941156</td>\n",
       "      <td>-0.000454</td>\n",
       "      <td>-0.068428</td>\n",
       "      <td>0.029891</td>\n",
       "      <td>-0.060667</td>\n",
       "      <td>-0.001575</td>\n",
       "      <td>-0.039592</td>\n",
       "      <td>0.040016</td>\n",
       "    </tr>\n",
       "  </tbody>\n",
       "</table>\n",
       "</div>"
      ],
      "text/plain": [
       "      danceability    energy  loudness      mode  speechiness  acousticness  \\\n",
       "PC1      -0.248396 -0.414496 -0.165074  0.277043    -0.036394      0.537350   \n",
       "PC2      -0.037640 -0.115988 -0.043974 -0.959450    -0.003348      0.134252   \n",
       "PC3      -0.318553  0.429874  0.053248  0.024235     0.037863     -0.534984   \n",
       "PC4       0.320806  0.043672 -0.011350  0.016281    -0.017716     -0.007362   \n",
       "PC5      -0.353835  0.266267  0.043895 -0.019355     0.018642      0.307385   \n",
       "PC6       0.545763 -0.169473 -0.005098  0.031367     0.034143     -0.164322   \n",
       "PC7       0.340178 -0.268056 -0.003098  0.017390     0.006930     -0.148190   \n",
       "PC8      -0.418799 -0.602461 -0.261519 -0.013289    -0.128015     -0.511968   \n",
       "PC9      -0.051532 -0.086456 -0.108276  0.003726     0.987059     -0.022750   \n",
       "PC10      0.125156  0.293485 -0.941156 -0.000454    -0.068428      0.029891   \n",
       "\n",
       "      instrumentalness  liveness   valence     tempo  \n",
       "PC1           0.519306 -0.037767 -0.314176 -0.051080  \n",
       "PC2           0.180375 -0.007625 -0.108363 -0.016800  \n",
       "PC3           0.543646  0.034903 -0.352890  0.036982  \n",
       "PC4           0.614621 -0.050254  0.716638  0.023650  \n",
       "PC5          -0.036187  0.786349  0.226870  0.188798  \n",
       "PC6           0.108372  0.567711 -0.272731 -0.485615  \n",
       "PC7           0.061879  0.161574 -0.207428  0.846843  \n",
       "PC8          -0.062276  0.166453  0.279336 -0.070481  \n",
       "PC9          -0.005845 -0.017804  0.054536 -0.002015  \n",
       "PC10         -0.060667 -0.001575 -0.039592  0.040016  "
      ]
     },
     "execution_count": 47,
     "metadata": {},
     "output_type": "execute_result"
    }
   ],
   "source": [
    "pd.DataFrame(pca.components_, columns=songs_no_cluster.columns, index=[f'PC{i+1}' for i in range(len(pca.components_))])"
   ]
  },
  {
   "cell_type": "code",
   "execution_count": 48,
   "id": "1a61f948-0cd7-4573-bd7b-5398c4fccfaa",
   "metadata": {
    "tags": []
   },
   "outputs": [
    {
     "name": "stdout",
     "output_type": "stream",
     "text": [
      "The average silhouette score for 1 number of components is: 0.5254842854662473\n",
      "The average silhouette score for 2 number of components is: 0.45902197940613737\n",
      "The average silhouette score for 3 number of components is: 0.36086620394197977\n",
      "The average silhouette score for 4 number of components is: 0.31846863421798755\n",
      "The average silhouette score for 5 number of components is: 0.251418033993133\n",
      "The average silhouette score for 6 number of components is: 0.21295207715919168\n",
      "The average silhouette score for 7 number of components is: 0.18189820266124418\n",
      "The average silhouette score for 8 number of components is: 0.17599406083463032\n",
      "The average silhouette score for 9 number of components is: 0.1626896520794253\n",
      "The average silhouette score for 10 number of components is: 0.16507929979201277\n"
     ]
    }
   ],
   "source": [
    "for i in range(1,11):\n",
    "    pca = PCA(n_components=i, random_state=213)\n",
    "    songs_pca = pca.fit_transform(songs_no_cluster)\n",
    "    kmeans = KMeans(n_init=10, n_clusters=55, random_state=213)  # or the number of clusters you've determined\n",
    "\n",
    "    # Fit the model and predict cluster labels\n",
    "    clusters = kmeans.fit_predict(songs_pca)\n",
    "\n",
    "    # Add to your dataframe\n",
    "    songs_minmax['cluster'] = clusters\n",
    "    silhouette_avg = silhouette_score(songs_pca, songs_minmax['cluster'], random_state=213)\n",
    "    print(f\"The average silhouette score for {i} number of components is:\", silhouette_avg)"
   ]
  },
  {
   "cell_type": "markdown",
   "id": "34acadc6-9673-40ad-8388-ad6a39ac2bb9",
   "metadata": {},
   "source": [
    "Conclusion. PCA is not a great method. Let us move on."
   ]
  },
  {
   "cell_type": "markdown",
   "id": "627f18de-f5dd-4e60-a795-e197bb5e1edf",
   "metadata": {
    "jp-MarkdownHeadingCollapsed": true,
    "tags": []
   },
   "source": [
    "## Feature Importance"
   ]
  },
  {
   "cell_type": "code",
   "execution_count": 49,
   "id": "9354d8de-01c9-4c65-82b5-98eeb2a105eb",
   "metadata": {
    "tags": []
   },
   "outputs": [
    {
     "data": {
      "text/html": [
       "<div>\n",
       "<style scoped>\n",
       "    .dataframe tbody tr th:only-of-type {\n",
       "        vertical-align: middle;\n",
       "    }\n",
       "\n",
       "    .dataframe tbody tr th {\n",
       "        vertical-align: top;\n",
       "    }\n",
       "\n",
       "    .dataframe thead th {\n",
       "        text-align: right;\n",
       "    }\n",
       "</style>\n",
       "<table border=\"1\" class=\"dataframe\">\n",
       "  <thead>\n",
       "    <tr style=\"text-align: right;\">\n",
       "      <th></th>\n",
       "      <th>Feature</th>\n",
       "      <th>Importance</th>\n",
       "    </tr>\n",
       "  </thead>\n",
       "  <tbody>\n",
       "    <tr>\n",
       "      <th>6</th>\n",
       "      <td>instrumentalness</td>\n",
       "      <td>0.134285</td>\n",
       "    </tr>\n",
       "    <tr>\n",
       "      <th>8</th>\n",
       "      <td>valence</td>\n",
       "      <td>0.126743</td>\n",
       "    </tr>\n",
       "    <tr>\n",
       "      <th>0</th>\n",
       "      <td>danceability</td>\n",
       "      <td>0.124574</td>\n",
       "    </tr>\n",
       "    <tr>\n",
       "      <th>5</th>\n",
       "      <td>acousticness</td>\n",
       "      <td>0.117934</td>\n",
       "    </tr>\n",
       "    <tr>\n",
       "      <th>1</th>\n",
       "      <td>energy</td>\n",
       "      <td>0.111553</td>\n",
       "    </tr>\n",
       "    <tr>\n",
       "      <th>9</th>\n",
       "      <td>tempo</td>\n",
       "      <td>0.104275</td>\n",
       "    </tr>\n",
       "    <tr>\n",
       "      <th>7</th>\n",
       "      <td>liveness</td>\n",
       "      <td>0.100733</td>\n",
       "    </tr>\n",
       "    <tr>\n",
       "      <th>3</th>\n",
       "      <td>mode</td>\n",
       "      <td>0.098073</td>\n",
       "    </tr>\n",
       "    <tr>\n",
       "      <th>2</th>\n",
       "      <td>loudness</td>\n",
       "      <td>0.042833</td>\n",
       "    </tr>\n",
       "    <tr>\n",
       "      <th>4</th>\n",
       "      <td>speechiness</td>\n",
       "      <td>0.038998</td>\n",
       "    </tr>\n",
       "  </tbody>\n",
       "</table>\n",
       "</div>"
      ],
      "text/plain": [
       "            Feature  Importance\n",
       "6  instrumentalness    0.134285\n",
       "8           valence    0.126743\n",
       "0      danceability    0.124574\n",
       "5      acousticness    0.117934\n",
       "1            energy    0.111553\n",
       "9             tempo    0.104275\n",
       "7          liveness    0.100733\n",
       "3              mode    0.098073\n",
       "2          loudness    0.042833\n",
       "4       speechiness    0.038998"
      ]
     },
     "execution_count": 49,
     "metadata": {},
     "output_type": "execute_result"
    }
   ],
   "source": [
    "#Assuming the cluster labels are stored in a 'cluster' column in your songs_minmax dataframe\n",
    "target_variable = songs_minmax['cluster']\n",
    "\n",
    "# Drop the 'cluster' column from songs_minmax before fitting the RandomForest\n",
    "songs_minmax_without_clusters = songs_minmax.drop('cluster', axis=1)\n",
    "\n",
    "rf = RandomForestRegressor(n_estimators=100)\n",
    "rf.fit(songs_minmax_without_clusters, target_variable)\n",
    "\n",
    "importances = rf.feature_importances_\n",
    "feature_importance_df = pd.DataFrame({'Feature': songs_minmax_without_clusters.columns, 'Importance': importances})\n",
    "feature_importance_df = feature_importance_df.sort_values(by='Importance', ascending=False)\n",
    "\n",
    "\n",
    "feature_importance_df"
   ]
  },
  {
   "cell_type": "markdown",
   "id": "7e61f91b-0bac-4137-9b7a-64ddc281157a",
   "metadata": {},
   "source": [
    "Conclusion: Keep all features since their importance is above at least 1%. Maybe look at correlation."
   ]
  },
  {
   "cell_type": "markdown",
   "id": "f65fdaa3-6344-4ac4-87b1-573e7334ddfd",
   "metadata": {},
   "source": [
    "## Dropping correlated ones"
   ]
  },
  {
   "cell_type": "markdown",
   "id": "58c9577b-c67a-4c17-9f9d-210e3556e6fe",
   "metadata": {},
   "source": [
    "Impact on Distance-based Models: In K-means or hierarchical clustering, correlated features might lead to distorted distances and thus clusters."
   ]
  },
  {
   "cell_type": "code",
   "execution_count": 133,
   "id": "3fdcc8f6-5704-4880-aaf9-1a50a3d2f461",
   "metadata": {
    "tags": []
   },
   "outputs": [],
   "source": [
    "songs_uncorrelated = songs_minmax.drop(columns=['mode','danceability', 'energy'])"
   ]
  },
  {
   "cell_type": "code",
   "execution_count": 134,
   "id": "18ce1661-9bae-49fb-8452-86c65d17962d",
   "metadata": {
    "tags": []
   },
   "outputs": [],
   "source": [
    "kmeans = KMeans(n_init=10, n_clusters=k_minmax, random_state=213)  # random_state for reproducibility\n",
    "songs_uncorrelated['cluster'] = kmeans.fit_predict(songs_uncorrelated)"
   ]
  },
  {
   "cell_type": "code",
   "execution_count": 135,
   "id": "573bd50c-fc62-4f1c-963b-aeff8c553414",
   "metadata": {
    "tags": []
   },
   "outputs": [
    {
     "name": "stdout",
     "output_type": "stream",
     "text": [
      "Silhouette Score:  0.738157612297464\n"
     ]
    }
   ],
   "source": [
    "# Assume kmeans is your clustering model and X is your data\n",
    "score = silhouette_score(songs_uncorrelated, kmeans.labels_, random_state=213)\n",
    "print(\"Silhouette Score: \", score)"
   ]
  },
  {
   "cell_type": "code",
   "execution_count": 136,
   "id": "a1f57571-24cb-4c7d-ae13-457766e54990",
   "metadata": {
    "tags": []
   },
   "outputs": [
    {
     "data": {
      "text/html": [
       "<div>\n",
       "<style scoped>\n",
       "    .dataframe tbody tr th:only-of-type {\n",
       "        vertical-align: middle;\n",
       "    }\n",
       "\n",
       "    .dataframe tbody tr th {\n",
       "        vertical-align: top;\n",
       "    }\n",
       "\n",
       "    .dataframe thead th {\n",
       "        text-align: right;\n",
       "    }\n",
       "</style>\n",
       "<table border=\"1\" class=\"dataframe\">\n",
       "  <thead>\n",
       "    <tr style=\"text-align: right;\">\n",
       "      <th></th>\n",
       "      <th></th>\n",
       "      <th>loudness</th>\n",
       "      <th>speechiness</th>\n",
       "      <th>acousticness</th>\n",
       "      <th>instrumentalness</th>\n",
       "      <th>liveness</th>\n",
       "      <th>valence</th>\n",
       "      <th>tempo</th>\n",
       "      <th>cluster</th>\n",
       "    </tr>\n",
       "    <tr>\n",
       "      <th>name</th>\n",
       "      <th>artist</th>\n",
       "      <th></th>\n",
       "      <th></th>\n",
       "      <th></th>\n",
       "      <th></th>\n",
       "      <th></th>\n",
       "      <th></th>\n",
       "      <th></th>\n",
       "      <th></th>\n",
       "    </tr>\n",
       "  </thead>\n",
       "  <tbody>\n",
       "    <tr>\n",
       "      <th>Dissolved</th>\n",
       "      <th>Polluted Inheritance</th>\n",
       "      <td>0.792230</td>\n",
       "      <td>0.174292</td>\n",
       "      <td>0.000127</td>\n",
       "      <td>0.489340</td>\n",
       "      <td>0.053191</td>\n",
       "      <td>0.187817</td>\n",
       "      <td>0.700206</td>\n",
       "      <td>9</td>\n",
       "    </tr>\n",
       "    <tr>\n",
       "      <th>Ego Art</th>\n",
       "      <th>Altar</th>\n",
       "      <td>0.856297</td>\n",
       "      <td>0.108932</td>\n",
       "      <td>0.000090</td>\n",
       "      <td>0.411168</td>\n",
       "      <td>0.127660</td>\n",
       "      <td>0.251777</td>\n",
       "      <td>0.474527</td>\n",
       "      <td>9</td>\n",
       "    </tr>\n",
       "    <tr>\n",
       "      <th>Born Dead</th>\n",
       "      <th>Death</th>\n",
       "      <td>0.890890</td>\n",
       "      <td>0.173203</td>\n",
       "      <td>0.000002</td>\n",
       "      <td>0.304569</td>\n",
       "      <td>0.269504</td>\n",
       "      <td>0.066091</td>\n",
       "      <td>0.506678</td>\n",
       "      <td>9</td>\n",
       "    </tr>\n",
       "    <tr>\n",
       "      <th>Wolf Among Sheep</th>\n",
       "      <th>Broken Hope</th>\n",
       "      <td>0.823726</td>\n",
       "      <td>0.131808</td>\n",
       "      <td>0.166667</td>\n",
       "      <td>0.460914</td>\n",
       "      <td>0.509625</td>\n",
       "      <td>0.231472</td>\n",
       "      <td>0.485420</td>\n",
       "      <td>9</td>\n",
       "    </tr>\n",
       "    <tr>\n",
       "      <th>Under The Moon's Fog</th>\n",
       "      <th>Vital Remains</th>\n",
       "      <td>0.850217</td>\n",
       "      <td>0.157952</td>\n",
       "      <td>0.000345</td>\n",
       "      <td>0.406091</td>\n",
       "      <td>0.103343</td>\n",
       "      <td>0.034924</td>\n",
       "      <td>0.676424</td>\n",
       "      <td>9</td>\n",
       "    </tr>\n",
       "    <tr>\n",
       "      <th>Death to Death</th>\n",
       "      <th>Sacrificium</th>\n",
       "      <td>0.859183</td>\n",
       "      <td>0.051525</td>\n",
       "      <td>0.000086</td>\n",
       "      <td>0.385787</td>\n",
       "      <td>0.222898</td>\n",
       "      <td>0.260914</td>\n",
       "      <td>0.444596</td>\n",
       "      <td>9</td>\n",
       "    </tr>\n",
       "    <tr>\n",
       "      <th>The Lost Memories</th>\n",
       "      <th>Purtenance</th>\n",
       "      <td>0.869681</td>\n",
       "      <td>0.276688</td>\n",
       "      <td>0.004006</td>\n",
       "      <td>0.611168</td>\n",
       "      <td>0.191489</td>\n",
       "      <td>0.043959</td>\n",
       "      <td>0.578817</td>\n",
       "      <td>9</td>\n",
       "    </tr>\n",
       "    <tr>\n",
       "      <th>In Grief</th>\n",
       "      <th>God Macabre</th>\n",
       "      <td>0.878452</td>\n",
       "      <td>0.053050</td>\n",
       "      <td>0.000004</td>\n",
       "      <td>0.384772</td>\n",
       "      <td>0.083283</td>\n",
       "      <td>0.155330</td>\n",
       "      <td>0.416767</td>\n",
       "      <td>9</td>\n",
       "    </tr>\n",
       "    <tr>\n",
       "      <th>Hell Written</th>\n",
       "      <th>Edge Of Sanity</th>\n",
       "      <td>0.889651</td>\n",
       "      <td>0.117647</td>\n",
       "      <td>0.000019</td>\n",
       "      <td>0.403046</td>\n",
       "      <td>0.353597</td>\n",
       "      <td>0.270051</td>\n",
       "      <td>0.533422</td>\n",
       "      <td>9</td>\n",
       "    </tr>\n",
       "    <tr>\n",
       "      <th>The Wrath</th>\n",
       "      <th>Vader</th>\n",
       "      <td>0.884321</td>\n",
       "      <td>0.067429</td>\n",
       "      <td>0.000008</td>\n",
       "      <td>0.604061</td>\n",
       "      <td>0.088450</td>\n",
       "      <td>0.287310</td>\n",
       "      <td>0.602594</td>\n",
       "      <td>9</td>\n",
       "    </tr>\n",
       "  </tbody>\n",
       "</table>\n",
       "</div>"
      ],
      "text/plain": [
       "                                                                                                     loudness  \\\n",
       "name                                               artist                                                       \n",
       "Dissolved                                      ... Polluted Inheritance                              0.792230   \n",
       "Ego Art                                        ... Altar                                             0.856297   \n",
       "Born Dead                                      ... Death                                             0.890890   \n",
       "Wolf Among Sheep                               ... Broken Hope                                       0.823726   \n",
       "Under The Moon's Fog                           ... Vital Remains                                     0.850217   \n",
       "Death to Death                                 ... Sacrificium                                       0.859183   \n",
       "The Lost Memories                              ... Purtenance                                        0.869681   \n",
       "In Grief                                       ... God Macabre                                       0.878452   \n",
       "Hell Written                                   ... Edge Of Sanity                                    0.889651   \n",
       "The Wrath                                      ... Vader                                             0.884321   \n",
       "\n",
       "                                                                                                     speechiness  \\\n",
       "name                                               artist                                                          \n",
       "Dissolved                                      ... Polluted Inheritance                                 0.174292   \n",
       "Ego Art                                        ... Altar                                                0.108932   \n",
       "Born Dead                                      ... Death                                                0.173203   \n",
       "Wolf Among Sheep                               ... Broken Hope                                          0.131808   \n",
       "Under The Moon's Fog                           ... Vital Remains                                        0.157952   \n",
       "Death to Death                                 ... Sacrificium                                          0.051525   \n",
       "The Lost Memories                              ... Purtenance                                           0.276688   \n",
       "In Grief                                       ... God Macabre                                          0.053050   \n",
       "Hell Written                                   ... Edge Of Sanity                                       0.117647   \n",
       "The Wrath                                      ... Vader                                                0.067429   \n",
       "\n",
       "                                                                                                     acousticness  \\\n",
       "name                                               artist                                                           \n",
       "Dissolved                                      ... Polluted Inheritance                                  0.000127   \n",
       "Ego Art                                        ... Altar                                                 0.000090   \n",
       "Born Dead                                      ... Death                                                 0.000002   \n",
       "Wolf Among Sheep                               ... Broken Hope                                           0.166667   \n",
       "Under The Moon's Fog                           ... Vital Remains                                         0.000345   \n",
       "Death to Death                                 ... Sacrificium                                           0.000086   \n",
       "The Lost Memories                              ... Purtenance                                            0.004006   \n",
       "In Grief                                       ... God Macabre                                           0.000004   \n",
       "Hell Written                                   ... Edge Of Sanity                                        0.000019   \n",
       "The Wrath                                      ... Vader                                                 0.000008   \n",
       "\n",
       "                                                                                                     instrumentalness  \\\n",
       "name                                               artist                                                               \n",
       "Dissolved                                      ... Polluted Inheritance                                      0.489340   \n",
       "Ego Art                                        ... Altar                                                     0.411168   \n",
       "Born Dead                                      ... Death                                                     0.304569   \n",
       "Wolf Among Sheep                               ... Broken Hope                                               0.460914   \n",
       "Under The Moon's Fog                           ... Vital Remains                                             0.406091   \n",
       "Death to Death                                 ... Sacrificium                                               0.385787   \n",
       "The Lost Memories                              ... Purtenance                                                0.611168   \n",
       "In Grief                                       ... God Macabre                                               0.384772   \n",
       "Hell Written                                   ... Edge Of Sanity                                            0.403046   \n",
       "The Wrath                                      ... Vader                                                     0.604061   \n",
       "\n",
       "                                                                                                     liveness  \\\n",
       "name                                               artist                                                       \n",
       "Dissolved                                      ... Polluted Inheritance                              0.053191   \n",
       "Ego Art                                        ... Altar                                             0.127660   \n",
       "Born Dead                                      ... Death                                             0.269504   \n",
       "Wolf Among Sheep                               ... Broken Hope                                       0.509625   \n",
       "Under The Moon's Fog                           ... Vital Remains                                     0.103343   \n",
       "Death to Death                                 ... Sacrificium                                       0.222898   \n",
       "The Lost Memories                              ... Purtenance                                        0.191489   \n",
       "In Grief                                       ... God Macabre                                       0.083283   \n",
       "Hell Written                                   ... Edge Of Sanity                                    0.353597   \n",
       "The Wrath                                      ... Vader                                             0.088450   \n",
       "\n",
       "                                                                                                      valence  \\\n",
       "name                                               artist                                                       \n",
       "Dissolved                                      ... Polluted Inheritance                              0.187817   \n",
       "Ego Art                                        ... Altar                                             0.251777   \n",
       "Born Dead                                      ... Death                                             0.066091   \n",
       "Wolf Among Sheep                               ... Broken Hope                                       0.231472   \n",
       "Under The Moon's Fog                           ... Vital Remains                                     0.034924   \n",
       "Death to Death                                 ... Sacrificium                                       0.260914   \n",
       "The Lost Memories                              ... Purtenance                                        0.043959   \n",
       "In Grief                                       ... God Macabre                                       0.155330   \n",
       "Hell Written                                   ... Edge Of Sanity                                    0.270051   \n",
       "The Wrath                                      ... Vader                                             0.287310   \n",
       "\n",
       "                                                                                                        tempo  \\\n",
       "name                                               artist                                                       \n",
       "Dissolved                                      ... Polluted Inheritance                              0.700206   \n",
       "Ego Art                                        ... Altar                                             0.474527   \n",
       "Born Dead                                      ... Death                                             0.506678   \n",
       "Wolf Among Sheep                               ... Broken Hope                                       0.485420   \n",
       "Under The Moon's Fog                           ... Vital Remains                                     0.676424   \n",
       "Death to Death                                 ... Sacrificium                                       0.444596   \n",
       "The Lost Memories                              ... Purtenance                                        0.578817   \n",
       "In Grief                                       ... God Macabre                                       0.416767   \n",
       "Hell Written                                   ... Edge Of Sanity                                    0.533422   \n",
       "The Wrath                                      ... Vader                                             0.602594   \n",
       "\n",
       "                                                                                                     cluster  \n",
       "name                                               artist                                                     \n",
       "Dissolved                                      ... Polluted Inheritance                                    9  \n",
       "Ego Art                                        ... Altar                                                   9  \n",
       "Born Dead                                      ... Death                                                   9  \n",
       "Wolf Among Sheep                               ... Broken Hope                                             9  \n",
       "Under The Moon's Fog                           ... Vital Remains                                           9  \n",
       "Death to Death                                 ... Sacrificium                                             9  \n",
       "The Lost Memories                              ... Purtenance                                              9  \n",
       "In Grief                                       ... God Macabre                                             9  \n",
       "Hell Written                                   ... Edge Of Sanity                                          9  \n",
       "The Wrath                                      ... Vader                                                   9  "
      ]
     },
     "execution_count": 136,
     "metadata": {},
     "output_type": "execute_result"
    }
   ],
   "source": [
    "songs_uncorrelated.loc[songs_uncorrelated['cluster']==9].sample(10)"
   ]
  },
  {
   "cell_type": "markdown",
   "id": "0c8f330f-0db4-4650-acda-2857f6f5a9c8",
   "metadata": {
    "jp-MarkdownHeadingCollapsed": true,
    "tags": []
   },
   "source": [
    "#### Transforming Danceability"
   ]
  },
  {
   "cell_type": "code",
   "execution_count": null,
   "id": "98f3acaf-bc0f-42d9-a130-7f4e75ae9bad",
   "metadata": {
    "tags": []
   },
   "outputs": [],
   "source": [
    "songs_uncorrelated['danceability'] = np.log(songs_uncorrelated['danceability']+1)"
   ]
  },
  {
   "cell_type": "code",
   "execution_count": null,
   "id": "23297e2d-6a8b-402f-a1f2-585cd11d0568",
   "metadata": {
    "tags": []
   },
   "outputs": [],
   "source": [
    "kmeans = KMeans(n_init=10, n_clusters=k_minmax, random_state=213)  # random_state for reproducibility\n",
    "songs_uncorrelated['cluster'] = kmeans.fit_predict(songs_uncorrelated)\n",
    "# Assume kmeans is your clustering model and X is your data\n",
    "score = silhouette_score(songs_uncorrelated, kmeans.labels_, random_state=213)\n",
    "print(\"Silhouette Score: \", score)"
   ]
  },
  {
   "cell_type": "markdown",
   "id": "c5a0e670-5f9e-4f38-9fa1-4157e7151791",
   "metadata": {},
   "source": [
    "t-SNE, UMAP can be explored as models"
   ]
  },
  {
   "cell_type": "code",
   "execution_count": null,
   "id": "6f05812c-4944-4c26-8a69-5af8dbea2f59",
   "metadata": {
    "tags": []
   },
   "outputs": [],
   "source": [
    "songs_minmax"
   ]
  },
  {
   "cell_type": "markdown",
   "id": "fe5bc4ca-5529-4a29-abc4-a579675717cf",
   "metadata": {},
   "source": [
    "Conclusion: The best model so far drops energy, danceability and uses the K-Means model while applying the MinMax Scaler."
   ]
  },
  {
   "cell_type": "markdown",
   "id": "52f9894f-9d06-4ac4-aa8e-787fe6321265",
   "metadata": {
    "jp-MarkdownHeadingCollapsed": true,
    "tags": []
   },
   "source": [
    "## Other models"
   ]
  },
  {
   "cell_type": "markdown",
   "id": "a7074e6e-9e7d-4c63-8ec4-4750e88202dc",
   "metadata": {},
   "source": [
    "Alternatives to K-means\n",
    "DBSCAN (Density-Based Spatial Clustering of Applications with Noise)\n",
    "Doesn't assume clusters to be of any particular shape.\n",
    "Can find arbitrarily shaped clusters.\n",
    "Identifies points that don't belong to any cluster, classifying them as noise.\n",
    "Agglomerative Hierarchical Clustering\n",
    "Builds a tree of clusters.\n",
    "Useful if you want a hierarchy of clusters.\n",
    "Gaussian Mixture Models (GMM)\n",
    "Assumes that data is generated from a mixture of several Gaussian distributions.\n",
    "Can model elliptical clusters.\n",
    "Spectral Clustering\n",
    "Can capture complex cluster structures.\n",
    "Can identify clusters of non-convex shapes."
   ]
  },
  {
   "cell_type": "markdown",
   "id": "d1d8e101-4338-42b2-a88f-9d40e1eb54cc",
   "metadata": {},
   "source": [
    "How to Test K-means Assumptions\n",
    "Visual Inspection\n",
    "\n",
    "The easiest way, if feasible, is to visualize the data in 2D or 3D.\n",
    "If clusters seem non-spherical or have different sizes/densities, K-means might not be the best choice.\n",
    "Silhouette Score\n",
    "\n",
    "As you've already done, a silhouette score can indicate how well each point lies within its cluster.\n",
    "A low average score might suggest the clusters aren't well-separated.\n",
    "Check Cluster Sizes\n",
    "\n",
    "After running K-means, if you find vastly different cluster sizes, it might suggest the equal size assumption is violated.\n",
    "Comparing Algorithms\n",
    "\n",
    "Run another clustering algorithm (like DBSCAN or GMM) and compare the results.\n",
    "If you get significantly different clusters, it might suggest that K-means' assumptions aren't holding."
   ]
  },
  {
   "cell_type": "markdown",
   "id": "34860ae1-d5b2-4cb1-9238-26e423c910d9",
   "metadata": {},
   "source": [
    "### DBSCAN"
   ]
  },
  {
   "cell_type": "markdown",
   "id": "56917bdb-de21-47e8-be18-5ae7884e12b1",
   "metadata": {},
   "source": [
    "Basics of DBSCAN:\n",
    "- Density: The number of points within a specified radius (eps).\n",
    "\n",
    "- Core Point: A point that has at least a specified number (min_samples) of points within eps radius.\n",
    "\n",
    "- Border Point: A point that has fewer than min_samples points within eps but is in the neighborhood of a core point.\n",
    "\n",
    "- Noise Point: Neither a core nor a border point.\n",
    "\n",
    "How DBSCAN Works:\n",
    "\n",
    "- Start with an arbitrary point that has not been visited.\n",
    "- Extract the neighborhood of this point using eps.\n",
    "- If there are min_samples points within the eps neighborhood, start a new cluster. Otherwise, label the point as noise (which might later be detected as a border point).\n",
    "- Continue the process with the next point.\n",
    "\n",
    "Advantages:\n",
    "\n",
    "- No Need to Specify Number of Clusters: Unlike K-means.\n",
    "- Can Discover Clusters of Arbitrary Shapes: Unlike K-means, which is limited to convex and isotropic clusters.\n",
    "- Robust to Outliers: It classifies them as noise."
   ]
  },
  {
   "cell_type": "code",
   "execution_count": null,
   "id": "486ee11d-7494-4547-a3ea-954b33c2ab2f",
   "metadata": {
    "tags": []
   },
   "outputs": [],
   "source": [
    "from sklearn.cluster import DBSCAN\n",
    "\n",
    "songs_DBSCAN = songs_minmax.drop('cluster', axis=1)\n",
    "\n",
    "# Create an instance of DBSCAN\n",
    "db = DBSCAN(eps=0.4, min_samples=5)\n",
    "\n",
    "# Fit the model\n",
    "labels = db.fit_predict(songs_DBSCAN)\n",
    "\n",
    "# The labels_ attribute contains the cluster labels (or -1 for noise points)\n",
    "songs_DBSCAN['cluster'] = labels"
   ]
  },
  {
   "cell_type": "code",
   "execution_count": null,
   "id": "f9819702-ba26-422e-8163-04e22dfb318e",
   "metadata": {
    "tags": []
   },
   "outputs": [],
   "source": [
    "# Assume kmeans is your clustering model and X is your data\n",
    "score = silhouette_score(songs_DBSCAN, kmeans.labels_, random_state=213)\n",
    "print(\"Silhouette Score: \", score)"
   ]
  },
  {
   "cell_type": "markdown",
   "id": "113e46b5-73f8-4f2b-b8cf-c6bcef4f216b",
   "metadata": {},
   "source": [
    "Conclusion: Playing around with the ps and min_samples does not improve the Silhouette Score, implying a model that does not fit the data well."
   ]
  },
  {
   "cell_type": "markdown",
   "id": "3bf596aa-aedc-4607-88ee-91b77aa99cb7",
   "metadata": {},
   "source": [
    "# Radarplot"
   ]
  },
  {
   "cell_type": "code",
   "execution_count": null,
   "id": "c8a66eb1-53a1-4666-82dc-b725f1b88d80",
   "metadata": {},
   "outputs": [],
   "source": []
  },
  {
   "cell_type": "markdown",
   "id": "9b4111ef-e0db-492d-a861-34c0e19e3d93",
   "metadata": {},
   "source": [
    "# Export"
   ]
  },
  {
   "cell_type": "code",
   "execution_count": null,
   "id": "79c017f7-6e64-4042-9051-18edc6a90020",
   "metadata": {
    "tags": []
   },
   "outputs": [],
   "source": [
    "songs_minmax = songs_minmax.reset_index()"
   ]
  },
  {
   "cell_type": "code",
   "execution_count": null,
   "id": "60bc83ff-3977-4546-8f40-34b8a5a432d8",
   "metadata": {
    "tags": []
   },
   "outputs": [],
   "source": [
    "songs_minmax.to_csv('/Users/merlesteffen/Documents/GitHub/Moosic/Data/playlists.csv', index=False)"
   ]
  }
 ],
 "metadata": {
  "kernelspec": {
   "display_name": "Python 3 (ipykernel)",
   "language": "python",
   "name": "python3"
  },
  "language_info": {
   "codemirror_mode": {
    "name": "ipython",
    "version": 3
   },
   "file_extension": ".py",
   "mimetype": "text/x-python",
   "name": "python",
   "nbconvert_exporter": "python",
   "pygments_lexer": "ipython3",
   "version": "3.11.4"
  },
  "toc-showmarkdowntxt": false
 },
 "nbformat": 4,
 "nbformat_minor": 5
}
