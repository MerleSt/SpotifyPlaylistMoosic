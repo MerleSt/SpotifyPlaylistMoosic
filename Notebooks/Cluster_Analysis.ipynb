{
 "cells": [
  {
   "cell_type": "markdown",
   "id": "c731b4dd-d145-4233-9513-cc817dc55146",
   "metadata": {},
   "source": [
    "# Imports"
   ]
  },
  {
   "cell_type": "code",
   "execution_count": 1,
   "id": "2a8491fe-4904-448f-a7f7-31b02e83846f",
   "metadata": {
    "tags": []
   },
   "outputs": [],
   "source": [
    "import pandas as pd\n",
    "import seaborn as sns\n",
    "import matplotlib.pyplot as plt\n",
    "from sklearn.cluster import KMeans\n",
    "from sklearn.preprocessing import RobustScaler\n",
    "from sklearn.preprocessing import MinMaxScaler\n",
    "from yellowbrick.cluster import KElbowVisualizer\n",
    "import numpy as np\n",
    "from sklearn.metrics import silhouette_score\n",
    "from sklearn.metrics import davies_bouldin_score\n",
    "from sklearn.ensemble import ExtraTreesClassifier\n",
    "from sklearn.preprocessing import LabelEncoder\n",
    "from sklearn.decomposition import PCA\n",
    "from sklearn.ensemble import RandomForestRegressor"
   ]
  },
  {
   "cell_type": "code",
   "execution_count": 2,
   "id": "82f5ee4b-2bf0-48de-982e-b588e49adad4",
   "metadata": {
    "tags": []
   },
   "outputs": [],
   "source": [
    "songs = pd.read_csv('https://raw.githubusercontent.com/MerleSt/SpotifyPlaylistMoosic/main/Data/song_fatures_cleaned.csv', index_col=[0,1])"
   ]
  },
  {
   "cell_type": "code",
   "execution_count": 3,
   "id": "5b1ab0a5-5a0f-4eb0-9c8a-156dc8654e44",
   "metadata": {
    "tags": []
   },
   "outputs": [
    {
     "data": {
      "text/plain": [
       "(5114, 13)"
      ]
     },
     "execution_count": 3,
     "metadata": {},
     "output_type": "execute_result"
    }
   ],
   "source": [
    "songs.shape"
   ]
  },
  {
   "cell_type": "markdown",
   "id": "d496dc53-932a-473a-a62e-268af23a9486",
   "metadata": {
    "tags": []
   },
   "source": [
    "# Columns to keep /drop from Scientific Literature and General Understanding"
   ]
  },
  {
   "cell_type": "markdown",
   "id": "94c100e5-85a9-42d6-8176-2ec4adeeba9f",
   "metadata": {},
   "source": [
    "\n",
    "Certainly! Let's go through each of the features:\n",
    "\n",
    "__Danceability__:\n",
    "\n",
    "Recommendation: Keep.\n",
    "Reason: Represents how suitable a track is for dancing based on various musical elements including tempo, rhythm stability, beat strength, and overall regularity.\n",
    "Reference:\n",
    "Jehan, T. (2005). Creating music by listening. PhD thesis, Massachusetts Institute of Technology.\n",
    "\n",
    "__Energy__:\n",
    "\n",
    "Recommendation: Keep.\n",
    "Reason: Measures intensity and activity, typically energetic tracks feel fast and noisy.\n",
    "Reference:\n",
    "Tzanetakis, G., & Cook, P. (2002). Musical genre classification of audio signals. IEEE Transactions on speech and audio processing, 10(5), 293-302.\n",
    "\n",
    "Key:\n",
    "\n",
    "Recommendation: Depends.\n",
    "Reason: While the key is fundamental in music theory, its efficacy in clustering tasks can be dataset dependent. However, it might be important when distinguishing between certain types of genres or moods.\n",
    "Reference:\n",
    "Mardirossian, G., & Chew, E. (2015). Key-independent multi-level tonal analysis for interactive music systems. In Proceedings of the ACM SIGCHI Conference on Human Factors in Computing Systems.\n",
    "\n",
    "__Loudness__:\n",
    "\n",
    "Recommendation: Keep but be cautious of its correlation with 'Energy'.\n",
    "Reason: The perceived volume of the song can distinguish between certain moods or genres.\n",
    "Reference:\n",
    "Vickers, E. (2011). The loudness war: Background, speculation and recommendations. Audio Engineering Society Convention 131.\n",
    "\n",
    "__Mode__:\n",
    "\n",
    "Recommendation: Keep.\n",
    "Reason: Major or minor mode can influence the mood or feel of a song.\n",
    "Reference:\n",
    "Huron, D. (2008). Sweet Anticipation: Music and the Psychology of Expectation. MIT Press.\n",
    "\n",
    "__Speechiness__:\n",
    "\n",
    "Recommendation: Keep.\n",
    "Reason: Differentiates between talk shows, podcasts, and music.\n",
    "Reference:\n",
    "Mesaros, A., Heittola, T., Benetos, E., Foster, P., Lagrange, M., Virtanen, T., & Dixon, S. (2018). Detection and Classification of Acoustic Scenes and Events: Outcome of the DCASE 2016 Challenge. IEEE/ACM Transactions on Audio, Speech, and Language Processing.\n",
    "\n",
    "__Acousticness__:\n",
    "\n",
    "Recommendation: Keep.\n",
    "Reason: Helps distinguish between electronic and acoustic music.\n",
    "Reference:\n",
    "Sturm, B. L., Diver, C., & Martinez, A. R. (2013). An evaluation of the audio feature space for detecting fake musical instrument samples.\n",
    "In Proceedings of the Sound and Music Computing Conference.\n",
    "\n",
    "__Instrumentalness__:\n",
    "\n",
    "Recommendation: Keep.\n",
    "Reason: Determines the presence of vocals in a song, distinguishing between purely instrumental tracks and those with lyrics.\n",
    "Reference:\n",
    "Leglaive, S., Hennequin, R., & Badeau, R. (2015). Singing voice detection with deep recurrent neural networks. In IEEE International Conference on Acoustics, Speech and Signal Processing.\n",
    "\n",
    "__Liveness__:\n",
    "\n",
    "Recommendation: Keep.\n",
    "Reason: Identifies the presence of a live audience, differentiating studio recordings from live performances.\n",
    "Reference:\n",
    "Dittmar, C., & Müller, M. (2012). Automatic annotation of recorded music. In Multimodal Music Processing (Vol. 3).\n",
    "\n",
    "__Valence__:\n",
    "\n",
    "Recommendation: Keep.\n",
    "Reason: Measures the musical positiveness of a track, can differentiate between moods.\n",
    "Reference:\n",
    "Yang, Y. H., & Chen, H. H. (2012). Machine recognition of music emotion: A review. ACM Transactions on Intelligent Systems and Technology (TIST), 3(3).\n",
    "\n",
    "__Tempo__:\n",
    "\n",
    "Recommendation: Keep.\n",
    "Reason: The speed of a track is one of the fundamental aspects of music.\n",
    "Reference:\n",
    "Dixon, S. (2001). Automatic extraction of tempo and beat from expressive performances. Journal of New Music Research, 30(1), 39-58.\n",
    "\n",
    "Duration_ms:\n",
    "\n",
    "Recommendation: Consider.\n",
    "Reason: The length of a track might not inherently convey much about its musical content, but it could be relevant depending on the dataset.\n",
    "Reference:\n",
    "Not commonly discussed in literature for its inherent musical properties.\n",
    "\n",
    "Time_signature:\n",
    "\n",
    "Recommendation: Depends.\n",
    "Reason: Time signature can be critical for certain genres or analyzing complex rhythmic structures but might be less informative for general clustering tasks.\n",
    "Reference:\n",
    "Gouyon, F., Klapuri, A., Dixon, S., Alonso, M., Tzanetakis, G., Uhle, C., & Cano, P. (2006). An experimental comparison of audio tempo induction algorithms. IEEE Transactions on Audio, Speech, and Language Processing, 14(5), 1832-1844."
   ]
  },
  {
   "cell_type": "markdown",
   "id": "0a73eea8-fa7a-4073-bf8a-36986e27634f",
   "metadata": {},
   "source": [
    "__DROP__\n",
    "> time_signature, Duration_ms, Key"
   ]
  },
  {
   "cell_type": "markdown",
   "id": "15e3bf3c-cdf1-4fd6-8bf9-a92c2aef83fd",
   "metadata": {},
   "source": [
    "Also drop __mode__ since it is binary and we need continuous variables."
   ]
  },
  {
   "cell_type": "code",
   "execution_count": 4,
   "id": "291c5872-d588-4b7e-8ad6-8dd8f3124dc7",
   "metadata": {
    "tags": []
   },
   "outputs": [],
   "source": [
    "songs.drop(columns=['time_signature', 'duration_ms', 'key', 'mode'], inplace = True)"
   ]
  },
  {
   "cell_type": "markdown",
   "id": "81ce8019-dec2-4d59-93b5-8c2e29aee22a",
   "metadata": {},
   "source": [
    "# Scale"
   ]
  },
  {
   "cell_type": "markdown",
   "id": "898c7367-4979-4627-a6c8-16a2bce5cf74",
   "metadata": {},
   "source": [
    "## MinMax Scaler"
   ]
  },
  {
   "cell_type": "code",
   "execution_count": 8,
   "id": "c3d547cf-e54f-4493-a01f-e0dfa765ade6",
   "metadata": {
    "tags": []
   },
   "outputs": [],
   "source": [
    "scaler = MinMaxScaler()\n",
    "songs_scaled = scaler.fit_transform(songs)\n",
    "songs = pd.DataFrame(songs_scaled, columns=songs.columns, index=songs.index)"
   ]
  },
  {
   "cell_type": "code",
   "execution_count": 9,
   "id": "e04a11aa-0282-4ab6-bcfb-a32a28ca14b2",
   "metadata": {
    "tags": []
   },
   "outputs": [
    {
     "data": {
      "image/png": "[encoded data removed]",
      "text/plain": [
       "<Figure size 1500x700 with 1 Axes>"
      ]
     },
     "metadata": {},
     "output_type": "display_data"
    }
   ],
   "source": [
    "plt.figure(figsize=(15, 7))\n",
    "sns.boxplot(data=songs)\n",
    "plt.title('MinMax Scaler')\n",
    "plt.xticks(rotation=45)  # Rotate x labels for better visibility\n",
    "plt.show()"
   ]
  },
  {
   "cell_type": "markdown",
   "id": "e8c07fad-de8d-4608-aec7-623a42134f83",
   "metadata": {},
   "source": [
    "# Determining the number of Ks"
   ]
  },
  {
   "cell_type": "markdown",
   "id": "59aa3a81-fa49-4432-b889-f2fe2ca66388",
   "metadata": {
    "tags": []
   },
   "source": [
    "## Inertia"
   ]
  },
  {
   "cell_type": "code",
   "execution_count": null,
   "id": "74edc9d3-9c2a-486f-b481-ff140f06c451",
   "metadata": {
    "tags": []
   },
   "outputs": [],
   "source": [
    "kmeans.inertia_"
   ]
  },
  {
   "cell_type": "code",
   "execution_count": null,
   "id": "f0bb0334-70f4-488a-8705-19b03f0e1def",
   "metadata": {
    "tags": []
   },
   "outputs": [],
   "source": [
    "max_k = 100\n",
    "inertia = []\n",
    "\n",
    "for k in range(1, max_k):\n",
    "    inertia.append(KMeans(n_clusters=k, n_init = 10, random_state=213).fit(songs).inertia_)\n",
    "\n",
    "\n",
    "\n",
    "#then plot the inertia\n",
    "fig, ax = plt.subplots(figsize=(16, 6))\n",
    "plt.title(f'Inertia evolution from 1 cluster to {max_k} cluster')\n",
    "sns.lineplot(x=range(1, max_k), y=inertia, marker='o')\n",
    "plt.xlabel('Number of clusters')\n",
    "plt.ylabel('Inertia')\n",
    "plt.show()"
   ]
  },
  {
   "cell_type": "markdown",
   "id": "219b1d8c-6381-4e04-84b8-bc500dbef96f",
   "metadata": {
    "tags": []
   },
   "source": [
    "## Silhouette Score"
   ]
  },
  {
   "cell_type": "code",
   "execution_count": null,
   "id": "44fc51fc-fbe6-4802-9be4-b27422880c27",
   "metadata": {
    "tags": []
   },
   "outputs": [],
   "source": [
    "silhouette_score(songs, kmeans.labels_, random_state=213)"
   ]
  },
  {
   "cell_type": "code",
   "execution_count": null,
   "id": "d06924df-f13c-40d4-adc4-ccf4129aedbc",
   "metadata": {
    "tags": []
   },
   "outputs": [],
   "source": [
    "min_k = 2\n",
    "max_k = 100\n",
    "sil_score = []\n",
    "\n",
    "for k in range(min_k, max_k):\n",
    "    labels = KMeans(n_clusters=k, n_init= 10, random_state=213).fit(songs).labels_\n",
    "    current_silhouette_score = silhouette_score(songs, labels)\n",
    "    sil_score.append(current_silhouette_score)\n",
    "\n",
    "#plotting the results\n",
    "plt.title(f'Silhouette score evolution from {min_k} clusters to {max_k} clusters')\n",
    "sns.lineplot(x=range(min_k, max_k), y=sil_score, marker='o')\n",
    "plt.show()"
   ]
  },
  {
   "cell_type": "code",
   "execution_count": null,
   "id": "635538a8-123c-4db8-a7e5-6a141e60558c",
   "metadata": {
    "tags": []
   },
   "outputs": [],
   "source": [
    "min_k = 40\n",
    "max_k = 51\n",
    "sil_score = []\n",
    "\n",
    "for k in range(min_k, max_k):\n",
    "    labels = KMeans(n_clusters=k, n_init= 10, random_state=213).fit(songs).labels_\n",
    "    current_silhouette_score = silhouette_score(songs, labels)\n",
    "    sil_score.append(current_silhouette_score)\n",
    "\n",
    "#plotting the results\n",
    "plt.title(f'Silhouette score evolution from {min_k} clusters to {max_k - 1} clusters')\n",
    "sns.lineplot(x=range(min_k, max_k), y=sil_score, marker='o')\n",
    "plt.show()"
   ]
  },
  {
   "cell_type": "markdown",
   "id": "2f93a308-b3ab-4f13-991f-fa301d721469",
   "metadata": {},
   "source": [
    "Conclusion we see that 48 clusters are ideal."
   ]
  },
  {
   "cell_type": "markdown",
   "id": "09bf4098-c1fc-42df-82d4-e3ffb44c8825",
   "metadata": {
    "tags": []
   },
   "source": [
    "# K-Means"
   ]
  },
  {
   "cell_type": "markdown",
   "id": "483f3692-8d75-47c6-b56e-33902abb5f0b",
   "metadata": {},
   "source": [
    "Let's say you would prefer the MinMax Scaler since it makes readability and explanations easier, but you do not want to drop all outliers. Another idea would be to implement weights to the oberservations. The further an pbservation from their cluster, the lower their weight. "
   ]
  },
  {
   "cell_type": "code",
   "execution_count": null,
   "id": "514eb293-122f-477d-bb84-c187aee0141e",
   "metadata": {
    "tags": []
   },
   "outputs": [],
   "source": [
    "kmeans = KMeans(n_init=10, n_clusters=48, random_state=213)  # random_state for reproducibility\n",
    "songs['cluster'] = kmeans.fit_predict(songs)"
   ]
  },
  {
   "cell_type": "markdown",
   "id": "e1024677-dc9c-45e8-916c-96f6ec970f43",
   "metadata": {},
   "source": [
    "# Evaluating the Model"
   ]
  },
  {
   "cell_type": "markdown",
   "id": "dc14888b-9527-45fb-8fd6-8f17c7cf445b",
   "metadata": {},
   "source": [
    "## Silhouette Score"
   ]
  },
  {
   "cell_type": "markdown",
   "id": "9bede052-2a0f-4bf7-9f3f-9f962afa3d28",
   "metadata": {},
   "source": [
    "Definition: The Silhouette Score measures how close each point in one cluster is to the points in the neighboring clusters."
   ]
  },
  {
   "cell_type": "markdown",
   "id": "369daab1-44f0-4136-8224-00c9cd9822fe",
   "metadata": {},
   "source": [
    "Silhouette Score:\n",
    "Range: The silhouette score ranges from -1 to 1.\n",
    "\n",
    "Interpretation:\n",
    "\n",
    "- Near +1: The clusters are well apart from each other and clearly distinguished.\n",
    "- 0: The clusters are overlapping and there is considerable intermingling.\n",
    "- Near -1: Points have been assigned to the wrong clusters.\n",
    "\n",
    "General Guideline:\n",
    "\n",
    "over 0.7: A strong structure has been found.\n",
    "\n",
    "0.5 - 0.7: A reasonable structure has been found.\n",
    "\n",
    "0.25 - 0.5: The structure is weak and could be artificial. Try additional cluster evaluation metrics and techniques.\n",
    "\n",
    "< 0.25: No substantial structure has been found."
   ]
  },
  {
   "cell_type": "code",
   "execution_count": null,
   "id": "fd67d980-8f40-4c15-9d68-a410d8b1adfb",
   "metadata": {},
   "outputs": [],
   "source": [
    "# Assume kmeans is your clustering model and X is your data\n",
    "score = silhouette_score(songs, kmeans.labels_, random_state=213)\n",
    "print(\"Silhouette Score: \", score)"
   ]
  },
  {
   "cell_type": "markdown",
   "id": "06830d16-ccc1-4250-884f-3281c1cd9996",
   "metadata": {},
   "source": [
    "## Davies-Bouldin Index"
   ]
  },
  {
   "cell_type": "markdown",
   "id": "c241e050-5f4e-4095-8d0e-788abc1b357c",
   "metadata": {},
   "source": [
    "The Davies-Bouldin index signifies the average 'similarity' ratio of each cluster with its most similar cluster. Here, 'similarity' is a measure that compares the distance between clusters with the size of the clusters themselves."
   ]
  },
  {
   "cell_type": "markdown",
   "id": "f7b7f2e3-9445-47e2-8600-4c632b913733",
   "metadata": {},
   "source": [
    "Range: The DB index values start from 0 and can be infinite.\n",
    "\n",
    "Interpretation:\n",
    "\n",
    "- Lower values: Indicate better clustering. Ideally, you want the DB index to be as close to 0 as possible.\n",
    "- Higher values: Indicate that the clusters are less dense and/or more separated.\n",
    "\n",
    "General Guideline:\n",
    "\n",
    "As with any heuristic, there's no strict threshold for a \"good\" DB index value because it largely depends on the dataset. Still, lower is better. If you try different clustering configurations or algorithms, you'd prefer the one with a lower DB index over others."
   ]
  },
  {
   "cell_type": "code",
   "execution_count": null,
   "id": "7c779a2f-ff2c-429f-9efa-453c9c6a1d07",
   "metadata": {
    "tags": []
   },
   "outputs": [],
   "source": [
    "# Assume kmeans is your clustering model and X is your data\n",
    "db_score = davies_bouldin_score(songs, kmeans.labels_)\n",
    "print(\"Davies-Bouldin Index: \", db_score)"
   ]
  },
  {
   "cell_type": "markdown",
   "id": "ec848073-4fad-4278-9a76-0495560a96dd",
   "metadata": {},
   "source": [
    "The best model so far is the Normal K-Means using the MinMax Scaler"
   ]
  },
  {
   "cell_type": "markdown",
   "id": "376f7daf-531d-448e-82dc-fb6bc1772851",
   "metadata": {},
   "source": [
    "# Improving the Model"
   ]
  },
  {
   "cell_type": "markdown",
   "id": "9c4b6394-abcb-4f90-9d7f-13d16ad45b3d",
   "metadata": {
    "tags": []
   },
   "source": [
    "## Principal Component Analysis"
   ]
  },
  {
   "cell_type": "code",
   "execution_count": null,
   "id": "648dec3b-de67-43ee-a935-cf8b54c74dd1",
   "metadata": {
    "tags": []
   },
   "outputs": [],
   "source": [
    "# Initialize PCA\n",
    "pca = PCA()\n",
    "songs_no_cluster = songs.drop('cluster', axis=1, errors='ignore') # errors='ignore' ensures no error if the column doesn't exist\n",
    "# Fit and transform the data\n",
    "songs_pca = pca.fit_transform(songs_no_cluster)"
   ]
  },
  {
   "cell_type": "code",
   "execution_count": null,
   "id": "5a28d5f3-2a47-4a86-8670-855e86fb2718",
   "metadata": {
    "tags": []
   },
   "outputs": [],
   "source": [
    "plt.figure(figsize=(10,6))\n",
    "plt.plot(range(1, len(pca.explained_variance_ratio_)+1), pca.explained_variance_ratio_.cumsum(), marker='o', linestyle='--')\n",
    "plt.title('Explained Variance by Components')\n",
    "plt.xlabel('Number of Components')\n",
    "plt.ylabel('Cumulative Explained Variance')\n",
    "plt.show()"
   ]
  },
  {
   "cell_type": "code",
   "execution_count": null,
   "id": "6d96c344-57e4-4e8f-8afa-6798cd8a3a65",
   "metadata": {
    "tags": []
   },
   "outputs": [],
   "source": [
    "pd.DataFrame(pca.components_, columns=songs_no_cluster.columns, index=[f'PC{i+1}' for i in range(len(pca.components_))])"
   ]
  },
  {
   "cell_type": "code",
   "execution_count": null,
   "id": "1a61f948-0cd7-4573-bd7b-5398c4fccfaa",
   "metadata": {
    "tags": []
   },
   "outputs": [],
   "source": [
    "for i in range(1,10):\n",
    "    pca = PCA(n_components=i, random_state=213)\n",
    "    songs_pca = pca.fit_transform(songs_no_cluster)\n",
    "    kmeans = KMeans(n_init=10, n_clusters=55, random_state=213)  # or the number of clusters you've determined\n",
    "\n",
    "    # Fit the model and predict cluster labels\n",
    "    clusters = kmeans.fit_predict(songs_pca)\n",
    "\n",
    "    # Add to your dataframe\n",
    "    songs['cluster'] = clusters\n",
    "    silhouette_avg = silhouette_score(songs_pca, songs['cluster'], random_state=213)\n",
    "    print(f\"The average silhouette score for {i} number of components is:\", silhouette_avg)"
   ]
  },
  {
   "cell_type": "markdown",
   "id": "34acadc6-9673-40ad-8388-ad6a39ac2bb9",
   "metadata": {},
   "source": [
    "Conclusion. PCA is not a great method. Let us move on."
   ]
  },
  {
   "cell_type": "markdown",
   "id": "1ba68af7-f5d2-49b7-a632-92fe96944c53",
   "metadata": {},
   "source": [
    "## Feature Importance"
   ]
  },
  {
   "cell_type": "markdown",
   "id": "e7663185-dbbd-457b-9a62-0922f2d33218",
   "metadata": {
    "tags": []
   },
   "source": [
    "### Extra Trees Classifier"
   ]
  },
  {
   "cell_type": "code",
   "execution_count": null,
   "id": "2df59469-4eb7-46c9-b532-955967c1b119",
   "metadata": {
    "tags": []
   },
   "outputs": [],
   "source": [
    "# Tree model classifiers\n",
    "songs_without_cluster = songs.drop('cluster', axis=1)\n",
    "tree_model = ExtraTreesClassifier().fit(songs_without_cluster, clusters)\n",
    "feature_importance = tree_model.feature_importances_\n",
    "\n",
    "ranked_features = [x for _, x in sorted(zip(feature_importance, songs_without_cluster.columns), reverse=True)]\n",
    "print(\"Ranked Features:\", ranked_features)"
   ]
  },
  {
   "cell_type": "code",
   "execution_count": null,
   "id": "518afead-9837-4eb7-9f50-4a1208f90413",
   "metadata": {
    "tags": []
   },
   "outputs": [],
   "source": [
    "features_with_importance = sorted(list(zip(songs_without_cluster.columns, feature_importance)), key=lambda x: x[1], reverse=True)\n",
    "\n",
    "for feature, importance in features_with_importance:\n",
    "    print(f\"Feature: {feature}, Importance: {importance}\")"
   ]
  },
  {
   "cell_type": "markdown",
   "id": "7e61f91b-0bac-4137-9b7a-64ddc281157a",
   "metadata": {},
   "source": [
    "Conclusion: Keep all features since their importance is above at least 1%. Maybe look at correlation."
   ]
  },
  {
   "cell_type": "markdown",
   "id": "f65fdaa3-6344-4ac4-87b1-573e7334ddfd",
   "metadata": {
    "tags": []
   },
   "source": [
    "### Correlational Adjustments"
   ]
  },
  {
   "cell_type": "markdown",
   "id": "58c9577b-c67a-4c17-9f9d-210e3556e6fe",
   "metadata": {},
   "source": [
    "Impact on Distance-based Models: In K-means or hierarchical clustering, correlated features might lead to distorted distances and thus clusters."
   ]
  },
  {
   "cell_type": "markdown",
   "id": "1550b21a-e37f-4f5d-8a5d-7310cdf7811a",
   "metadata": {
    "tags": []
   },
   "source": [
    "#### Correlation Matrix of Features"
   ]
  },
  {
   "cell_type": "markdown",
   "id": "67ffebc4-2274-4ee4-8dd9-01977a27a6e3",
   "metadata": {},
   "source": [
    "Let us look at the correlation between features, as to decide whether we can drop columns and refine our model."
   ]
  },
  {
   "cell_type": "code",
   "execution_count": null,
   "id": "5b39b99b-7893-4809-916d-160e3d6db8f6",
   "metadata": {
    "tags": []
   },
   "outputs": [],
   "source": [
    "# Assuming songs_robust is your DataFrame\n",
    "songs_cluster = songs.drop('cluster', axis=1)\n",
    "correlation_matrix = songs_cluster[songs_cluster.columns].corr()"
   ]
  },
  {
   "cell_type": "code",
   "execution_count": null,
   "id": "dbd10480-5476-43ee-b63c-357c7880ed26",
   "metadata": {
    "tags": []
   },
   "outputs": [],
   "source": [
    "plt.figure(figsize=(10,8))\n",
    "sns.heatmap(correlation_matrix, annot=True, cmap='coolwarm')\n",
    "plt.show()"
   ]
  },
  {
   "cell_type": "markdown",
   "id": "a65fda22-a0ed-426b-859c-6856e32d4a62",
   "metadata": {},
   "source": [
    "#### Dropping/ Keeping Variables"
   ]
  },
  {
   "cell_type": "code",
   "execution_count": null,
   "id": "3fdcc8f6-5704-4880-aaf9-1a50a3d2f461",
   "metadata": {
    "tags": []
   },
   "outputs": [],
   "source": [
    "songs_uncorrelated = songs.drop(columns=['energy', 'danceability', 'cluster'])\n",
    "# think about dropping danceability and energy due to correlation"
   ]
  },
  {
   "cell_type": "code",
   "execution_count": null,
   "id": "18ce1661-9bae-49fb-8452-86c65d17962d",
   "metadata": {
    "tags": []
   },
   "outputs": [],
   "source": [
    "kmeans = KMeans(n_init=10, n_clusters=48, random_state=213)  # random_state for reproducibility\n",
    "songs_uncorrelated['cluster'] = kmeans.fit_predict(songs_uncorrelated)"
   ]
  },
  {
   "cell_type": "code",
   "execution_count": null,
   "id": "573bd50c-fc62-4f1c-963b-aeff8c553414",
   "metadata": {
    "tags": []
   },
   "outputs": [],
   "source": [
    "# Assume kmeans is your clustering model and X is your data\n",
    "score = silhouette_score(songs_uncorrelated, kmeans.labels_, random_state=213)\n",
    "print(\"Silhouette Score: \", score)"
   ]
  },
  {
   "cell_type": "markdown",
   "id": "88f9e603-d580-4279-87f6-186eda8d458f",
   "metadata": {},
   "source": [
    "#### Looking at the two models"
   ]
  },
  {
   "cell_type": "code",
   "execution_count": null,
   "id": "a1f57571-24cb-4c7d-ae13-457766e54990",
   "metadata": {
    "tags": []
   },
   "outputs": [],
   "source": [
    "songs_uncorrelated.loc[songs_uncorrelated['cluster']==45].sample(10)"
   ]
  },
  {
   "cell_type": "code",
   "execution_count": null,
   "id": "5f61caf3-bd37-4933-8f85-0dcee598ede3",
   "metadata": {
    "tags": []
   },
   "outputs": [],
   "source": [
    "# Group by 'cluster' column and count observations\n",
    "cluster_counts = songs_uncorrelated.groupby('cluster').size().sort_values(ascending=False)\n",
    "\n",
    "cluster_counts"
   ]
  },
  {
   "cell_type": "code",
   "execution_count": null,
   "id": "98f3acaf-bc0f-42d9-a130-7f4e75ae9bad",
   "metadata": {
    "tags": []
   },
   "outputs": [],
   "source": [
    "songs_uncorrelated['danceability'] = np.log(songs_uncorrelated['danceability']+1)"
   ]
  },
  {
   "cell_type": "code",
   "execution_count": null,
   "id": "23297e2d-6a8b-402f-a1f2-585cd11d0568",
   "metadata": {
    "tags": []
   },
   "outputs": [],
   "source": [
    "kmeans = KMeans(n_init=10, n_clusters=k_minmax, random_state=213)  # random_state for reproducibility\n",
    "songs_uncorrelated['cluster'] = kmeans.fit_predict(songs_uncorrelated)\n",
    "# Assume kmeans is your clustering model and X is your data\n",
    "score = silhouette_score(songs_uncorrelated, kmeans.labels_, random_state=213)\n",
    "print(\"Silhouette Score: \", score)"
   ]
  },
  {
   "cell_type": "markdown",
   "id": "c5a0e670-5f9e-4f38-9fa1-4157e7151791",
   "metadata": {},
   "source": [
    "t-SNE, UMAP can be explored as models"
   ]
  },
  {
   "cell_type": "markdown",
   "id": "fe5bc4ca-5529-4a29-abc4-a579675717cf",
   "metadata": {},
   "source": [
    "Conclusion: The best model so far drops energy, danceability and uses the K-Means model while applying the MinMax Scaler. However, musically it makes more sense to include the two dropped variables, and thus, it gives another hint at the K-means model being inapprotriate for clustering songs."
   ]
  },
  {
   "cell_type": "code",
   "execution_count": null,
   "id": "d9d2d637-7cbf-445c-9cb0-d7b71bd1ce0d",
   "metadata": {
    "tags": []
   },
   "outputs": [],
   "source": [
    "# Group by 'cluster' column and count observations\n",
    "cluster_counts = songs.groupby('cluster').size().sort_values(ascending=False)\n",
    "\n",
    "cluster_counts"
   ]
  },
  {
   "cell_type": "code",
   "execution_count": null,
   "id": "72b485d2-fe59-4259-b61a-20a876063ffc",
   "metadata": {
    "tags": []
   },
   "outputs": [],
   "source": [
    "songs.loc[songs['cluster']==25].sample(10)"
   ]
  },
  {
   "cell_type": "markdown",
   "id": "3bf596aa-aedc-4607-88ee-91b77aa99cb7",
   "metadata": {},
   "source": [
    "# Radarplot"
   ]
  },
  {
   "cell_type": "code",
   "execution_count": null,
   "id": "c8a66eb1-53a1-4666-82dc-b725f1b88d80",
   "metadata": {},
   "outputs": [],
   "source": []
  },
  {
   "cell_type": "markdown",
   "id": "9b4111ef-e0db-492d-a861-34c0e19e3d93",
   "metadata": {},
   "source": [
    "# Export"
   ]
  },
  {
   "cell_type": "code",
   "execution_count": null,
   "id": "b0af4371-41b2-4b36-a793-89a8d3963bb7",
   "metadata": {
    "tags": []
   },
   "outputs": [],
   "source": [
    "# songs = songs_uncorrelated.copy()"
   ]
  },
  {
   "cell_type": "code",
   "execution_count": null,
   "id": "79c017f7-6e64-4042-9051-18edc6a90020",
   "metadata": {
    "tags": []
   },
   "outputs": [],
   "source": [
    "songs = songs.reset_index()"
   ]
  },
  {
   "cell_type": "code",
   "execution_count": null,
   "id": "60bc83ff-3977-4546-8f40-34b8a5a432d8",
   "metadata": {
    "tags": []
   },
   "outputs": [],
   "source": [
    "songs.to_csv('/Users/merlesteffen/Documents/GitHub/Moosic/Data/playlists.csv', index=False)"
   ]
  },
  {
   "cell_type": "code",
   "execution_count": null,
   "id": "f22081e1-3cee-4a9a-ae0b-ce85d4ffca7c",
   "metadata": {
    "tags": []
   },
   "outputs": [],
   "source": [
    "songs_uncorrelated.to_csv('/Users/merlesteffen/Documents/GitHub/Moosic/Data/playlists_2.csv', index=False)"
   ]
  },
  {
   "cell_type": "code",
   "execution_count": null,
   "id": "625d53e8-4a93-4c3e-9979-b7e947caea1f",
   "metadata": {
    "tags": []
   },
   "outputs": [],
   "source": [
    "print('This worked well.')"
   ]
  },
  {
   "cell_type": "code",
   "execution_count": null,
   "id": "774d7ce9-7813-4ba8-adf0-fd502b4905ca",
   "metadata": {},
   "outputs": [],
   "source": []
  }
 ],
 "metadata": {
  "kernelspec": {
   "display_name": "Python 3 (ipykernel)",
   "language": "python",
   "name": "python3"
  },
  "language_info": {
   "codemirror_mode": {
    "name": "ipython",
    "version": 3
   },
   "file_extension": ".py",
   "mimetype": "text/x-python",
   "name": "python",
   "nbconvert_exporter": "python",
   "pygments_lexer": "ipython3",
   "version": "3.11.4"
  },
  "toc-showmarkdowntxt": false
 },
 "nbformat": 4,
 "nbformat_minor": 5
}
